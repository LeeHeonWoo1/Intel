{
 "cells": [
  {
   "cell_type": "markdown",
   "metadata": {},
   "source": [
    "### 주차별 프로젝트(2주차 : 에어팟을 이용한 고장진단)\n",
    "각 이미지 별로 고장을 진단\n",
    "- 실질적인 고장 진단은 안되기에, 임의적인 클래스를 이용해서 고장났다고 가정을 한다.\n",
    "    + for example,\n",
    "    + 오른쪽 유닛이 없는 사진 ➡️ 오른쪽 유닛 고장\n",
    "    + 왼쪽 유닛이 없는 사진 ➡️ 왼쪽 유닛 고장\n",
    "    + 닫혀있는 사진 ➡️ 케이스 수리 요망\n",
    "    + 두 유닛 다 있는 사진 ➡️ 정상\n",
    "    + 두 유닛 다 없는 사진 ➡️ 모두 수리\n",
    "\n",
    "Project Flow\n",
    "- 이미지 수집\n",
    "- CNN 모델 빌드\n",
    "- 모델 평가\n",
    "- 모델 최적화\n",
    "\n",
    "### 필요 라이브러리 import"
   ]
  },
  {
   "cell_type": "code",
   "execution_count": 1,
   "metadata": {},
   "outputs": [],
   "source": [
    "import cv2\n",
    "import os\n",
    "import numpy as np\n",
    "import splitfolders\n",
    "import pandas as pd\n",
    "import winsound as wd\n",
    "import tensorflow as tf\n",
    "import matplotlib.pyplot as plt\n",
    "from glob import glob\n",
    "from keras.models import Model\n",
    "from keras.optimizers import Adam\n",
    "from keras.models import Sequential\n",
    "from keras.applications import densenet\n",
    "from keras.preprocessing.image import ImageDataGenerator\n",
    "from keras.layers import Dense, Conv2D, MaxPooling2D, Dropout, Flatten, Lambda\n",
    "from keras.callbacks import ReduceLROnPlateau, ModelCheckpoint, CSVLogger, EarlyStopping"
   ]
  },
  {
   "cell_type": "markdown",
   "metadata": {},
   "source": [
    "### 이미지 수집\n",
    "1회차\n",
    "- 다이소 캠을 이용, 각도를 달리하고 물체의 일부분을 가려가면서 각 케이스별로 5장씩 수집(에어팟 케이스 x)\n",
    "\n",
    "2회차\n",
    "- 다이소 캠을 이용, 각도를 달리하고 물체의 일부분을 가려가면서 각 케이스별로 3장씩 수집(에어팟 케이스 x)\n",
    "\n",
    "3회차\n",
    "- 다이소 캠을 이용, 각도를 달리하고 물체의 일부분을 가려가면서 각 케이스별로 5장씩 수집(에어팟 케이스 o)\n",
    "\n",
    "4회차\n",
    "- 휴대폰으로 영상 촬영, 물체의 일부분을 가리는 과정 없이 각도만 달리하며 cv2로 캡쳐 후 사용. (에어팟 케이스 x) 각 각도별 5장\n",
    "\n",
    "5회차\n",
    "- 휴대폰으로 영상 촬영, 물체의 일부분을 가리는 과정 없이 각도만 달리하며 cv2로 캡쳐 후 사용. (에어팟 케이스 x) 각 각도별 2장\n",
    "    + 4회차보다 세밀한 각도 조정\n",
    "    + 정방형 촬영을 통한 물체 확대 촬영"
   ]
  },
  {
   "cell_type": "code",
   "execution_count": 2,
   "metadata": {},
   "outputs": [],
   "source": [
    "vid_list = os.listdir(\"./video/\")\n",
    "for i, vid in enumerate(vid_list):\n",
    "    cap = cv2.VideoCapture(f\"./video/{vid}\")\n",
    "    save_main_dir = \"./image2\"\n",
    "    class_list = [\"closed\", \"left_missing\", \"missing_all\", \"opened\", \"right_missing\"]\n",
    "\n",
    "    for dir_name in class_list:\n",
    "        if not os.path.isdir(f\"{save_main_dir}/{dir_name}\"):\n",
    "            os.mkdir(f\"{save_main_dir}/{dir_name}\")\n",
    "\n",
    "    file_cnt = 0\n",
    "    while True:\n",
    "        ret, frame = cap.read()\n",
    "        if not ret:\n",
    "            break\n",
    "        \n",
    "        key = cv2.waitKey(15)\n",
    "        cv2.imshow(\"frame\", frame)\n",
    "        \n",
    "        if key == ord(str(i+1)):\n",
    "            cv2.imwrite(f\"{save_main_dir}/{class_list[i]}/{file_cnt}.jpg\", frame)\n",
    "            file_cnt += 1\n",
    "            \n",
    "        if key == ord(\"q\"):\n",
    "            break\n",
    "\n",
    "    cv2.destroyAllWindows()"
   ]
  },
  {
   "cell_type": "markdown",
   "metadata": {},
   "source": [
    "### 클래스 별 이미지 개수 확인"
   ]
  },
  {
   "cell_type": "code",
   "execution_count": 3,
   "metadata": {},
   "outputs": [
    {
     "name": "stdout",
     "output_type": "stream",
     "text": [
      "95\n",
      "115\n",
      "116\n",
      "108\n",
      "112\n"
     ]
    }
   ],
   "source": [
    "for dir in os.listdir(\"./image/\"):\n",
    "    print(len(os.listdir(f\"./image/{dir}\")))"
   ]
  },
  {
   "cell_type": "markdown",
   "metadata": {},
   "source": [
    "### 데이터셋 분할\n",
    "train, test, val으로 분할"
   ]
  },
  {
   "cell_type": "code",
   "execution_count": 4,
   "metadata": {},
   "outputs": [
    {
     "name": "stderr",
     "output_type": "stream",
     "text": [
      "Copying files: 546 files [00:00, 3418.70 files/s]\n"
     ]
    }
   ],
   "source": [
    "splitfolders.ratio(\"./image/\", \"./output2\", seed = 1337, ratio = (.8, .1, .1))"
   ]
  },
  {
   "cell_type": "markdown",
   "metadata": {},
   "source": [
    "### 이미지 데이터 전처리\n",
    "이미지 증강처리\n",
    "- 별도의 추가 효과 없이 정규화만 진행"
   ]
  },
  {
   "cell_type": "code",
   "execution_count": 5,
   "metadata": {},
   "outputs": [],
   "source": [
    "train_path = './output2/train/'\n",
    "valid_path = './output2/val/'\n",
    "\n",
    "train_generator = ImageDataGenerator(\n",
    "    rescale = 1. / 255. ,\n",
    "    # brightness_range = (0.5, 0.6),\n",
    "    # width_shift_range = 0.2,\n",
    "    # height_shift_range = 0.2, \n",
    "    # rotation_range = 7\n",
    "    # zoom_range = 0.1\n",
    ")\n",
    "\n",
    "valid_generator = ImageDataGenerator(\n",
    "    rescale = 1. / 255.\n",
    ")"
   ]
  },
  {
   "cell_type": "code",
   "execution_count": 6,
   "metadata": {},
   "outputs": [
    {
     "name": "stdout",
     "output_type": "stream",
     "text": [
      "Found 435 images belonging to 5 classes.\n"
     ]
    },
    {
     "name": "stdout",
     "output_type": "stream",
     "text": [
      "Found 52 images belonging to 5 classes.\n"
     ]
    }
   ],
   "source": [
    "train_set = train_generator.flow_from_directory(\n",
    "    train_path,\n",
    "    target_size = (480, 640),\n",
    "    color_mode = \"rgb\",\n",
    "    batch_size = 4,\n",
    "    class_mode = \"categorical\"\n",
    ")\n",
    "\n",
    "valid_set = valid_generator.flow_from_directory(\n",
    "    valid_path,\n",
    "    target_size = (480, 640),\n",
    "    color_mode = \"rgb\",\n",
    "    batch_size = 4,\n",
    "    class_mode = \"categorical\"\n",
    ")"
   ]
  },
  {
   "cell_type": "markdown",
   "metadata": {},
   "source": [
    "### CNN 모델 빌드"
   ]
  },
  {
   "cell_type": "code",
   "execution_count": 7,
   "metadata": {},
   "outputs": [],
   "source": [
    "def get_model():\n",
    "    model = Sequential()\n",
    "    model.add(Conv2D(32, (3, 3), activation = \"relu\", input_shape = (480, 640, 3)))\n",
    "    model.add(MaxPooling2D((2, 2)))\n",
    "    model.add(Conv2D(64, (3, 3), activation = \"relu\"))\n",
    "    model.add(MaxPooling2D(2, 2))\n",
    "    model.add(Flatten())\n",
    "    model.add(Dense(64, activation = \"relu\"))\n",
    "    model.add(Dropout(0.3))\n",
    "    model.add(Dense(5, activation = \"softmax\"))\n",
    "    \n",
    "    return model\n",
    " \n",
    "model = get_model()\n",
    "model.compile(optimizer = \"adam\", loss = \"categorical_crossentropy\", metrics = ['acc'])"
   ]
  },
  {
   "cell_type": "markdown",
   "metadata": {},
   "source": [
    "### Callback 함수 정의"
   ]
  },
  {
   "cell_type": "code",
   "execution_count": 8,
   "metadata": {},
   "outputs": [],
   "source": [
    "if not os.path.isdir(\"./models\"):\n",
    "    os.mkdir(\"./models\")\n",
    "    os.mkdir(\"./models/history\")\n",
    "\n",
    "els = EarlyStopping(monitor = \"val_loss\", mode = \"min\", patience = 5)\n",
    "csv = CSVLogger(\"./models/history/training_history.csv\")                            \n",
    "check_point = ModelCheckpoint(\"./models/weights/{epoch:02d}-{val_loss:.2f}.hdf5\", \n",
    "                              monitor = \"val_loss\",  \n",
    "                              save_best_only = True, \n",
    "                              mode = \"min\"                                        \n",
    "                            )\n",
    "reduce_lr = ReduceLROnPlateau(monitor = \"val_loss\", factor = 0.3, mode = \"min\", patience = 2)\n",
    "\n",
    "callback_functions = [els, csv, check_point, reduce_lr]"
   ]
  },
  {
   "cell_type": "markdown",
   "metadata": {},
   "source": [
    "### CNN모델 학습"
   ]
  },
  {
   "cell_type": "code",
   "execution_count": 9,
   "metadata": {},
   "outputs": [
    {
     "name": "stdout",
     "output_type": "stream",
     "text": [
      "Epoch 1/150\n",
      "109/109 [==============================] - 11s 68ms/step - loss: 4.5427 - acc: 0.2529 - val_loss: 1.5068 - val_acc: 0.3269 - lr: 0.0010\n",
      "Epoch 2/150\n",
      "109/109 [==============================] - 6s 55ms/step - loss: 1.0815 - acc: 0.6575 - val_loss: 1.2090 - val_acc: 0.6731 - lr: 0.0010\n",
      "Epoch 3/150\n",
      "109/109 [==============================] - 6s 54ms/step - loss: 0.2609 - acc: 0.9241 - val_loss: 1.0246 - val_acc: 0.7885 - lr: 0.0010\n",
      "Epoch 4/150\n",
      "109/109 [==============================] - 5s 45ms/step - loss: 0.0613 - acc: 0.9770 - val_loss: 1.5335 - val_acc: 0.7885 - lr: 0.0010\n",
      "Epoch 5/150\n",
      "109/109 [==============================] - 5s 45ms/step - loss: 0.0125 - acc: 1.0000 - val_loss: 1.6461 - val_acc: 0.7885 - lr: 0.0010\n",
      "Epoch 6/150\n",
      "109/109 [==============================] - 5s 45ms/step - loss: 0.0271 - acc: 0.9908 - val_loss: 1.5323 - val_acc: 0.7885 - lr: 3.0000e-04\n",
      "Epoch 7/150\n",
      "109/109 [==============================] - 5s 45ms/step - loss: 0.0129 - acc: 0.9977 - val_loss: 1.6853 - val_acc: 0.7885 - lr: 3.0000e-04\n",
      "Epoch 8/150\n",
      "109/109 [==============================] - 5s 45ms/step - loss: 0.0072 - acc: 0.9977 - val_loss: 1.7786 - val_acc: 0.7885 - lr: 9.0000e-05\n"
     ]
    },
    {
     "data": {
      "text/plain": [
       "<keras.callbacks.History at 0x1ba299c8220>"
      ]
     },
     "execution_count": 9,
     "metadata": {},
     "output_type": "execute_result"
    }
   ],
   "source": [
    "model.fit(train_set, \n",
    "          steps_per_epoch = len(train_set), \n",
    "          epochs = 150, validation_data = valid_set, \n",
    "          validation_steps = len(valid_set),\n",
    "          callbacks = callback_functions\n",
    "        )"
   ]
  },
  {
   "cell_type": "markdown",
   "metadata": {},
   "source": [
    "### CNN 모델 학습곡선 가시화"
   ]
  },
  {
   "cell_type": "code",
   "execution_count": 10,
   "metadata": {},
   "outputs": [
    {
     "data": {
      "image/png": "[encoded data removed]",
      "text/plain": [
       "<Figure size 1200x500 with 2 Axes>"
      ]
     },
     "metadata": {},
     "output_type": "display_data"
    }
   ],
   "source": [
    "history = pd.read_csv(\"./models/history/training_history.csv\")\n",
    "\n",
    "plt.figure(figsize=(12, 5))\n",
    "plt.subplot(1, 2, 1)\n",
    "plt.plot(history['epoch'], history['acc'], label = \"train_acc\")\n",
    "plt.plot(history['epoch'], history['val_acc'], label = \"val_acc\")\n",
    "plt.legend()\n",
    "\n",
    "plt.subplot(1, 2, 2)\n",
    "plt.plot(history['epoch'], history['loss'], label = \"train_loss\")\n",
    "plt.plot(history['epoch'], history['val_loss'], label = \"val_loss\")\n",
    "plt.legend()\n",
    "\n",
    "plt.show()"
   ]
  },
  {
   "cell_type": "markdown",
   "metadata": {},
   "source": [
    "### 학습된 모델을 기반으로 예측\n",
    "test 폴더에 있는 이미지들과 웹캠을 이용해 예측을 진행한다"
   ]
  },
  {
   "cell_type": "code",
   "execution_count": 11,
   "metadata": {},
   "outputs": [
    {
     "name": "stdout",
     "output_type": "stream",
     "text": [
      "==============================\n",
      "./output2/test\\closed\\28.jpg\n",
      "closed\n",
      "==============================\n",
      "./output2/test\\closed\\47.jpg\n",
      "closed\n",
      "==============================\n",
      "./output2/test\\closed\\50.jpg\n",
      "closed\n",
      "==============================\n",
      "./output2/test\\closed\\53.jpg\n",
      "missing_all\n",
      "==============================\n",
      "./output2/test\\closed\\70.jpg\n",
      "missing_all\n",
      "==============================\n",
      "./output2/test\\closed\\75.jpg\n",
      "opened\n",
      "==============================\n",
      "./output2/test\\closed\\76.jpg\n",
      "opened\n",
      "==============================\n",
      "./output2/test\\closed\\80.jpg\n",
      "closed\n",
      "==============================\n",
      "./output2/test\\closed\\82.jpg\n",
      "closed\n",
      "==============================\n",
      "./output2/test\\closed\\90.jpg\n",
      "closed\n"
     ]
    }
   ],
   "source": [
    "# Test Directory First\n",
    "class_list = {\n",
    "    0 : \"closed\", \n",
    "    1 : \"left_missing\",\n",
    "    2 : \"missing_all\", \n",
    "    3 : \"opened\",\n",
    "    4 : \"right_missing\"\n",
    "}\n",
    "\n",
    "model = get_model()\n",
    "model.load_weights(\"./models/weights/03-1.06.hdf5\")\n",
    "\n",
    "test_file_path = glob(\"./output2/test/*/*.jpg\")\n",
    "for i in range(10):\n",
    "    test_image = cv2.imread(test_file_path[i])\n",
    "    test_data = np.array(test_image)[:480, :640, :].reshape(1, 480, 640, 3)\n",
    "    \n",
    "    y_pred = model.predict(test_data, verbose = 0)\n",
    "    y_true = test_file_path[i]\n",
    "    print(\"=\"*30)\n",
    "    print(y_true)\n",
    "    print(class_list[np.argmax(y_pred)])"
   ]
  },
  {
   "cell_type": "code",
   "execution_count": 12,
   "metadata": {},
   "outputs": [],
   "source": [
    "model = get_model()\n",
    "model.load_weights(\"./models/weights/03-1.06.hdf5\")\n",
    "\n",
    "def get_result(frame, model):\n",
    "    test_images_path = \"./model_testing\"\n",
    "    cv2.imwrite(f\"{test_images_path}/my_test.jpg\", frame)\n",
    "    img = cv2.imread(f\"{test_images_path}/my_test.jpg\")\n",
    "    test_data = np.array(test_image)[:480, :640, :].reshape(1, 480, 640, 3)\n",
    "    \n",
    "    y_pred = model.predict(test_data, verbose = 0)\n",
    "    result = class_list[np.argmax(y_pred)]\n",
    "    \n",
    "    return result"
   ]
  },
  {
   "cell_type": "code",
   "execution_count": 13,
   "metadata": {},
   "outputs": [],
   "source": [
    "cap = cv2.VideoCapture(0)\n",
    "while True:\n",
    "    res, frame = cap.read()\n",
    "    \n",
    "    if not res:\n",
    "        break\n",
    "    \n",
    "    key = cv2.waitKey(1)\n",
    "    result = get_result(frame, model)\n",
    "    \n",
    "    font = cv2.FONT_HERSHEY_PLAIN\n",
    "    green = (255, 0, 0)\n",
    "    \n",
    "    img = cv2.putText(frame, result, (350, 40), font, 2, green, 1, cv2.LINE_AA)\n",
    "    cv2.imshow(\"RESULTS\", img)\n",
    "    \n",
    "    if result == \"there's no any units\":\n",
    "        wd.Beep(500, 1000)\n",
    "    \n",
    "    if key == ord('q'):\n",
    "        break\n",
    "    \n",
    "cv2.destroyAllWindows()"
   ]
  },
  {
   "cell_type": "markdown",
   "metadata": {},
   "source": [
    "### 전이학습 모델 빌드\n",
    "- Densenet을 활용, 전이학습 모델 빌드\n",
    "\n",
    "### Why Densenet?\n",
    "DenseNet의 핵심 아이디어는 **\"Feed Forward시 각 layer들이 다른 모든 layer들과 연결을 한다.\"** 라는 점에 있다. DenseNet의 논문을 참고하면 이런 핵심 아이디어로 부터 얻을 수 있는 4가지의 장점을 주장한다.\n",
    "\n",
    "- 기울기 소실 문제를 완화할 수 있다.\n",
    "- Feature Propagation을 강화할 수 있다.\n",
    "- Feature의 재사용이 가능하다.\n",
    "- parameter의 수를 줄일 수 있다.\n",
    "\n",
    "수많은 layer의 연결로 이뤄진 모델이기에 위의 세 가지 장점은 이해가 된다만, parameter의 수는 오히려 증가하지 않는가 하는 의문도 든다. 어떻게 줄어드는걸까?\n",
    "\n",
    "DenseNet의 실제 연결 과정을 보면 아래와 같다.\n",
    "<div align=center><img src=\"../image/DenseNet.png\"></div>\n",
    "\n",
    "왼쪽은 ResNet모델의 연결과정으로, Feature들을 채널축으로 그냥 더해준다. 반면에 오른쪽의 DenseNet연결 방식은 Feature들을 채널축으로 concatenation을 통해서 연결시켜준다.\n",
    "\n",
    "이렇게 발생하는 차이점은 DenseNet은 output Feature의 channel이 더 커진다는 것인데, 이를 위해서 DenseNet의 한 layer의 output의 channel의 크기를 제한하는데, 이를 `Growth Rate`라고 한다. 이 GrowthRate가 하는 역할은 아래와 같다.\n",
    "- Feature를 concat하는 DenseNet의 특성상 연산량이 많아질 수 밖에 없다.\n",
    "- 이 때 GrowthRate:k는 각 layer에서 몇 개의 Feature map이 생성될지를 조절하는 역할을 한다."
   ]
  },
  {
   "cell_type": "code",
   "execution_count": 14,
   "metadata": {},
   "outputs": [],
   "source": [
    "def get_pretrained_model():\n",
    "    my_params = {\n",
    "        'weights' : 'imagenet',\n",
    "        'include_top' : False,\n",
    "        'pooling' : 'max',\n",
    "        'classes' : 5,\n",
    "        'classifier_activation' : 'softmax',\n",
    "        'input_shape' : (480, 640, 3)\n",
    "    }\n",
    "\n",
    "    pred_model = densenet.DenseNet201(**my_params)\n",
    "    \n",
    "    for layer in pred_model.layers: \n",
    "        layer.trainable = False\n",
    "\n",
    "    pre_input_layer = pred_model.input\n",
    "    pre_output_layer = pred_model.output\n",
    "    x = Dense(64, activation = \"relu\")(pre_output_layer)\n",
    "    x = Dropout(0.3)(x)\n",
    "    x = Dense(5, activation = \"softmax\")(x)\n",
    "\n",
    "    pretrained_model = Model(pre_input_layer, x)\n",
    "    optim = Adam(0.001)\n",
    "    pretrained_model.compile(optimizer = optim, loss = \"categorical_crossentropy\", metrics = ['acc'])\n",
    "    \n",
    "    return pretrained_model"
   ]
  },
  {
   "cell_type": "markdown",
   "metadata": {},
   "source": [
    "### 전이학습 전용 데이터셋 생성"
   ]
  },
  {
   "cell_type": "code",
   "execution_count": 15,
   "metadata": {},
   "outputs": [
    {
     "name": "stdout",
     "output_type": "stream",
     "text": [
      "Found 435 images belonging to 5 classes.\n",
      "Found 52 images belonging to 5 classes.\n"
     ]
    }
   ],
   "source": [
    "pre_train_generator = ImageDataGenerator(\n",
    "    rescale = 1./255. ,\n",
    ")\n",
    "\n",
    "pretrained_train_set = pre_train_generator.flow_from_directory(\n",
    "    train_path,\n",
    "    target_size = (480, 640),\n",
    "    color_mode = \"rgb\",\n",
    "    batch_size = 4,\n",
    "    class_mode = \"categorical\"\n",
    ")\n",
    "\n",
    "pretrained_valid_set = valid_generator.flow_from_directory(\n",
    "    valid_path,\n",
    "    target_size = (480, 640),\n",
    "    color_mode = \"rgb\",\n",
    "    batch_size = 4,\n",
    "    class_mode = \"categorical\"\n",
    ")"
   ]
  },
  {
   "cell_type": "markdown",
   "metadata": {},
   "source": [
    "### 전이학습용 Call back 함수 정의"
   ]
  },
  {
   "cell_type": "code",
   "execution_count": 16,
   "metadata": {},
   "outputs": [],
   "source": [
    "pre_els = EarlyStopping(monitor = \"val_loss\", mode = \"min\", patience = 5)\n",
    "pre_csv = CSVLogger(\"./models/densenet/history/training_history.csv\")\n",
    "pre_check_point = ModelCheckpoint(\"./models/densenet/weights/{epoch:02d}-{val_loss:.2f}.hdf5\", \n",
    "                              monitor = \"val_loss\", \n",
    "                              save_best_only = True,\n",
    "                              mode = \"min\"\n",
    "                              )\n",
    "pre_reduce_lr = ReduceLROnPlateau(monitor = \"val_loss\", factor = 0.3, mode = \"min\", patience = 2)\n",
    "pre_callback_functions = [pre_csv, pre_check_point, pre_reduce_lr, pre_els]"
   ]
  },
  {
   "cell_type": "markdown",
   "metadata": {},
   "source": [
    "### 전이학습 모델 훈련"
   ]
  },
  {
   "cell_type": "code",
   "execution_count": 17,
   "metadata": {},
   "outputs": [
    {
     "name": "stdout",
     "output_type": "stream",
     "text": [
      "Epoch 1/150\n",
      "109/109 [==============================] - 20s 129ms/step - loss: 1.8036 - acc: 0.3793 - val_loss: 0.9281 - val_acc: 0.5385 - lr: 0.0010\n",
      "Epoch 2/150\n",
      "109/109 [==============================] - 12s 107ms/step - loss: 0.9451 - acc: 0.5747 - val_loss: 0.7389 - val_acc: 0.7500 - lr: 0.0010\n",
      "Epoch 3/150\n",
      "109/109 [==============================] - 12s 107ms/step - loss: 0.7916 - acc: 0.6506 - val_loss: 0.5717 - val_acc: 0.7885 - lr: 0.0010\n",
      "Epoch 4/150\n",
      "109/109 [==============================] - 12s 107ms/step - loss: 0.7107 - acc: 0.6644 - val_loss: 0.4920 - val_acc: 0.8846 - lr: 0.0010\n",
      "Epoch 5/150\n",
      "109/109 [==============================] - 12s 107ms/step - loss: 0.6272 - acc: 0.7149 - val_loss: 0.4057 - val_acc: 0.8846 - lr: 0.0010\n",
      "Epoch 6/150\n",
      "109/109 [==============================] - 12s 107ms/step - loss: 0.6114 - acc: 0.7310 - val_loss: 0.3356 - val_acc: 0.9615 - lr: 0.0010\n",
      "Epoch 7/150\n",
      "109/109 [==============================] - 11s 101ms/step - loss: 0.5394 - acc: 0.7632 - val_loss: 0.3695 - val_acc: 0.9423 - lr: 0.0010\n",
      "Epoch 8/150\n",
      "109/109 [==============================] - 11s 101ms/step - loss: 0.5555 - acc: 0.7563 - val_loss: 0.3596 - val_acc: 0.9615 - lr: 0.0010\n",
      "Epoch 9/150\n",
      "109/109 [==============================] - 12s 107ms/step - loss: 0.4620 - acc: 0.8023 - val_loss: 0.2643 - val_acc: 0.9808 - lr: 3.0000e-04\n",
      "Epoch 10/150\n",
      "109/109 [==============================] - 11s 101ms/step - loss: 0.4366 - acc: 0.8184 - val_loss: 0.2801 - val_acc: 0.9615 - lr: 3.0000e-04\n",
      "Epoch 11/150\n",
      "109/109 [==============================] - 12s 108ms/step - loss: 0.4707 - acc: 0.7816 - val_loss: 0.2438 - val_acc: 1.0000 - lr: 3.0000e-04\n",
      "Epoch 12/150\n",
      "109/109 [==============================] - 12s 108ms/step - loss: 0.4309 - acc: 0.7908 - val_loss: 0.2184 - val_acc: 1.0000 - lr: 3.0000e-04\n",
      "Epoch 13/150\n",
      "109/109 [==============================] - 11s 101ms/step - loss: 0.4340 - acc: 0.7977 - val_loss: 0.2578 - val_acc: 0.9423 - lr: 3.0000e-04\n",
      "Epoch 14/150\n",
      "109/109 [==============================] - 11s 101ms/step - loss: 0.4451 - acc: 0.8069 - val_loss: 0.2188 - val_acc: 0.9808 - lr: 3.0000e-04\n",
      "Epoch 15/150\n",
      "109/109 [==============================] - 12s 108ms/step - loss: 0.4396 - acc: 0.8092 - val_loss: 0.2152 - val_acc: 1.0000 - lr: 9.0000e-05\n",
      "Epoch 16/150\n",
      "109/109 [==============================] - 12s 107ms/step - loss: 0.3604 - acc: 0.8437 - val_loss: 0.1943 - val_acc: 1.0000 - lr: 9.0000e-05\n",
      "Epoch 17/150\n",
      "109/109 [==============================] - 11s 101ms/step - loss: 0.4146 - acc: 0.8092 - val_loss: 0.1948 - val_acc: 1.0000 - lr: 9.0000e-05\n",
      "Epoch 18/150\n",
      "109/109 [==============================] - 11s 101ms/step - loss: 0.4072 - acc: 0.8184 - val_loss: 0.2084 - val_acc: 1.0000 - lr: 9.0000e-05\n",
      "Epoch 19/150\n",
      "109/109 [==============================] - 11s 101ms/step - loss: 0.4260 - acc: 0.8069 - val_loss: 0.2035 - val_acc: 1.0000 - lr: 2.7000e-05\n",
      "Epoch 20/150\n",
      "109/109 [==============================] - 12s 109ms/step - loss: 0.3857 - acc: 0.8207 - val_loss: 0.1935 - val_acc: 1.0000 - lr: 2.7000e-05\n",
      "Epoch 21/150\n",
      "109/109 [==============================] - 11s 101ms/step - loss: 0.4564 - acc: 0.7885 - val_loss: 0.1989 - val_acc: 1.0000 - lr: 2.7000e-05\n",
      "Epoch 22/150\n",
      "109/109 [==============================] - 11s 101ms/step - loss: 0.4515 - acc: 0.7954 - val_loss: 0.2009 - val_acc: 1.0000 - lr: 2.7000e-05\n",
      "Epoch 23/150\n",
      "109/109 [==============================] - 11s 101ms/step - loss: 0.3942 - acc: 0.8345 - val_loss: 0.1950 - val_acc: 1.0000 - lr: 8.1000e-06\n",
      "Epoch 24/150\n",
      "109/109 [==============================] - 12s 108ms/step - loss: 0.3926 - acc: 0.8161 - val_loss: 0.1929 - val_acc: 1.0000 - lr: 8.1000e-06\n",
      "Epoch 25/150\n",
      "109/109 [==============================] - 12s 113ms/step - loss: 0.3718 - acc: 0.8299 - val_loss: 0.1888 - val_acc: 1.0000 - lr: 8.1000e-06\n",
      "Epoch 26/150\n",
      "109/109 [==============================] - 12s 114ms/step - loss: 0.3908 - acc: 0.8276 - val_loss: 0.1857 - val_acc: 1.0000 - lr: 8.1000e-06\n",
      "Epoch 27/150\n",
      "109/109 [==============================] - 12s 112ms/step - loss: 0.3694 - acc: 0.8368 - val_loss: 0.1852 - val_acc: 1.0000 - lr: 8.1000e-06\n",
      "Epoch 28/150\n",
      "109/109 [==============================] - 12s 112ms/step - loss: 0.4325 - acc: 0.8023 - val_loss: 0.1835 - val_acc: 1.0000 - lr: 8.1000e-06\n",
      "Epoch 29/150\n",
      "109/109 [==============================] - 12s 105ms/step - loss: 0.3901 - acc: 0.8230 - val_loss: 0.1839 - val_acc: 1.0000 - lr: 8.1000e-06\n",
      "Epoch 30/150\n",
      "109/109 [==============================] - 12s 114ms/step - loss: 0.4016 - acc: 0.8092 - val_loss: 0.1822 - val_acc: 1.0000 - lr: 8.1000e-06\n",
      "Epoch 31/150\n",
      "109/109 [==============================] - 11s 104ms/step - loss: 0.4177 - acc: 0.8023 - val_loss: 0.1826 - val_acc: 1.0000 - lr: 8.1000e-06\n",
      "Epoch 32/150\n",
      "109/109 [==============================] - 12s 106ms/step - loss: 0.3867 - acc: 0.8230 - val_loss: 0.1823 - val_acc: 1.0000 - lr: 8.1000e-06\n",
      "Epoch 33/150\n",
      "109/109 [==============================] - 12s 106ms/step - loss: 0.3986 - acc: 0.8207 - val_loss: 0.1823 - val_acc: 1.0000 - lr: 2.4300e-06\n",
      "Epoch 34/150\n",
      "109/109 [==============================] - 12s 112ms/step - loss: 0.3879 - acc: 0.8207 - val_loss: 0.1818 - val_acc: 1.0000 - lr: 2.4300e-06\n",
      "Epoch 35/150\n",
      "109/109 [==============================] - 11s 105ms/step - loss: 0.4461 - acc: 0.7862 - val_loss: 0.1820 - val_acc: 1.0000 - lr: 2.4300e-06\n",
      "Epoch 36/150\n",
      "109/109 [==============================] - 11s 104ms/step - loss: 0.4096 - acc: 0.7931 - val_loss: 0.1827 - val_acc: 1.0000 - lr: 2.4300e-06\n",
      "Epoch 37/150\n",
      "109/109 [==============================] - 11s 104ms/step - loss: 0.4058 - acc: 0.8092 - val_loss: 0.1828 - val_acc: 1.0000 - lr: 7.2900e-07\n",
      "Epoch 38/150\n",
      "109/109 [==============================] - 12s 106ms/step - loss: 0.4251 - acc: 0.7862 - val_loss: 0.1830 - val_acc: 1.0000 - lr: 7.2900e-07\n",
      "Epoch 39/150\n",
      "109/109 [==============================] - 12s 106ms/step - loss: 0.3815 - acc: 0.8368 - val_loss: 0.1830 - val_acc: 1.0000 - lr: 2.1870e-07\n"
     ]
    },
    {
     "data": {
      "text/plain": [
       "<keras.callbacks.History at 0x1ba9f29f0a0>"
      ]
     },
     "execution_count": 17,
     "metadata": {},
     "output_type": "execute_result"
    }
   ],
   "source": [
    "if not os.path.isdir(\"./models/densenet\"):\n",
    "    os.mkdir(\"./models/densenet\")\n",
    "    os.mkdir(\"./models/densenet/history\")\n",
    "\n",
    "pretrained_model = get_pretrained_model()\n",
    "pretrained_model.fit(pretrained_train_set, \n",
    "                    steps_per_epoch = len(pretrained_train_set), \n",
    "                    epochs = 150, validation_data = pretrained_valid_set, \n",
    "                    validation_steps = len(pretrained_valid_set),\n",
    "                    callbacks = pre_callback_functions\n",
    "                )"
   ]
  },
  {
   "cell_type": "markdown",
   "metadata": {},
   "source": [
    "### 전이학습 학습곡선 가시화"
   ]
  },
  {
   "cell_type": "code",
   "execution_count": 18,
   "metadata": {},
   "outputs": [
    {
     "data": {
      "image/png": "[encoded data removed]",
      "text/plain": [
       "<Figure size 1200x500 with 2 Axes>"
      ]
     },
     "metadata": {},
     "output_type": "display_data"
    }
   ],
   "source": [
    "history = pd.read_csv(\"./models/densenet/history/training_history.csv\")\n",
    "\n",
    "plt.figure(figsize=(12, 5))\n",
    "plt.subplot(1, 2, 1)\n",
    "plt.plot(history['epoch'], history['acc'], label = \"train_acc\")\n",
    "plt.plot(history['epoch'], history['val_acc'], label = \"val_acc\")\n",
    "plt.legend()\n",
    "\n",
    "plt.subplot(1, 2, 2)\n",
    "plt.plot(history['epoch'], history['loss'], label = \"train_loss\")\n",
    "plt.plot(history['epoch'], history['val_loss'], label = \"val_loss\")\n",
    "plt.legend()\n",
    "\n",
    "plt.show()"
   ]
  },
  {
   "cell_type": "markdown",
   "metadata": {},
   "source": [
    "### 모델 예측(Test Directory & Capture from Camera)\n"
   ]
  },
  {
   "cell_type": "code",
   "execution_count": 19,
   "metadata": {},
   "outputs": [
    {
     "name": "stdout",
     "output_type": "stream",
     "text": [
      "./output2/test\\closed\\28.jpg\n",
      "missing_all\n",
      "./output2/test\\closed\\47.jpg\n",
      "missing_all\n",
      "./output2/test\\closed\\50.jpg\n",
      "closed\n",
      "./output2/test\\closed\\53.jpg\n",
      "missing_all\n",
      "./output2/test\\closed\\70.jpg\n",
      "missing_all\n",
      "./output2/test\\closed\\75.jpg\n",
      "missing_all\n",
      "./output2/test\\closed\\76.jpg\n",
      "missing_all\n",
      "./output2/test\\closed\\80.jpg\n",
      "missing_all\n",
      "./output2/test\\closed\\82.jpg\n",
      "closed\n",
      "./output2/test\\closed\\90.jpg\n",
      "closed\n"
     ]
    }
   ],
   "source": [
    "# Test Directory First\n",
    "class_list = {\n",
    "    0 : \"closed\", \n",
    "    1 : \"left_missing\",\n",
    "    2 : \"missing_all\", \n",
    "    3 : \"opened\",\n",
    "    4 : \"right_missing\"\n",
    "}\n",
    "\n",
    "pretrained_model = get_pretrained_model()\n",
    "pretrained_model.load_weights(\"./models/densenet/weights/28-0.10.hdf5\")\n",
    "\n",
    "test_file_path = glob(\"./output2/test/*/*.jpg\")\n",
    "for i in range(10):\n",
    "    test_image = cv2.imread(test_file_path[i])\n",
    "    test_data = np.array(test_image)[:480, :640, :].reshape(1, 480, 640, 3)\n",
    "    \n",
    "    y_pred = pretrained_model.predict(test_data, verbose = 0)\n",
    "    y_true = test_file_path[i]\n",
    "    print(y_true)\n",
    "    print(class_list[np.argmax(y_pred)])"
   ]
  },
  {
   "cell_type": "code",
   "execution_count": 20,
   "metadata": {},
   "outputs": [],
   "source": [
    "def get_result(frame, model):\n",
    "    \n",
    "    test_images_path = \"./model_testing\"\n",
    "    cv2.imwrite(f\"{test_images_path}/my_test.jpg\", frame)\n",
    "    img = cv2.imread(f\"{test_images_path}/my_test.jpg\")\n",
    "    test_data = np.array(img)[:480, :640, :].reshape(1, 480, 640, 3)\n",
    "    \n",
    "    y_pred = model.predict(test_data, verbose = 0)\n",
    "    result = class_list[np.argmax(y_pred)]\n",
    "    \n",
    "    return result"
   ]
  },
  {
   "cell_type": "code",
   "execution_count": 21,
   "metadata": {},
   "outputs": [],
   "source": [
    "# if not os.path.isdir(\"./model_testing\"):\n",
    "#     os.mkdir('./model_testing')\n",
    "\n",
    "pretrained_model = get_pretrained_model()\n",
    "pretrained_model.load_weights(\"./models/densenet/weights/28-0.10.hdf5\")\n",
    "\n",
    "cap = cv2.VideoCapture(0)\n",
    "cap.set(3, 1280)\n",
    "cap.set(4, 960)\n",
    "while True:\n",
    "    res, frame = cap.read()\n",
    "    \n",
    "    if not res:\n",
    "        break\n",
    "    \n",
    "    key = cv2.waitKey(1)\n",
    "    result = get_result(frame, pretrained_model)\n",
    "    \n",
    "    font = cv2.FONT_HERSHEY_PLAIN\n",
    "    green = (255, 0, 0)\n",
    "    \n",
    "    img = cv2.putText(frame, result, (350, 40), font, 2, green, 1, cv2.LINE_AA)\n",
    "    cv2.imshow(\"RESULTS\", img)\n",
    "    \n",
    "    # if result == \"there's no any units\":\n",
    "    #     wd.Beep(500, 1000)\n",
    "    \n",
    "    if key == ord('q'):\n",
    "        break\n",
    "    \n",
    "cv2.destroyAllWindows()"
   ]
  }
 ],
 "metadata": {
  "kernelspec": {
   "display_name": "base",
   "language": "python",
   "name": "python3"
  },
  "language_info": {
   "codemirror_mode": {
    "name": "ipython",
    "version": 3
   },
   "file_extension": ".py",
   "mimetype": "text/x-python",
   "name": "python",
   "nbconvert_exporter": "python",
   "pygments_lexer": "ipython3",
   "version": "3.9.12"
  },
  "orig_nbformat": 4
 },
 "nbformat": 4,
 "nbformat_minor": 2
}
