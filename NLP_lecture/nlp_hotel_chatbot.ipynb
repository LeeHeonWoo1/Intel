{
 "cells": [
  {
   "cell_type": "markdown",
   "metadata": {
    "id": "faUojVtgaTGc"
   },
   "source": [
    "# 호텔 챗봇\n",
    "\n",
    "이 노트북에서는 호텔 챗봇 문제를 다룹니다. 어떻게 하면 호텔 프론트 데스크에서 더 나은 고객 서비스를 제공할 수 있을까요? 간단한 방법 중 하나는 호텔에서 경험할 수 있는 일들에 관한 간단한 질문에 대답할 수 있는 FAQ 채팅 로봇을 갖는 것입니다. 챗봇을 갖는 것에는 많은 장점이 있습니다.\n",
    "\n",
    "1. 호텔의 매력을 높이고 정보 처리량을 늘립니다.\n",
    "2. 호텔에 대한 질문을 데이터 테이블 형식으로 수집할 수 있는 방법을 만듭니다.\n",
    "\n",
    "이 노트북에서는 두 가지 모델을 살펴볼 것입니다. 코사인 유사성 및 doc2vec 모델입니다.\n"
   ]
  },
  {
   "cell_type": "markdown",
   "metadata": {
    "id": "pNceALtVaTGc"
   },
   "source": [
    "## 1. 챗봇에 지식 기반 추가\n",
    "\n",
    "챗봇의 대화 능력은 사용할 수 있는 데이터에 의해 정의됩니다. Ques.txt 파일과 ans.txt 파일에서 질문과 답변을 살펴보십시오. 이 챗봇은 기본적으로 질문에 대하여 질문 은행과 코사인 유사성을 확인하여 답을 찾으려고 노력할 것입니다."
   ]
  },
  {
   "cell_type": "code",
   "execution_count": 1,
   "metadata": {
    "executionInfo": {
     "elapsed": 3,
     "status": "ok",
     "timestamp": 1625201864601,
     "user": {
      "displayName": "Albert Anthony",
      "photoUrl": "",
      "userId": "06779463251817115427"
     },
     "user_tz": -420
    },
    "id": "e__0bwBTaTGd"
   },
   "outputs": [],
   "source": [
    "import nltk # 텍스트 데이터를 처리\n",
    "import numpy as np # 말뭉치를 배열로 표현\n",
    "import random \n",
    "import operator\n",
    "import string # 표준 파이썬 문자열을 처리\n",
    "from sklearn.metrics.pairwise import cosine_similarity # 이를 나중에 사용하여 두 개의 문장이 얼마나 비슷한지를 결정합니다.\n",
    "from sklearn.feature_extraction.text import TfidfVectorizer # Experience 2에서 단어 가방을 만드는 함수를 만들었던 것을 기억하십니까? 이 함수는 같은 일을 합니다!"
   ]
  },
  {
   "cell_type": "code",
   "execution_count": 2,
   "metadata": {
    "colab": {
     "base_uri": "https://localhost:8080/"
    },
    "executionInfo": {
     "elapsed": 539,
     "status": "ok",
     "timestamp": 1625201865138,
     "user": {
      "displayName": "Albert Anthony",
      "photoUrl": "",
      "userId": "06779463251817115427"
     },
     "user_tz": -420
    },
    "id": "R08PteSZaTGd",
    "outputId": "f9bf11e9-f1b9-45c7-91b2-70fdc692dc29"
   },
   "outputs": [
    {
     "name": "stdout",
     "output_type": "stream",
     "text": [
      "200$ per night is the price for a basic suite.\n",
      "\n",
      "This establishment was constructed and inaugurated by John S. on the 23rd of September 1965.\n",
      "\n",
      "Breakfast is served from 7 AM to 10 AM.\n",
      "\n",
      "The breakfast menu is decided as per the head chefs decision on the night before; kindly contact hotel staff for information about the menu on the night before. \n",
      "\n",
      "The Vance Hotel is a singular establishment designed and constructed by Lindsey Vance in 1949; it has hosted many dignitaries and government officials over the years.\n",
      "\n",
      "There are 43 rooms in this hotel including one pent house suite.\n",
      "\n",
      "We offer 4 types of rooms: basic, mid-level, premium and penthouse.\n",
      "\n",
      "This hotel is called Vance Hotel.\n",
      "\n",
      "Yes, room service is available 24 hrs.\n",
      "\n",
      "To call room service, please dial '0' using the phone in your room.\n",
      "\n",
      "Yes we have one restaurant currently called 'Rouge'.\n",
      "\n",
      "There are 12 floors in the hotel.\n",
      "\n",
      "300$ per night is the standard price for a mid-level suite.\n",
      "\n",
      "500$ per night is the price for a premium suite.\n",
      "\n",
      "Yes, we have tuxedo services available at the reception.\n",
      "\n",
      "Yes, we have a laundry service at the reception.\n",
      "\n",
      "'Rouge' is open for dinner at 7pm.\n",
      "\n",
      "There is a waterfall 200 meters east from the hotel, and we offer taxi services for such destinations and more.\n",
      "\n",
      "Yes, we do have a spa; however, it is closed from 7pm onwards.\n",
      "\n",
      "Yes, we do have massage packages inside our hotel.\n",
      "\n",
      "Check in is at anytime between 10am and 1pm.\n",
      "\n",
      "Check out is at anytime between 4pm and 6pm.\n",
      "\n",
      "Yes, we do.\n",
      "\n",
      "Yes.\n",
      "\n",
      "For parking lot reservations, there is a surcharge depending on fixed rates; please ask at the reception for more information.\n",
      "\n",
      "Our reception is open 24 hours.\n",
      "\n",
      "No, you cannot book breakfast online.\n",
      "\n",
      "No, you cannot book the spa online.\n",
      "\n",
      "No, you cannot book that online.\n",
      "\n",
      "Yes, we do have the facilities to take care of pets and support them.\n",
      "\n",
      "Rates are per room.\n",
      "\n",
      "The rates may vary as per availability and demand.\n",
      "\n",
      "Yes.\n",
      "\n",
      "Yes.\n",
      "\n",
      "Yes.\n",
      "\n",
      "There are 4 main sizes available:  basic, mid-level, premium and penthouse.\n",
      "\n",
      "Yes, for table reservations please contact the reception through the phone.\n",
      "\n",
      "Yes, we do.\n",
      "\n",
      "We do not have child special rooms but we do have cribs available through a surcharge.\n",
      "\n",
      "Yes.\n",
      "\n",
      "Yes.\n",
      "\n",
      "Yes, we do have a shuttle service and taxi service.\n",
      "\n",
      "Yes.\n",
      "\n",
      "Yes, we do try our best to provide quality services to you; if there is any other requests, kindly contact the staff.\n",
      "\n",
      "Check at the reception.\n",
      "\n",
      "You can check it out on your online booking reservation.\n",
      "\n",
      "Contact the reception through phone so that they may attempt to retrieve the item.\n",
      "What is the price of one night stay in basic suite?\n",
      "\n",
      "How old is this establishment?\n",
      "\n",
      "What time is breakfast served?\n",
      "\n",
      "What is the breakfast menu?\n",
      "\n",
      "What is the history behind this hotel or establishment?\n",
      "\n",
      "How many rooms are there in this hotel?\n",
      "\n",
      "What are the types of rooms or suites offered by the hotel?\n",
      "\n",
      "What is the name of the hotel?\n",
      "\n",
      "Is room service served 24 hours?\n",
      "\n",
      "How do I call for room service?\n",
      "\n",
      "Are there any restaurants in the hotel?\n",
      "\n",
      "How many floors are there in the hotel?\n",
      "\n",
      "What is the price of one night stay at the mid-level suite?\n",
      "\n",
      "What is the price of one night stay at the premium suite?\n",
      "\n",
      "Do you have tuxedo services?\n",
      "\n",
      "Do you have a laundry service?\n",
      "\n",
      "What time do the restaurants open for dinner?\n",
      "\n",
      "What are the near by tourist attractions?\n",
      "\n",
      "Is there a spa in the hotel?\n",
      "\n",
      "Is there anywhere I can get a massage?\n",
      "\n",
      "What time is the check in?\n",
      "\n",
      "What time is the check out?\n",
      "\n",
      "Do you offer handicapped rooms?\n",
      "\n",
      "Is parking available at the hotel?\n",
      "\n",
      "Can I reserve a parking lot?\n",
      "\n",
      "What are the reception opening hours?\n",
      "\n",
      "Can I also book breakfast online and what is the cost?\n",
      "\n",
      "Is it possible to book spa treatments online?\n",
      "\n",
      "Can I book tea time online?\n",
      "\n",
      "Can I bring my pet?\n",
      "\n",
      "Are the rates per person or per room?\n",
      "\n",
      "Why do the costs vary from day to day?\n",
      "\n",
      "Can I book two rooms of different categories?\n",
      "\n",
      "Can I book two rooms with different occupancy?\n",
      "\n",
      "Is Wi-Fi available at the hotel/in the room?\n",
      "\n",
      "Which size are the rooms?\n",
      "\n",
      "Can I reserve a table in a restaurant?\n",
      "\n",
      "Do you offer non-smoking rooms?\n",
      "\n",
      "Do you offer child rates?\n",
      "\n",
      "Can I use the spa area even if I am not staying in your hotel?\n",
      "\n",
      "Can I use the spa area after checking out?\n",
      "\n",
      "Do you offer hotel shuttles, for example, to the next airport or train station?\n",
      "\n",
      "Can I have breakfast/dinner even if I am not staying in your hotel?\n",
      "\n",
      "Are special requests, such as gluten-free meals or feather-free pillows, manageable?\n",
      "\n",
      "I have bought a Groupon-voucher, how can I redeem it in your hotel?\n",
      "\n",
      "Where can I get a copy of my invoice after departure?\n",
      "\n",
      "What should I do, if I lost or forgot something in my room?\n",
      "\n",
      "\n"
     ]
    }
   ],
   "source": [
    "import os\n",
    "\n",
    "filepath=os.getcwd()+'/data/[Dataset] Module27 (ans).txt'\n",
    "corpus=open(filepath,'r',errors = 'ignore')\n",
    "raw_data_ans=corpus.read()\n",
    "print (raw_data_ans)\n",
    "\n",
    "filepath=os.getcwd()+'/data/[Dataset] Module27(ques).txt'\n",
    "corpus=open(filepath,'r',errors = 'ignore')\n",
    "raw_data=corpus.read()\n",
    "print (raw_data)"
   ]
  },
  {
   "cell_type": "markdown",
   "metadata": {
    "id": "3lJ5dsOvaTGo"
   },
   "source": [
    "####  소문자로 변환\n",
    "\n",
    "모든 텍스트를 먼저 소문자로 변환합니다. 결과가 완료되면 검사해야 합니다."
   ]
  },
  {
   "cell_type": "code",
   "execution_count": 3,
   "metadata": {
    "colab": {
     "base_uri": "https://localhost:8080/"
    },
    "executionInfo": {
     "elapsed": 5,
     "status": "ok",
     "timestamp": 1625201865139,
     "user": {
      "displayName": "Albert Anthony",
      "photoUrl": "",
      "userId": "06779463251817115427"
     },
     "user_tz": -420
    },
    "id": "KdWMJwPfaTGo",
    "outputId": "5b193850-dbbf-4622-aba8-69343552090f"
   },
   "outputs": [
    {
     "name": "stdout",
     "output_type": "stream",
     "text": [
      "what is the price of one night stay in basic suite?\n",
      "\n",
      "how old is this establishment?\n",
      "\n",
      "what time is breakfast served?\n",
      "\n",
      "what is the breakfast menu?\n",
      "\n",
      "what is the history behind this hotel or establishment?\n",
      "\n",
      "how many rooms are there in this hotel?\n",
      "\n",
      "what are the types of rooms or suites offered by the hotel?\n",
      "\n",
      "what is the name of the hotel?\n",
      "\n",
      "is room service served 24 hours?\n",
      "\n",
      "how do i call for room service?\n",
      "\n",
      "are there any restaurants in the hotel?\n",
      "\n",
      "how many floors are there in the hotel?\n",
      "\n",
      "what is the price of one night stay at the mid-level suite?\n",
      "\n",
      "what is the price of one night stay at the premium suite?\n",
      "\n",
      "do you have tuxedo services?\n",
      "\n",
      "do you have a laundry service?\n",
      "\n",
      "what time do the restaurants open for dinner?\n",
      "\n",
      "what are the near by tourist attractions?\n",
      "\n",
      "is there a spa in the hotel?\n",
      "\n",
      "is there anywhere i can get a massage?\n",
      "\n",
      "what time is the check in?\n",
      "\n",
      "what time is the check out?\n",
      "\n",
      "do you offer handicapped rooms?\n",
      "\n",
      "is parking available at the hotel?\n",
      "\n",
      "can i reserve a parking lot?\n",
      "\n",
      "what are the reception opening hours?\n",
      "\n",
      "can i also book breakfast online and what is the cost?\n",
      "\n",
      "is it possible to book spa treatments online?\n",
      "\n",
      "can i book tea time online?\n",
      "\n",
      "can i bring my pet?\n",
      "\n",
      "are the rates per person or per room?\n",
      "\n",
      "why do the costs vary from day to day?\n",
      "\n",
      "can i book two rooms of different categories?\n",
      "\n",
      "can i book two rooms with different occupancy?\n",
      "\n",
      "is wi-fi available at the hotel/in the room?\n",
      "\n",
      "which size are the rooms?\n",
      "\n",
      "can i reserve a table in a restaurant?\n",
      "\n",
      "do you offer non-smoking rooms?\n",
      "\n",
      "do you offer child rates?\n",
      "\n",
      "can i use the spa area even if i am not staying in your hotel?\n",
      "\n",
      "can i use the spa area after checking out?\n",
      "\n",
      "do you offer hotel shuttles, for example, to the next airport or train station?\n",
      "\n",
      "can i have breakfast/dinner even if i am not staying in your hotel?\n",
      "\n",
      "are special requests, such as gluten-free meals or feather-free pillows, manageable?\n",
      "\n",
      "i have bought a groupon-voucher, how can i redeem it in your hotel?\n",
      "\n",
      "where can i get a copy of my invoice after departure?\n",
      "\n",
      "what should i do, if i lost or forgot something in my room?\n",
      "\n",
      "\n"
     ]
    }
   ],
   "source": [
    "raw_data = raw_data.lower() # 소문자로 변환\n",
    "print (raw_data)"
   ]
  },
  {
   "cell_type": "markdown",
   "metadata": {
    "id": "t729o2v7aTGp"
   },
   "source": [
    "####  세분화, 표제어 추출,  단어 토큰화\n",
    "\n",
    "모듈 26 코사인 유사성 노트북에서 배운 방법을 참조하여 데이터를 세분화, 토큰화, 표제어 추출로 전처리 진행합니다."
   ]
  },
  {
   "cell_type": "code",
   "execution_count": 4,
   "metadata": {
    "colab": {
     "base_uri": "https://localhost:8080/"
    },
    "executionInfo": {
     "elapsed": 359,
     "status": "ok",
     "timestamp": 1625201872991,
     "user": {
      "displayName": "Albert Anthony",
      "photoUrl": "",
      "userId": "06779463251817115427"
     },
     "user_tz": -420
    },
    "id": "bd6adnm0aTGp",
    "outputId": "3ebb414b-4af6-4b08-b180-c9a9a750ea0c"
   },
   "outputs": [
    {
     "name": "stdout",
     "output_type": "stream",
     "text": [
      "['what is the price of one night stay in basic suite?', 'how old is this establishment?', 'what time is breakfast served?', 'what is the breakfast menu?', 'what is the history behind this hotel or establishment?', 'how many rooms are there in this hotel?', 'what are the types of rooms or suites offered by the hotel?', 'what is the name of the hotel?', 'is room service served 24 hours?', 'how do i call for room service?', 'are there any restaurants in the hotel?', 'how many floors are there in the hotel?', 'what is the price of one night stay at the mid-level suite?', 'what is the price of one night stay at the premium suite?', 'do you have tuxedo services?', 'do you have a laundry service?', 'what time do the restaurants open for dinner?', 'what are the near by tourist attractions?', 'is there a spa in the hotel?', 'is there anywhere i can get a massage?', 'what time is the check in?', 'what time is the check out?', 'do you offer handicapped rooms?', 'is parking available at the hotel?', 'can i reserve a parking lot?', 'what are the reception opening hours?', 'can i also book breakfast online and what is the cost?', 'is it possible to book spa treatments online?', 'can i book tea time online?', 'can i bring my pet?', 'are the rates per person or per room?', 'why do the costs vary from day to day?', 'can i book two rooms of different categories?', 'can i book two rooms with different occupancy?', 'is wi-fi available at the hotel/in the room?', 'which size are the rooms?', 'can i reserve a table in a restaurant?', 'do you offer non-smoking rooms?', 'do you offer child rates?', 'can i use the spa area even if i am not staying in your hotel?', 'can i use the spa area after checking out?', 'do you offer hotel shuttles, for example, to the next airport or train station?', 'can i have breakfast/dinner even if i am not staying in your hotel?', 'are special requests, such as gluten-free meals or feather-free pillows, manageable?', 'i have bought a groupon-voucher, how can i redeem it in your hotel?', 'where can i get a copy of my invoice after departure?', 'what should i do, if i lost or forgot something in my room?']\n"
     ]
    },
    {
     "name": "stderr",
     "output_type": "stream",
     "text": [
      "[nltk_data] Downloading package punkt to\n",
      "[nltk_data]     C:\\Users\\OWNER\\AppData\\Roaming\\nltk_data...\n",
      "[nltk_data]   Package punkt is already up-to-date!\n",
      "[nltk_data] Downloading package wordnet to\n",
      "[nltk_data]     C:\\Users\\OWNER\\AppData\\Roaming\\nltk_data...\n",
      "[nltk_data]   Package wordnet is already up-to-date!\n"
     ]
    }
   ],
   "source": [
    "nltk.download('punkt')\n",
    "nltk.download('wordnet')\n",
    "sent_tokens = nltk.sent_tokenize(raw_data)# 문서를 문장 목록으로 변환\n",
    "\n",
    "print(sent_tokens)"
   ]
  },
  {
   "cell_type": "code",
   "execution_count": 5,
   "metadata": {
    "colab": {
     "base_uri": "https://localhost:8080/"
    },
    "executionInfo": {
     "elapsed": 502,
     "status": "ok",
     "timestamp": 1625201873809,
     "user": {
      "displayName": "Albert Anthony",
      "photoUrl": "",
      "userId": "06779463251817115427"
     },
     "user_tz": -420
    },
    "id": "RRuhV6wnaTGp",
    "outputId": "45b8a5aa-6e51-4684-c6f5-fdd3c1963a86"
   },
   "outputs": [
    {
     "name": "stdout",
     "output_type": "stream",
     "text": [
      "['200$ per night is the price for a basic suite.', 'This establishment was constructed and inaugurated by John S. on the 23rd of September 1965.', 'Breakfast is served from 7 AM to 10 AM.', 'The breakfast menu is decided as per the head chefs decision on the night before; kindly contact hotel staff for information about the menu on the night before.', 'The Vance Hotel is a singular establishment designed and constructed by Lindsey Vance in 1949; it has hosted many dignitaries and government officials over the years.', 'There are 43 rooms in this hotel including one pent house suite.', 'We offer 4 types of rooms: basic, mid-level, premium and penthouse.', 'This hotel is called Vance Hotel.', 'Yes, room service is available 24 hrs.', \"To call room service, please dial '0' using the phone in your room.\", \"Yes we have one restaurant currently called 'Rouge'.\", 'There are 12 floors in the hotel.', '300$ per night is the standard price for a mid-level suite.', '500$ per night is the price for a premium suite.', 'Yes, we have tuxedo services available at the reception.', 'Yes, we have a laundry service at the reception.', \"'Rouge' is open for dinner at 7pm.\", 'There is a waterfall 200 meters east from the hotel, and we offer taxi services for such destinations and more.', 'Yes, we do have a spa; however, it is closed from 7pm onwards.', 'Yes, we do have massage packages inside our hotel.', 'Check in is at anytime between 10am and 1pm.', 'Check out is at anytime between 4pm and 6pm.', 'Yes, we do.', 'Yes.', 'For parking lot reservations, there is a surcharge depending on fixed rates; please ask at the reception for more information.', 'Our reception is open 24 hours.', 'No, you cannot book breakfast online.', 'No, you cannot book the spa online.', 'No, you cannot book that online.', 'Yes, we do have the facilities to take care of pets and support them.', 'Rates are per room.', 'The rates may vary as per availability and demand.', 'Yes.', 'Yes.', 'Yes.', 'There are 4 main sizes available:  basic, mid-level, premium and penthouse.', 'Yes, for table reservations please contact the reception through the phone.', 'Yes, we do.', 'We do not have child special rooms but we do have cribs available through a surcharge.', 'Yes.', 'Yes.', 'Yes, we do have a shuttle service and taxi service.', 'Yes.', 'Yes, we do try our best to provide quality services to you; if there is any other requests, kindly contact the staff.', 'Check at the reception.', 'You can check it out on your online booking reservation.', 'Contact the reception through phone so that they may attempt to retrieve the item.']\n"
     ]
    }
   ],
   "source": [
    "sent_tokens_ans = nltk.sent_tokenize(raw_data_ans)# 문서를 문장 목록으로 변환\n",
    "print(sent_tokens_ans)"
   ]
  },
  {
   "cell_type": "code",
   "execution_count": 6,
   "metadata": {
    "colab": {
     "base_uri": "https://localhost:8080/"
    },
    "executionInfo": {
     "elapsed": 1,
     "status": "ok",
     "timestamp": 1625201874211,
     "user": {
      "displayName": "Albert Anthony",
      "photoUrl": "",
      "userId": "06779463251817115427"
     },
     "user_tz": -420
    },
    "id": "h6JFAfDRaTGp",
    "outputId": "11eb25dd-d12b-4b5a-bf22-710a50655835"
   },
   "outputs": [
    {
     "name": "stdout",
     "output_type": "stream",
     "text": [
      "{'what is the price of one night stay in basic suite?': '200$ per night is the price for a basic suite.', 'how old is this establishment?': 'This establishment was constructed and inaugurated by John S. on the 23rd of September 1965.', 'what time is breakfast served?': 'Breakfast is served from 7 AM to 10 AM.', 'what is the breakfast menu?': 'The breakfast menu is decided as per the head chefs decision on the night before; kindly contact hotel staff for information about the menu on the night before.', 'what is the history behind this hotel or establishment?': 'The Vance Hotel is a singular establishment designed and constructed by Lindsey Vance in 1949; it has hosted many dignitaries and government officials over the years.', 'how many rooms are there in this hotel?': 'There are 43 rooms in this hotel including one pent house suite.', 'what are the types of rooms or suites offered by the hotel?': 'We offer 4 types of rooms: basic, mid-level, premium and penthouse.', 'what is the name of the hotel?': 'This hotel is called Vance Hotel.', 'is room service served 24 hours?': 'Yes, room service is available 24 hrs.', 'how do i call for room service?': \"To call room service, please dial '0' using the phone in your room.\", 'are there any restaurants in the hotel?': \"Yes we have one restaurant currently called 'Rouge'.\", 'how many floors are there in the hotel?': 'There are 12 floors in the hotel.', 'what is the price of one night stay at the mid-level suite?': '300$ per night is the standard price for a mid-level suite.', 'what is the price of one night stay at the premium suite?': '500$ per night is the price for a premium suite.', 'do you have tuxedo services?': 'Yes, we have tuxedo services available at the reception.', 'do you have a laundry service?': 'Yes, we have a laundry service at the reception.', 'what time do the restaurants open for dinner?': \"'Rouge' is open for dinner at 7pm.\", 'what are the near by tourist attractions?': 'There is a waterfall 200 meters east from the hotel, and we offer taxi services for such destinations and more.', 'is there a spa in the hotel?': 'Yes, we do have a spa; however, it is closed from 7pm onwards.', 'is there anywhere i can get a massage?': 'Yes, we do have massage packages inside our hotel.', 'what time is the check in?': 'Check in is at anytime between 10am and 1pm.', 'what time is the check out?': 'Check out is at anytime between 4pm and 6pm.', 'do you offer handicapped rooms?': 'Yes, we do.', 'is parking available at the hotel?': 'Yes.', 'can i reserve a parking lot?': 'For parking lot reservations, there is a surcharge depending on fixed rates; please ask at the reception for more information.', 'what are the reception opening hours?': 'Our reception is open 24 hours.', 'can i also book breakfast online and what is the cost?': 'No, you cannot book breakfast online.', 'is it possible to book spa treatments online?': 'No, you cannot book the spa online.', 'can i book tea time online?': 'No, you cannot book that online.', 'can i bring my pet?': 'Yes, we do have the facilities to take care of pets and support them.', 'are the rates per person or per room?': 'Rates are per room.', 'why do the costs vary from day to day?': 'The rates may vary as per availability and demand.', 'can i book two rooms of different categories?': 'Yes.', 'can i book two rooms with different occupancy?': 'Yes.', 'is wi-fi available at the hotel/in the room?': 'Yes.', 'which size are the rooms?': 'There are 4 main sizes available:  basic, mid-level, premium and penthouse.', 'can i reserve a table in a restaurant?': 'Yes, for table reservations please contact the reception through the phone.', 'do you offer non-smoking rooms?': 'Yes, we do.', 'do you offer child rates?': 'We do not have child special rooms but we do have cribs available through a surcharge.', 'can i use the spa area even if i am not staying in your hotel?': 'Yes.', 'can i use the spa area after checking out?': 'Yes.', 'do you offer hotel shuttles, for example, to the next airport or train station?': 'Yes, we do have a shuttle service and taxi service.', 'can i have breakfast/dinner even if i am not staying in your hotel?': 'Yes.', 'are special requests, such as gluten-free meals or feather-free pillows, manageable?': 'Yes, we do try our best to provide quality services to you; if there is any other requests, kindly contact the staff.', 'i have bought a groupon-voucher, how can i redeem it in your hotel?': 'Check at the reception.', 'where can i get a copy of my invoice after departure?': 'You can check it out on your online booking reservation.', 'what should i do, if i lost or forgot something in my room?': 'Contact the reception through phone so that they may attempt to retrieve the item.'}\n"
     ]
    }
   ],
   "source": [
    "res = {sent_tokens[i]: sent_tokens_ans[i] for i in range(len(sent_tokens))} \n",
    "print(res)"
   ]
  },
  {
   "cell_type": "code",
   "execution_count": 11,
   "metadata": {
    "colab": {
     "base_uri": "https://localhost:8080/"
    },
    "executionInfo": {
     "elapsed": 472,
     "status": "ok",
     "timestamp": 1625201875128,
     "user": {
      "displayName": "Albert Anthony",
      "photoUrl": "",
      "userId": "06779463251817115427"
     },
     "user_tz": -420
    },
    "id": "LYI2uuyTaTGq",
    "outputId": "a5594e85-0654-47e9-df50-b5f167eac199"
   },
   "outputs": [
    {
     "name": "stdout",
     "output_type": "stream",
     "text": [
      "['what', 'is', 'the', 'price', 'of', 'one', 'night', 'stay', 'in', 'basic', 'suite', '?', 'how', 'old', 'is', 'this', 'establishment', '?', 'what', 'time', 'is', 'breakfast', 'served', '?', 'what', 'is', 'the', 'breakfast', 'menu', '?', 'what', 'is', 'the', 'history', 'behind', 'this', 'hotel', 'or', 'establishment', '?', 'how', 'many', 'rooms', 'are', 'there', 'in', 'this', 'hotel', '?', 'what', 'are', 'the', 'types', 'of', 'rooms', 'or', 'suites', 'offered', 'by', 'the', 'hotel', '?', 'what', 'is', 'the', 'name', 'of', 'the', 'hotel', '?', 'is', 'room', 'service', 'served', '24', 'hours', '?', 'how', 'do', 'i', 'call', 'for', 'room', 'service', '?', 'are', 'there', 'any', 'restaurants', 'in', 'the', 'hotel', '?', 'how', 'many', 'floors', 'are', 'there', 'in', 'the', 'hotel', '?', 'what', 'is', 'the', 'price', 'of', 'one', 'night', 'stay', 'at', 'the', 'mid-level', 'suite', '?', 'what', 'is', 'the', 'price', 'of', 'one', 'night', 'stay', 'at', 'the', 'premium', 'suite', '?', 'do', 'you', 'have', 'tuxedo', 'services', '?', 'do', 'you', 'have', 'a', 'laundry', 'service', '?', 'what', 'time', 'do', 'the', 'restaurants', 'open', 'for', 'dinner', '?', 'what', 'are', 'the', 'near', 'by', 'tourist', 'attractions', '?', 'is', 'there', 'a', 'spa', 'in', 'the', 'hotel', '?', 'is', 'there', 'anywhere', 'i', 'can', 'get', 'a', 'massage', '?', 'what', 'time', 'is', 'the', 'check', 'in', '?', 'what', 'time', 'is', 'the', 'check', 'out', '?', 'do', 'you', 'offer', 'handicapped', 'rooms', '?', 'is', 'parking', 'available', 'at', 'the', 'hotel', '?', 'can', 'i', 'reserve', 'a', 'parking', 'lot', '?', 'what', 'are', 'the', 'reception', 'opening', 'hours', '?', 'can', 'i', 'also', 'book', 'breakfast', 'online', 'and', 'what', 'is', 'the', 'cost', '?', 'is', 'it', 'possible', 'to', 'book', 'spa', 'treatments', 'online', '?', 'can', 'i', 'book', 'tea', 'time', 'online', '?', 'can', 'i', 'bring', 'my', 'pet', '?', 'are', 'the', 'rates', 'per', 'person', 'or', 'per', 'room', '?', 'why', 'do', 'the', 'costs', 'vary', 'from', 'day', 'to', 'day', '?', 'can', 'i', 'book', 'two', 'rooms', 'of', 'different', 'categories', '?', 'can', 'i', 'book', 'two', 'rooms', 'with', 'different', 'occupancy', '?', 'is', 'wi-fi', 'available', 'at', 'the', 'hotel/in', 'the', 'room', '?', 'which', 'size', 'are', 'the', 'rooms', '?', 'can', 'i', 'reserve', 'a', 'table', 'in', 'a', 'restaurant', '?', 'do', 'you', 'offer', 'non-smoking', 'rooms', '?', 'do', 'you', 'offer', 'child', 'rates', '?', 'can', 'i', 'use', 'the', 'spa', 'area', 'even', 'if', 'i', 'am', 'not', 'staying', 'in', 'your', 'hotel', '?', 'can', 'i', 'use', 'the', 'spa', 'area', 'after', 'checking', 'out', '?', 'do', 'you', 'offer', 'hotel', 'shuttles', ',', 'for', 'example', ',', 'to', 'the', 'next', 'airport', 'or', 'train', 'station', '?', 'can', 'i', 'have', 'breakfast/dinner', 'even', 'if', 'i', 'am', 'not', 'staying', 'in', 'your', 'hotel', '?', 'are', 'special', 'requests', ',', 'such', 'as', 'gluten-free', 'meals', 'or', 'feather-free', 'pillows', ',', 'manageable', '?', 'i', 'have', 'bought', 'a', 'groupon-voucher', ',', 'how', 'can', 'i', 'redeem', 'it', 'in', 'your', 'hotel', '?', 'where', 'can', 'i', 'get', 'a', 'copy', 'of', 'my', 'invoice', 'after', 'departure', '?', 'what', 'should', 'i', 'do', ',', 'if', 'i', 'lost', 'or', 'forgot', 'something', 'in', 'my', 'room', '?']\n"
     ]
    }
   ],
   "source": [
    "word_tokens = nltk.word_tokenize(raw_data)# 문서를 단어 목록으로 변환\n",
    "print (word_tokens)"
   ]
  },
  {
   "cell_type": "code",
   "execution_count": 7,
   "metadata": {
    "executionInfo": {
     "elapsed": 472,
     "status": "ok",
     "timestamp": 1625201875130,
     "user": {
      "displayName": "Albert Anthony",
      "photoUrl": "",
      "userId": "06779463251817115427"
     },
     "user_tz": -420
    },
    "id": "-7sg_IsiaTGq"
   },
   "outputs": [],
   "source": [
    "lemmer = nltk.stem.WordNetLemmatizer() # lemmer 클래스를 초기화합니다. WordNet은 NLTK에 포함된 의미 론적 영어 사전입니다\n",
    "def LemTokens(tokens):\n",
    "    return [lemmer.lemmatize(token) for token in tokens]"
   ]
  },
  {
   "cell_type": "code",
   "execution_count": 8,
   "metadata": {
    "executionInfo": {
     "elapsed": 2,
     "status": "ok",
     "timestamp": 1625201875457,
     "user": {
      "displayName": "Albert Anthony",
      "photoUrl": "",
      "userId": "06779463251817115427"
     },
     "user_tz": -420
    },
    "id": "tNpTcnZQaTGq"
   },
   "outputs": [],
   "source": [
    "remove_punct_dict = dict((ord(punct), None) for punct in string.punctuation)\n",
    "def LemNormalize(text):\n",
    "    return LemTokens(nltk.word_tokenize(text.lower().translate(remove_punct_dict))) "
   ]
  },
  {
   "cell_type": "markdown",
   "metadata": {
    "id": "8yBNkjCkaTGq"
   },
   "source": [
    "## 2. 챗봇 기능 추가 - 코사인 유사성"
   ]
  },
  {
   "cell_type": "code",
   "execution_count": 9,
   "metadata": {
    "executionInfo": {
     "elapsed": 2,
     "status": "ok",
     "timestamp": 1625201875457,
     "user": {
      "displayName": "Albert Anthony",
      "photoUrl": "",
      "userId": "06779463251817115427"
     },
     "user_tz": -420
    },
    "id": "YKToF6tBaTGq"
   },
   "outputs": [],
   "source": [
    "GREETING_INPUTS = [\"hello\", \"hi\", \"greetings\", \"sup\", \"what's up\",\"hey\", \"hey there\"]\n",
    "GREETING_RESPONSES = [\"hi\", \"hey\", \"*nods*\", \"hi there\", \"hello\", \"I am glad! You are talking to me\"]\n",
    "\n",
    "def greeting(sentence):\n",
    "    for word in sentence.split(): # 문장의 각 단어를 살펴봅니다.\n",
    "        if word.lower() in GREETING_INPUTS: # 단어가 GREETING_INPUT와 일치하는지 확인합니다.\n",
    "            return random.choice(GREETING_RESPONSES) # Greeting_Response로 답장합니다."
   ]
  },
  {
   "cell_type": "markdown",
   "metadata": {
    "id": "OG8J9Y4haTGq"
   },
   "source": [
    "챗봇의 기능은 챗봇을 실행하기 위한 루프를 만듦으로써 이루어집니다. 아래 기능을 살펴봅니다. 함수의 각 줄은 중요한 단계를 수행하기 위해 다른 함수를 호출하기 때문에 중요합니다. 'response' 함수는 챗봇이 어떻게 행동하는지에 대한 작동 방식을 담당합니다."
   ]
  },
  {
   "cell_type": "code",
   "execution_count": 10,
   "metadata": {
    "executionInfo": {
     "elapsed": 1,
     "status": "ok",
     "timestamp": 1625201875761,
     "user": {
      "displayName": "Albert Anthony",
      "photoUrl": "",
      "userId": "06779463251817115427"
     },
     "user_tz": -420
    },
    "id": "ljpdA9lXaTGq"
   },
   "outputs": [],
   "source": [
    "def response(user_response):\n",
    "    \n",
    "    robo_response='' # 문자열을 포함하도록 변수를 초기화\n",
    "    sent_tokens.append(user_response) # sent_messages에 사용자 응답 추가\n",
    "    TfidfVec = TfidfVectorizer(tokenizer=LemNormalize, stop_words='english') \n",
    "    tfidf = TfidfVec.fit_transform(sent_tokens) # tfidf 값 가져오기\n",
    "    vals = cosine_similarity(tfidf[-1], tfidf) # 코사인 유사성 값 가져오기\n",
    "    idx=vals.argsort()[0][-2] \n",
    "    flat = vals.flatten() \n",
    "    flat.sort() # 오름차순으로 정렬\n",
    "    req_tfidf = flat[-2] \n",
    "    \n",
    "    if(req_tfidf==0):\n",
    "        robo_response=robo_response+\"I am sorry! I don't understand you\"\n",
    "        return robo_response, vals\n",
    "    else:\n",
    "        robo_response = robo_response+res[sent_tokens[idx]]\n",
    "        return robo_response, vals"
   ]
  },
  {
   "cell_type": "markdown",
   "metadata": {
    "id": "MObdf0DbaTGq"
   },
   "source": [
    "마지막으로 챗봇 인터페이스를 만들고 이를 중심으로 페르소나를 만들어 봅시다. 우리가 챗봇을 '제인'이라고 부르고 코사인 유사성을 사용하여 질문과 유사한 FAQ를 찾아 대답하도록 합시다."
   ]
  },
  {
   "cell_type": "code",
   "execution_count": 12,
   "metadata": {
    "colab": {
     "base_uri": "https://localhost:8080/"
    },
    "executionInfo": {
     "elapsed": 10210,
     "status": "ok",
     "timestamp": 1625201887211,
     "user": {
      "displayName": "Albert Anthony",
      "photoUrl": "",
      "userId": "06779463251817115427"
     },
     "user_tz": -420
    },
    "id": "kAhwDtRAaTGr",
    "outputId": "a189d9b9-b5a9-472a-bcd2-0d1c3ec54cf0"
   },
   "outputs": [
    {
     "name": "stdout",
     "output_type": "stream",
     "text": [
      "Jane: My name is Jane. I will answer your queries about this hotel. If you want to exit, type Bye!\n",
      "Jane: "
     ]
    },
    {
     "name": "stderr",
     "output_type": "stream",
     "text": [
      "d:\\Intel\\NLP_lecture\\nlp\\lib\\site-packages\\sklearn\\feature_extraction\\text.py:525: UserWarning: The parameter 'token_pattern' will not be used since 'tokenizer' is not None'\n",
      "  warnings.warn(\n",
      "d:\\Intel\\NLP_lecture\\nlp\\lib\\site-packages\\sklearn\\feature_extraction\\text.py:408: UserWarning: Your stop_words may be inconsistent with your preprocessing. Tokenizing the stop words generated tokens ['ha', 'le', 'u', 'wa'] not in stop_words.\n",
      "  warnings.warn(\n"
     ]
    },
    {
     "name": "stdout",
     "output_type": "stream",
     "text": [
      "This hotel is called Vance Hotel.\n",
      " (With similarity of  0.3893470080671374 )\n",
      "Jane: 500$ per night is the price for a premium suite.\n",
      " (With similarity of  0.5883971074889468 )\n",
      "Jane: Bye! take care..\n"
     ]
    }
   ],
   "source": [
    "flag=True\n",
    "print(\"Jane: My name is Jane. I will answer your queries about this hotel. If you want to exit, type Bye!\")\n",
    "while(flag==True):\n",
    "    user_response = input()\n",
    "    user_response=user_response.lower()\n",
    "    if(user_response!='bye'):\n",
    "        if(user_response=='thanks' or user_response=='thank you' ):\n",
    "            flag=False\n",
    "            print(\"Jane: You are welcome..\")\n",
    "        else:\n",
    "            if(greeting(user_response)!=None):\n",
    "                print(\"Jane: \"+greeting(user_response))\n",
    "\n",
    "            else:\n",
    "                print(\"Jane: \",end=\"\")\n",
    "                resp= response(user_response)\n",
    "                print(resp[0], )\n",
    "                sent_tokens.remove(user_response)\n",
    "                resp_l = resp[1].tolist()\n",
    "                resp_l[0].pop()\n",
    "                print(' (With similarity of ',max(resp_l[0]),')')\n",
    "\n",
    "    else:\n",
    "        flag=False\n",
    "        print(\"Jane: Bye! take care..\")\n",
    "       "
   ]
  },
  {
   "cell_type": "markdown",
   "metadata": {
    "id": "ti57IhXEaTGr"
   },
   "source": [
    "## 3. Doc2vec를 이용한 챗봇 기능\n",
    "\n",
    "챗봇을 만들기 위한 한 가지 유형의 모델을 더 다룰 것입니다. 코사인 유사성 모델 알고리즘은 두 문장 사이의 유사성을 찾는데 사용됩니다. 하지만 이제 신경망을 사용해서 이 문제를 해결해 보려합니다. 살펴보도록 하겠습니다.\n",
    "\n",
    "Doc2Vec은 기본적으로 문서에서 벡터를 생성하는 신경망 기반 모델입니다. Doc2vec을 이해하기 위해서는 word2vec도 이해해야 합니다.\n",
    "\n",
    "#### word2vec란?\n",
    "이는 삽입 단어를 생성하는 모델이며, 여기서는 텍스트의 큰 말뭉치를 입력으로 받고 일반적으로 수백 개 차원의 벡터 공간을 생성합니다. \n",
    "\n",
    "2013년 9월과 10월 사이에 구글의 연구팀에 의해 두 개의 논문에 소개되었습니다. Word2Vec의 기본 가정은 유사한 맥락을 공유하는 두 단어가 유사한 의미를 공유하며 결과적으로 모델에서 유사한 벡터 표현을 공유한다는 것입니다.\n",
    "\n",
    "예를 들어, \"은행\", \"화폐\", \"계좌\"는 \"달러\", \"대출\", \"신용\"과 같은 유사한 주변 단어와 함께 종종 사용되며, 따라서 Word2Vec에 따르면 이들은 유사한 벡터 표현을 공유합니다.\n",
    "\n",
    "![Image](img1.png)"
   ]
  },
  {
   "cell_type": "markdown",
   "metadata": {
    "id": "ajt10YajaTGr"
   },
   "source": [
    "#### doc2vec 란?\n",
    "\n",
    "doc2vec의 목적은 말뭉치의 모든 단어에 대한 특징 벡터를 계산하는 word2vec와 달리 문장/단락/문서의 수치 표현을 생성하는 것입니다. doc2vec은 말뭉치의 모든 문서에 대한 특징 벡터를 계산합니다. doc2vec에 의해 생성된 벡터는 문장/단락/문서 간의 유사성 찾기와 같은 작업에 사용될 수 있습니다.\n",
    "\n",
    "<strong> doc2vec의 속성을 사용하여 우리만의 유사성 모델을 만들 것입니다.</strong>\n"
   ]
  },
  {
   "cell_type": "markdown",
   "metadata": {
    "id": "4rz_EMVtaTGr"
   },
   "source": [
    "관련 라이브러리를 가져오는 것으로 시작하겠습니다."
   ]
  },
  {
   "cell_type": "code",
   "execution_count": 13,
   "metadata": {
    "colab": {
     "base_uri": "https://localhost:8080/"
    },
    "executionInfo": {
     "elapsed": 10602,
     "status": "ok",
     "timestamp": 1625199335390,
     "user": {
      "displayName": "Albert Anthony",
      "photoUrl": "",
      "userId": "06779463251817115427"
     },
     "user_tz": -420
    },
    "id": "ItqcrhJpa8nd",
    "outputId": "2348a912-2fd5-4eda-fbf7-02dd45e96220"
   },
   "outputs": [
    {
     "data": {
      "text/plain": [
       "0"
      ]
     },
     "execution_count": 13,
     "metadata": {},
     "output_type": "execute_result"
    }
   ],
   "source": [
    "import subprocess\n",
    "import sys\n",
    "subprocess.check_call([sys.executable, \"-m\", \"pip\", \"install\", \"gensim == 3.8.1\"])"
   ]
  },
  {
   "cell_type": "code",
   "execution_count": 14,
   "metadata": {
    "executionInfo": {
     "elapsed": 387,
     "status": "ok",
     "timestamp": 1625201893472,
     "user": {
      "displayName": "Albert Anthony",
      "photoUrl": "",
      "userId": "06779463251817115427"
     },
     "user_tz": -420
    },
    "id": "u0uEPI3haTGs"
   },
   "outputs": [],
   "source": [
    "from gensim.models.doc2vec import Doc2Vec, TaggedDocument\n",
    "from nltk.tokenize import word_tokenize"
   ]
  },
  {
   "cell_type": "markdown",
   "metadata": {
    "id": "jCN-DoefaTGs"
   },
   "source": [
    "첫 번째 주요 목표는 데이터에 태그를 지정하는 것입니다. doc2vec 모델은 데이터를 효과적으로 사용하기 위해 태그를 지정해야 합니다. 다음은 doc2vec에 대한 [시작 코드](https://www.kaggle.com/fmitchell259/creating-a-doc2vec-model) 좋은 학습 링크입니다. 다음 [링크](https://medium.com/wisio/a-gentle-introduction-to-doc2vec-db3e8c0cce5e) 도 유용하게 사용할 수 있으며 읽을 것을 권장합니다."
   ]
  },
  {
   "cell_type": "code",
   "execution_count": 15,
   "metadata": {
    "executionInfo": {
     "elapsed": 1,
     "status": "ok",
     "timestamp": 1625201893805,
     "user": {
      "displayName": "Albert Anthony",
      "photoUrl": "",
      "userId": "06779463251817115427"
     },
     "user_tz": -420
    },
    "id": "kXe558qcaTGs"
   },
   "outputs": [],
   "source": [
    "tagged_data = [TaggedDocument(words=word_tokenize(_d.lower()), tags=[str(i)]) for i, _d in enumerate(sent_tokens)]"
   ]
  },
  {
   "cell_type": "code",
   "execution_count": 16,
   "metadata": {
    "executionInfo": {
     "elapsed": 301,
     "status": "ok",
     "timestamp": 1625201895886,
     "user": {
      "displayName": "Albert Anthony",
      "photoUrl": "",
      "userId": "06779463251817115427"
     },
     "user_tz": -420
    },
    "id": "dfTTPFpQaTGs"
   },
   "outputs": [],
   "source": [
    "max_epochs = 100\n",
    "vec_size = 20 # 벡터가 더 크려면 이것을 증가시키세요. 이것은 더 많은 차이를 의미합니다. \n",
    "alpha = 0.025\n"
   ]
  },
  {
   "cell_type": "markdown",
   "metadata": {
    "id": "dfhX6BQeaTGs"
   },
   "source": [
    "다음 단계는 모델을 훈련시키는 것입니다. 이전처럼 훈련 과정을 실행하기 위해 `model.train` 함수를 사용하게 될 것입니다. Doc2vec 모델을 훈련하는 방법에 대한 자세한 정보는 [문서](https://radimrehurek.com/gensim/models/doc2vec.html) 를 참조하십시오."
   ]
  },
  {
   "cell_type": "code",
   "execution_count": 17,
   "metadata": {
    "colab": {
     "base_uri": "https://localhost:8080/"
    },
    "executionInfo": {
     "elapsed": 45968,
     "status": "ok",
     "timestamp": 1625201943421,
     "user": {
      "displayName": "Albert Anthony",
      "photoUrl": "",
      "userId": "06779463251817115427"
     },
     "user_tz": -420
    },
    "id": "h7ScV7f0aTGs",
    "outputId": "e226e5a2-e46b-4908-85e3-98defa6964a2"
   },
   "outputs": [
    {
     "name": "stderr",
     "output_type": "stream",
     "text": [
      "d:\\Intel\\NLP_lecture\\nlp\\lib\\site-packages\\gensim\\models\\doc2vec.py:574: UserWarning: The parameter `size` is deprecated, will be removed in 4.0.0, use `vector_size` instead.\n",
      "  warnings.warn(\"The parameter `size` is deprecated, will be removed in 4.0.0, use `vector_size` instead.\")\n"
     ]
    },
    {
     "name": "stdout",
     "output_type": "stream",
     "text": [
      "iteration 0\n",
      "iteration 1\n",
      "iteration 2\n",
      "iteration 3\n",
      "iteration 4\n",
      "iteration 5\n",
      "iteration 6\n",
      "iteration 7\n",
      "iteration 8\n",
      "iteration 9\n",
      "iteration 10\n",
      "iteration 11\n",
      "iteration 12\n",
      "iteration 13\n",
      "iteration 14\n",
      "iteration 15\n",
      "iteration 16\n",
      "iteration 17\n",
      "iteration 18\n",
      "iteration 19\n",
      "iteration 20\n",
      "iteration 21\n",
      "iteration 22\n",
      "iteration 23\n",
      "iteration 24\n",
      "iteration 25\n",
      "iteration 26\n",
      "iteration 27\n",
      "iteration 28\n",
      "iteration 29\n",
      "iteration 30\n",
      "iteration 31\n",
      "iteration 32\n",
      "iteration 33\n",
      "iteration 34\n",
      "iteration 35\n",
      "iteration 36\n",
      "iteration 37\n",
      "iteration 38\n",
      "iteration 39\n",
      "iteration 40\n",
      "iteration 41\n",
      "iteration 42\n",
      "iteration 43\n",
      "iteration 44\n",
      "iteration 45\n",
      "iteration 46\n",
      "iteration 47\n",
      "iteration 48\n",
      "iteration 49\n",
      "iteration 50\n",
      "iteration 51\n",
      "iteration 52\n",
      "iteration 53\n",
      "iteration 54\n",
      "iteration 55\n",
      "iteration 56\n",
      "iteration 57\n",
      "iteration 58\n",
      "iteration 59\n",
      "iteration 60\n",
      "iteration 61\n",
      "iteration 62\n",
      "iteration 63\n",
      "iteration 64\n",
      "iteration 65\n",
      "iteration 66\n",
      "iteration 67\n",
      "iteration 68\n",
      "iteration 69\n",
      "iteration 70\n",
      "iteration 71\n",
      "iteration 72\n",
      "iteration 73\n",
      "iteration 74\n",
      "iteration 75\n",
      "iteration 76\n",
      "iteration 77\n",
      "iteration 78\n",
      "iteration 79\n",
      "iteration 80\n",
      "iteration 81\n",
      "iteration 82\n",
      "iteration 83\n",
      "iteration 84\n",
      "iteration 85\n",
      "iteration 86\n",
      "iteration 87\n",
      "iteration 88\n",
      "iteration 89\n",
      "iteration 90\n",
      "iteration 91\n",
      "iteration 92\n",
      "iteration 93\n",
      "iteration 94\n",
      "iteration 95\n",
      "iteration 96\n",
      "iteration 97\n",
      "iteration 98\n",
      "iteration 99\n",
      "Model Saved\n"
     ]
    }
   ],
   "source": [
    "model = Doc2Vec(size =vec_size,\n",
    "                alpha=alpha, \n",
    "                min_alpha=0.00025,\n",
    "                min_count=1,\n",
    "                dm =1)\n",
    "  \n",
    "model.build_vocab(tagged_data)\n",
    "\n",
    "for epoch in range(max_epochs):\n",
    "    print('iteration {0}'.format(epoch))\n",
    "    model.train(tagged_data, # 여기에 사용할 태그가 지정된 데이터\n",
    "                total_examples=model.corpus_count,\n",
    "                epochs=100)\n",
    "    # 학습 비율을 줄입니다\n",
    "    model.alpha -= 0.0002\n",
    "    # 학습 비율을 고정합니다.\n",
    "    model.min_alpha = model.alpha\n",
    "\n",
    "model.save(\"d2v.model\")\n",
    "print(\"Model Saved\")\n"
   ]
  },
  {
   "cell_type": "markdown",
   "metadata": {
    "id": "8THTIyMhaTGs"
   },
   "source": [
    "### doc2vec 모델 평가"
   ]
  },
  {
   "cell_type": "code",
   "execution_count": 18,
   "metadata": {
    "executionInfo": {
     "elapsed": 15,
     "status": "ok",
     "timestamp": 1625201943421,
     "user": {
      "displayName": "Albert Anthony",
      "photoUrl": "",
      "userId": "06779463251817115427"
     },
     "user_tz": -420
    },
    "id": "rc2d1J9-aTGs"
   },
   "outputs": [],
   "source": [
    "from gensim.models.doc2vec import Doc2Vec\n",
    "model= Doc2Vec.load(\"d2v.model\")"
   ]
  },
  {
   "cell_type": "code",
   "execution_count": 19,
   "metadata": {
    "executionInfo": {
     "elapsed": 15,
     "status": "ok",
     "timestamp": 1625201943422,
     "user": {
      "displayName": "Albert Anthony",
      "photoUrl": "",
      "userId": "06779463251817115427"
     },
     "user_tz": -420
    },
    "id": "iH3JR16OaTGs"
   },
   "outputs": [],
   "source": [
    "test_data = word_tokenize(\"How much is the price?\".lower())"
   ]
  },
  {
   "cell_type": "markdown",
   "metadata": {
    "id": "ImHFLBeFaTGs"
   },
   "source": [
    "`model.infer_vector` 함수를 사용하여 문서와 관련된 벡터를 추론할 수 있습니다. 그런 다음`most_similar` 함수를 사용하여 우리가 만든 벡터와 가장 유사한 벡터를 찾을 수 있습니다. 결과는 어떻습니까?"
   ]
  },
  {
   "cell_type": "code",
   "execution_count": 20,
   "metadata": {
    "colab": {
     "base_uri": "https://localhost:8080/"
    },
    "executionInfo": {
     "elapsed": 15,
     "status": "ok",
     "timestamp": 1625201943422,
     "user": {
      "displayName": "Albert Anthony",
      "photoUrl": "",
      "userId": "06779463251817115427"
     },
     "user_tz": -420
    },
    "id": "tHtGjgCtaTGt",
    "outputId": "c21a88e8-fdab-4470-dd7a-8ffc7ec69d04"
   },
   "outputs": [
    {
     "name": "stdout",
     "output_type": "stream",
     "text": [
      "V1_infer [-0.12124646 -0.29389238 -0.5955331  -0.03794789  0.03689046 -0.44410917\n",
      " -0.10979072  0.14911555 -0.4933019   0.6537895   0.40305847  0.15220141\n",
      "  0.07170007 -0.45990878 -0.59167033  0.24461882 -0.21134788  0.15527983\n",
      "  0.01040273  0.05213068]\n"
     ]
    }
   ],
   "source": [
    "v1 = model.infer_vector(test_data)\n",
    "print(\"V1_infer\", v1)"
   ]
  },
  {
   "cell_type": "code",
   "execution_count": 21,
   "metadata": {
    "colab": {
     "base_uri": "https://localhost:8080/"
    },
    "executionInfo": {
     "elapsed": 14,
     "status": "ok",
     "timestamp": 1625201943423,
     "user": {
      "displayName": "Albert Anthony",
      "photoUrl": "",
      "userId": "06779463251817115427"
     },
     "user_tz": -420
    },
    "id": "6jcvVT6maTGt",
    "outputId": "8497571d-346f-42ae-f2d8-05c4f8b21cf7"
   },
   "outputs": [
    {
     "name": "stdout",
     "output_type": "stream",
     "text": [
      "[('0', 0.7205744385719299), ('2', 0.6770764589309692), ('31', 0.6648393869400024), ('25', 0.6648154258728027)]\n"
     ]
    }
   ],
   "source": [
    "similar_doc = model.docvecs.most_similar(positive = [v1], topn = 4) #positive is an attribute that shows positive correlation first followed by the correlation value\n",
    "print(similar_doc)"
   ]
  },
  {
   "cell_type": "code",
   "execution_count": 22,
   "metadata": {
    "colab": {
     "base_uri": "https://localhost:8080/"
    },
    "executionInfo": {
     "elapsed": 12,
     "status": "ok",
     "timestamp": 1625201943423,
     "user": {
      "displayName": "Albert Anthony",
      "photoUrl": "",
      "userId": "06779463251817115427"
     },
     "user_tz": -420
    },
    "id": "K5RVlbzkaTGt",
    "outputId": "3003c008-66f6-46d5-e1e8-3d1f1d283c92"
   },
   "outputs": [
    {
     "data": {
      "text/plain": [
       "TaggedDocument(words=['what', 'is', 'the', 'price', 'of', 'one', 'night', 'stay', 'in', 'basic', 'suite', '?'], tags=['0'])"
      ]
     },
     "execution_count": 22,
     "metadata": {},
     "output_type": "execute_result"
    }
   ],
   "source": [
    "num,_ = similar_doc[0]\n",
    "num = int(num)\n",
    "tagged_data[num]\n"
   ]
  },
  {
   "cell_type": "markdown",
   "metadata": {
    "id": "6nyV8stPaTGu"
   },
   "source": [
    "이전 코드 블록의 출력에서 이 모델이 생각했던 것 만큼 효과적이지 않다는 것이 분명합니다. 이 모델이 성공하기를 기대했지만 실패한 이유가 있습니까?"
   ]
  },
  {
   "cell_type": "markdown",
   "metadata": {
    "id": "IF3_3KTWaTGu"
   },
   "source": [
    "자세한 내용을 보려면 이 [링크](https://stackoverflow.com/questions/58206571/doc2vec-find-the-similar-sentence) 를 클릭하십시오. 이 문제의 요지는 다음과 같습니다.\n",
    "\n",
    "> Doc2Vec는 장난감 크기(toy-size)의 데이터셋에서 좋은 결과를 얻을 수 없으므로, 더 많은 데이터를 사용하기 전까지는 의미 있는 결과를 기대해서는 안 됩니다."
   ]
  },
  {
   "cell_type": "markdown",
   "metadata": {
    "id": "JkxnczmCaTGu"
   },
   "source": [
    "### 사전 학습된 doc2vec 사용\n",
    "\n",
    "따라서 인터넷에서 다운로드한 사전 검증된 모델을 사용하여 사용 사례를 최적화해 보겠습니다. The 우리가 취득 한 모델은 관련 언론 뉴스에 대한 훈련을 받았으며  [여기](https://github.com/jhlau/doc2vec) 서 다운로드 할 수 있습니다.\n",
    "\n",
    "모델을 로드하고 다시 평가해 보겠습니다."
   ]
  },
  {
   "cell_type": "code",
   "execution_count": 24,
   "metadata": {
    "executionInfo": {
     "elapsed": 15060,
     "status": "ok",
     "timestamp": 1625202451516,
     "user": {
      "displayName": "Albert Anthony",
      "photoUrl": "",
      "userId": "06779463251817115427"
     },
     "user_tz": -420
    },
    "id": "OwYkOiukaTGu"
   },
   "outputs": [],
   "source": [
    "model= Doc2Vec.load(os.getcwd()+\"/models/doc2vec.bin\")"
   ]
  },
  {
   "cell_type": "code",
   "execution_count": 25,
   "metadata": {
    "executionInfo": {
     "elapsed": 18,
     "status": "ok",
     "timestamp": 1625202451519,
     "user": {
      "displayName": "Albert Anthony",
      "photoUrl": "",
      "userId": "06779463251817115427"
     },
     "user_tz": -420
    },
    "id": "x3oHXA5zaTGu"
   },
   "outputs": [],
   "source": [
    "test_data = word_tokenize(\"How much is the price?\".lower())"
   ]
  },
  {
   "cell_type": "code",
   "execution_count": 26,
   "metadata": {
    "colab": {
     "base_uri": "https://localhost:8080/"
    },
    "executionInfo": {
     "elapsed": 18,
     "status": "ok",
     "timestamp": 1625202451520,
     "user": {
      "displayName": "Albert Anthony",
      "photoUrl": "",
      "userId": "06779463251817115427"
     },
     "user_tz": -420
    },
    "id": "hkRhAtmEaTGu",
    "outputId": "7b5ccc32-2dab-470d-9ef6-ba2d7cd9820a"
   },
   "outputs": [
    {
     "name": "stdout",
     "output_type": "stream",
     "text": [
      "V1_infer [ 3.45155969e-02 -2.55955383e-02  4.25544195e-03  2.34726537e-03\n",
      " -1.19248573e-02  7.07957894e-02 -8.46000984e-02 -6.44249842e-02\n",
      " -2.17548925e-02  5.78956818e-03  8.65090452e-03  8.48189592e-02\n",
      " -4.07059751e-02 -5.77710159e-02 -9.85386819e-02  3.22032608e-02\n",
      " -7.33430237e-02  3.49471532e-02 -6.27333298e-02 -9.13093686e-02\n",
      " -9.96336117e-02 -4.01511937e-02  2.40963623e-02  7.39931613e-02\n",
      " -4.45079803e-03 -1.05832636e-01 -2.48195473e-02 -4.52671051e-02\n",
      " -2.77641769e-02  1.36740068e-02 -8.54790062e-02 -7.99114350e-03\n",
      " -2.90457327e-02  2.42306143e-02  5.64891398e-02  2.46598702e-02\n",
      "  1.67198498e-02  9.84575367e-04 -2.83648744e-02 -1.00909658e-01\n",
      "  2.37279143e-02  2.37233248e-02  5.68677001e-02  1.33365523e-02\n",
      " -2.28467193e-02 -2.77601704e-02  2.67025945e-03 -4.98644561e-02\n",
      " -1.82799883e-02  5.40140085e-02 -6.93371817e-02 -4.73205820e-02\n",
      " -4.05686796e-02 -3.51031534e-02  6.74198195e-03 -4.86985855e-02\n",
      "  1.31985964e-02  3.77716720e-02  4.09564190e-02 -7.57795870e-02\n",
      "  6.94855377e-02 -6.01600073e-02 -4.92710769e-02  5.57027459e-02\n",
      "  2.66724322e-02 -1.30002052e-02 -9.77943316e-02 -8.67765099e-02\n",
      "  9.15783197e-02 -2.95259915e-02 -3.43538523e-02  5.50350584e-02\n",
      " -2.37813666e-02 -5.73697388e-02  1.51937818e-02  1.92497168e-02\n",
      "  1.74262095e-02  9.95472148e-02 -1.25179924e-02  3.89619134e-02\n",
      " -8.93030316e-03 -1.00272737e-01  1.49231255e-02 -5.79275563e-02\n",
      " -6.08124919e-02  2.36870833e-02  5.47779500e-02 -3.95209938e-02\n",
      "  1.36236008e-02 -2.28913445e-02 -3.65571082e-02 -1.20250722e-02\n",
      " -9.87097695e-02  2.85068434e-02  3.36679555e-02  6.33449573e-03\n",
      "  5.58843277e-03  7.04247039e-03 -3.52073126e-02 -8.05887356e-02\n",
      " -5.54359965e-02  5.22299223e-02  1.86890289e-02 -3.20467982e-03\n",
      "  1.01677887e-02 -7.22902343e-02  4.82776202e-02 -2.97313202e-02\n",
      " -4.32304386e-03  3.01043130e-02  2.54841032e-03 -4.28037383e-02\n",
      "  3.08361743e-02 -3.45323980e-02  5.11856750e-02 -1.72374994e-02\n",
      "  6.74099848e-03  6.56431168e-02 -8.97824615e-02  1.11478172e-01\n",
      " -3.46884914e-02  2.95587275e-02 -4.73582484e-02 -1.09853372e-02\n",
      " -3.24551314e-02 -5.30681498e-02  3.70773934e-02  3.00095733e-02\n",
      "  4.44762595e-03 -4.31155637e-02 -9.60053876e-03 -4.18077828e-03\n",
      "  4.22598831e-02 -2.96753328e-02 -5.09595424e-02  2.86342800e-02\n",
      " -4.37981412e-02 -4.96598296e-02 -7.26056173e-02  1.17325122e-02\n",
      "  1.73041839e-02 -4.73716855e-03 -2.19893772e-02  9.18666250e-04\n",
      "  6.95387423e-02 -2.81872898e-02  7.77893439e-02 -2.94923838e-02\n",
      " -5.45553714e-02  2.44152378e-02 -1.58837344e-02  2.64455210e-02\n",
      "  7.46949390e-02  4.34945226e-02 -1.76462159e-02 -6.80045262e-02\n",
      "  5.57010202e-03  4.33894712e-03 -1.67356506e-02 -3.24286968e-02\n",
      " -2.28280351e-02 -1.79558154e-03  6.61320146e-03  2.29258370e-02\n",
      "  2.19188929e-02  7.42309391e-02 -3.70128229e-02  5.84253622e-03\n",
      "  6.07407093e-02  4.28759903e-02 -1.06284522e-01 -9.13178027e-02\n",
      "  1.04635991e-02 -2.25076620e-02 -6.55775964e-02  1.48922168e-02\n",
      " -4.41296063e-02 -1.81489512e-02  6.54979870e-02 -8.49121734e-02\n",
      "  8.82363394e-02 -1.66542865e-02 -5.54755144e-02 -1.03218313e-02\n",
      " -3.58541831e-02 -3.47503424e-02  1.00442721e-02 -2.45876517e-03\n",
      "  2.67056320e-02  1.82036478e-02  3.81178386e-03  1.82385221e-02\n",
      "  2.69461609e-02  8.17058235e-03  3.10032745e-03 -1.16956597e-02\n",
      "  7.24322349e-03 -8.21923390e-02  6.00723065e-02 -3.05383969e-02\n",
      "  4.98879068e-02  9.60800350e-02 -7.15898490e-03 -2.52511259e-02\n",
      "  5.70622943e-02 -4.50466052e-02 -5.57769798e-02  7.47477487e-02\n",
      " -3.84036303e-02 -1.23941265e-01 -3.13740671e-02  5.81757650e-02\n",
      " -3.17641981e-02 -9.18178586e-04 -3.25805806e-02 -4.08384316e-02\n",
      "  3.95725705e-02 -5.72106466e-02  4.58802562e-03 -1.01035358e-02\n",
      "  6.91417083e-02  4.66178264e-03 -7.71469846e-02  2.64434088e-02\n",
      " -5.32597639e-02  3.08775567e-02 -2.49364343e-03 -5.48385642e-02\n",
      " -2.75993114e-03 -9.76703037e-03  1.45966411e-02  6.75291345e-02\n",
      " -2.48900075e-02  2.27855872e-02  1.15833590e-02  4.08268534e-02\n",
      " -1.33302035e-02  2.09679715e-02  7.33582187e-04  4.85403053e-02\n",
      " -6.16404191e-02 -4.48322594e-02 -6.79340139e-02 -1.46754342e-03\n",
      " -2.12953147e-02  1.56895127e-02  2.45136302e-02  9.29385517e-03\n",
      "  2.52537653e-02 -1.18441740e-02  4.70715538e-02 -1.24605764e-02\n",
      "  1.66139659e-02 -1.07923336e-02  5.85482344e-02 -2.78878883e-02\n",
      "  4.73318323e-02 -4.35938127e-02 -2.81736441e-02  3.64948530e-04\n",
      "  7.77200758e-02 -8.36074911e-03 -1.25417858e-01  2.22827308e-02\n",
      "  7.24008726e-03 -3.30248848e-03  1.34307863e-02  1.88110489e-02\n",
      "  3.03296149e-02 -1.81165952e-02 -5.44980110e-04 -4.16087313e-03\n",
      "  1.12698274e-02 -2.79077142e-02 -1.41575625e-02 -4.56571728e-02\n",
      "  3.58250439e-02 -1.68105848e-02  1.20921675e-02 -2.98133269e-02\n",
      "  8.30463832e-05  2.02111602e-02  5.38663417e-02 -5.23163974e-02\n",
      "  9.58679840e-02  5.53541332e-02 -4.94397804e-02 -2.11919602e-02\n",
      " -4.47073355e-02 -9.16644558e-03  1.05652213e-02 -5.41269071e-02\n",
      " -3.21185514e-02  2.50463523e-02 -2.84057781e-02 -3.10091134e-02\n",
      " -7.70497927e-03 -4.46599200e-02  3.93535383e-03 -2.15931446e-03]\n"
     ]
    }
   ],
   "source": [
    "v1 = model.infer_vector(test_data)\n",
    "print(\"V1_infer\", v1)"
   ]
  },
  {
   "cell_type": "code",
   "execution_count": 27,
   "metadata": {
    "colab": {
     "base_uri": "https://localhost:8080/"
    },
    "executionInfo": {
     "elapsed": 17,
     "status": "ok",
     "timestamp": 1625202451520,
     "user": {
      "displayName": "Albert Anthony",
      "photoUrl": "",
      "userId": "06779463251817115427"
     },
     "user_tz": -420
    },
    "id": "wen70awiaTGu",
    "outputId": "1c791631-02ea-4f0f-cee0-08f627ab0cb3"
   },
   "outputs": [
    {
     "name": "stdout",
     "output_type": "stream",
     "text": [
      "what is the price of one night stay in basic suite?\n",
      "[[0.58686936]]\n",
      "how old is this establishment?\n",
      "[[0.48568475]]\n",
      "what time is breakfast served?\n",
      "[[0.44974625]]\n",
      "what is the breakfast menu?\n",
      "[[0.52232504]]\n",
      "what is the history behind this hotel or establishment?\n",
      "[[0.42273846]]\n",
      "how many rooms are there in this hotel?\n",
      "[[0.5166798]]\n",
      "what are the types of rooms or suites offered by the hotel?\n",
      "[[0.43157318]]\n",
      "what is the name of the hotel?\n",
      "[[0.5521878]]\n",
      "is room service served 24 hours?\n",
      "[[0.34110713]]\n",
      "how do i call for room service?\n",
      "[[0.5226105]]\n",
      "are there any restaurants in the hotel?\n",
      "[[0.5191803]]\n",
      "how many floors are there in the hotel?\n",
      "[[0.46610382]]\n",
      "what is the price of one night stay at the mid-level suite?\n",
      "[[0.5418877]]\n",
      "what is the price of one night stay at the premium suite?\n",
      "[[0.59164524]]\n",
      "do you have tuxedo services?\n",
      "[[0.45656478]]\n",
      "do you have a laundry service?\n",
      "[[0.5198914]]\n",
      "what time do the restaurants open for dinner?\n",
      "[[0.5032941]]\n",
      "what are the near by tourist attractions?\n",
      "[[0.53591764]]\n",
      "is there a spa in the hotel?\n",
      "[[0.49958116]]\n",
      "is there anywhere i can get a massage?\n",
      "[[0.5198175]]\n",
      "what time is the check in?\n",
      "[[0.55189276]]\n",
      "what time is the check out?\n",
      "[[0.56674236]]\n",
      "do you offer handicapped rooms?\n",
      "[[0.47212112]]\n",
      "is parking available at the hotel?\n",
      "[[0.45696092]]\n",
      "can i reserve a parking lot?\n",
      "[[0.5046564]]\n",
      "what are the reception opening hours?\n",
      "[[0.39917263]]\n",
      "can i also book breakfast online and what is the cost?\n",
      "[[0.49749064]]\n",
      "is it possible to book spa treatments online?\n",
      "[[0.44282457]]\n",
      "can i book tea time online?\n",
      "[[0.50006264]]\n",
      "can i bring my pet?\n",
      "[[0.50628704]]\n",
      "are the rates per person or per room?\n",
      "[[0.552702]]\n",
      "why do the costs vary from day to day?\n",
      "[[0.6254012]]\n",
      "can i book two rooms of different categories?\n",
      "[[0.4593195]]\n",
      "can i book two rooms with different occupancy?\n",
      "[[0.47020027]]\n",
      "is wi-fi available at the hotel/in the room?\n",
      "[[0.49175885]]\n",
      "which size are the rooms?\n",
      "[[0.52872497]]\n",
      "can i reserve a table in a restaurant?\n",
      "[[0.4827191]]\n",
      "do you offer non-smoking rooms?\n",
      "[[0.5021624]]\n",
      "do you offer child rates?\n",
      "[[0.55787593]]\n",
      "can i use the spa area even if i am not staying in your hotel?\n",
      "[[0.44966444]]\n",
      "can i use the spa area after checking out?\n",
      "[[0.42248145]]\n",
      "do you offer hotel shuttles, for example, to the next airport or train station?\n",
      "[[0.4029189]]\n",
      "can i have breakfast/dinner even if i am not staying in your hotel?\n",
      "[[0.48426163]]\n",
      "are special requests, such as gluten-free meals or feather-free pillows, manageable?\n",
      "[[0.3476784]]\n",
      "i have bought a groupon-voucher, how can i redeem it in your hotel?\n",
      "[[0.56454545]]\n",
      "where can i get a copy of my invoice after departure?\n",
      "[[0.43416205]]\n",
      "what should i do, if i lost or forgot something in my room?\n",
      "[[0.5395041]]\n"
     ]
    }
   ],
   "source": [
    "for i in sent_tokens:\n",
    "    v2 = model.infer_vector(word_tokenize(i.lower()))\n",
    "    print(i)\n",
    "    print(cosine_similarity(v1.reshape(1, -1),v2.reshape(1, -1)))"
   ]
  },
  {
   "cell_type": "code",
   "execution_count": 28,
   "metadata": {
    "executionInfo": {
     "elapsed": 14,
     "status": "ok",
     "timestamp": 1625202451520,
     "user": {
      "displayName": "Albert Anthony",
      "photoUrl": "",
      "userId": "06779463251817115427"
     },
     "user_tz": -420
    },
    "id": "cGEBbf8eaTGu"
   },
   "outputs": [],
   "source": [
    "def calc_prob(v1, q):\n",
    "    probs = dict()\n",
    "    for i in q:\n",
    "        v2 = model.infer_vector(word_tokenize(i.lower()))\n",
    "        sim = cosine_similarity(v1.reshape(1, -1),v2.reshape(1, -1))\n",
    "        #print(i)\n",
    "        #print(sim)\n",
    "        probs[i] = sim[0][0]\n",
    "    sorted_d = dict( sorted(probs.items(), key=operator.itemgetter(1),reverse=True))\n",
    "    \n",
    "    return list(sorted_d.items())[0]"
   ]
  },
  {
   "cell_type": "code",
   "execution_count": 29,
   "metadata": {
    "colab": {
     "base_uri": "https://localhost:8080/"
    },
    "executionInfo": {
     "elapsed": 13,
     "status": "ok",
     "timestamp": 1625202451520,
     "user": {
      "displayName": "Albert Anthony",
      "photoUrl": "",
      "userId": "06779463251817115427"
     },
     "user_tz": -420
    },
    "id": "NFb4-p0faTGu",
    "outputId": "0cd58c0a-2388-412a-c85c-a0b58d65ba1f"
   },
   "outputs": [
    {
     "data": {
      "text/plain": [
       "('why do the costs vary from day to day?', 0.6434249)"
      ]
     },
     "execution_count": 29,
     "metadata": {},
     "output_type": "execute_result"
    }
   ],
   "source": [
    "calc_prob(v1, sent_tokens)"
   ]
  },
  {
   "cell_type": "markdown",
   "metadata": {
    "id": "ISG0dPL8aTGv"
   },
   "source": [
    "이 모델이 더 효과적인 것처럼 보이기 때문에, 우리의 챗봇에 통합해 봅시다."
   ]
  },
  {
   "cell_type": "code",
   "execution_count": 30,
   "metadata": {
    "colab": {
     "base_uri": "https://localhost:8080/",
     "height": 565
    },
    "executionInfo": {
     "elapsed": 12433,
     "status": "error",
     "timestamp": 1625202463943,
     "user": {
      "displayName": "Albert Anthony",
      "photoUrl": "",
      "userId": "06779463251817115427"
     },
     "user_tz": -420
    },
    "id": "S8JaMj8TaTGv",
    "outputId": "32ea27c9-eb69-4808-b6bc-fc6c6bbef947"
   },
   "outputs": [
    {
     "name": "stdout",
     "output_type": "stream",
     "text": [
      "Jane: My name is Jane. I will answer your queries about this hotel. If you want to exit, type Bye!\n",
      "Jane: Yes, we do have a spa; however, it is closed from 7pm onwards.\n",
      " (With similarity of  0.719463 )\n",
      "Jane: Check in is at anytime between 10am and 1pm.\n",
      " (With similarity of  0.7074312 )\n",
      "Jane: 500$ per night is the price for a premium suite.\n",
      " (With similarity of  0.7082869 )\n",
      "Jane: Bye! take care..\n"
     ]
    }
   ],
   "source": [
    "flag=True\n",
    "print(\"Jane: My name is Jane. I will answer your queries about this hotel. If you want to exit, type Bye!\")\n",
    "while(flag==True):\n",
    "    user_response = input()\n",
    "    user_response=user_response.lower()\n",
    "    if(user_response!='bye'):\n",
    "        if(user_response=='thanks' or user_response=='thank you' ):\n",
    "            flag=False\n",
    "            print(\"Jane: You are welcome..\")\n",
    "        else:\n",
    "            if(greeting(user_response)!=None):\n",
    "                print(\"Jane: \"+greeting(user_response))\n",
    "\n",
    "            else:\n",
    "                print(\"Jane: \",end=\"\")\n",
    "                resp= calc_prob(model.infer_vector(word_tokenize(user_response)), sent_tokens)\n",
    "                print(res[resp[0]], )\n",
    "                print(' (With similarity of ',resp[1],')')\n",
    "\n",
    "    else:\n",
    "        flag=False\n",
    "        print(\"Jane: Bye! take care..\")"
   ]
  },
  {
   "cell_type": "markdown",
   "metadata": {
    "id": "g55PaQhWputU"
   },
   "source": [
    "**두 모델의 성능** 을 관찰한 후 다음과 같은 몇 가지 명확한 결론을 내릴 수 있습니다:\n",
    "\n",
    "1. Doc2vec 모델은 단어 간의 관계를 이해하기 위해 더 많은 데이터가 필요합니다. 그리고 사전 훈련된 모델을 사용한 후에도 코사인 유사성 모델에 비해 모델의 응답의 품질이 아직 부족합니다.\n",
    "2. 코사인 유사성 모델은 더 작고 잘 정의된 데이터 세트에서 더 잘 작동합니다. 이는 몇 가지 간단한 질문을 효과적으로 해결할 수 있지만 컨텍스트를 필요로 하는 복잡한 질문은 해결할 수 없다는 의미입니다."
   ]
  }
 ],
 "metadata": {
  "colab": {
   "collapsed_sections": [],
   "name": "Notebook_Module_27_Hotel_Chatbot.ipynb",
   "provenance": []
  },
  "kernelspec": {
   "display_name": "Python 3",
   "language": "python",
   "name": "python3"
  },
  "language_info": {
   "codemirror_mode": {
    "name": "ipython",
    "version": 3
   },
   "file_extension": ".py",
   "mimetype": "text/x-python",
   "name": "python",
   "nbconvert_exporter": "python",
   "pygments_lexer": "ipython3",
   "version": "3.9.12"
  }
 },
 "nbformat": 4,
 "nbformat_minor": 4
}
