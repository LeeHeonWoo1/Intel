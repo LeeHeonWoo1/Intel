{
 "cells": [
  {
   "cell_type": "markdown",
   "metadata": {},
   "source": [
    "### 주차별 프로젝트(1주차 : 종이 헬리콥터 회귀분석)\n",
    "\n",
    "구성 변수 : 날개 길이, 날개 폭, 다리 길이, 몸통 길이 + ɑ\n",
    "\n",
    "모델 구성 : scikit-learn, NN"
   ]
  },
  {
   "cell_type": "markdown",
   "metadata": {},
   "source": [
    "### 데이터 구성\n",
    "실제로 만들어서 시간을 관측하고, 시간을 측정하는 기준은 아래와 같다.\n",
    "\n",
    "- 두 날개의 가장 안쪽을 두 손가락을 이용해 천장에 붙인 뒤 낙하"
   ]
  },
  {
   "cell_type": "code",
   "execution_count": 1,
   "metadata": {},
   "outputs": [
    {
     "data": {
      "text/plain": [
       "(15, 5)"
      ]
     },
     "execution_count": 1,
     "metadata": {},
     "output_type": "execute_result"
    }
   ],
   "source": [
    "import pandas as pd\n",
    "\n",
    "dataset = {\n",
    "    \"wing_length\" : [11.0, 9.5, 10.2, 16.0, 9.5, 13.25, 13.25, 11.8, 8.5, 8.0, 9.7, 9.0, 9.0, 9.0, 7.5],\n",
    "    \"wing_width\" : [6.25, 7.4, 5.3, 7.4, 7.4, 7.45, 7.45, 6.95, 2.7, 2.7, 3.0, 3.0, 3.0, 3.0, 2.7],\n",
    "    \"body_length\" : [3.0, 3.0, 1.8, 1.0, 3.0, 2.0, 2.0, 2.25, 2.0, 2.0, 3.0, 3.0, 2.5, 2.15, 1.65],\n",
    "    \"leg_length\" : [7.05, 8.5, 2.5, 4.0, 3.6, 4.65, 3.8, 4.8, 2.5, 2.5, 3.5, 3.5, 4.0, 4.3, 2.8],\n",
    "    \"target\" : [2.31, 1.77, 2.73, 2.43, 2.27, 2.5, 2.28, 2.41, 2.41, 2.76, 2.98, 2.69, 2.73, 2.8, 2.83]\n",
    "}\n",
    "\n",
    "len(dataset['wing_length'])\n",
    "df = pd.DataFrame(dataset, columns = dataset.keys(), index = list(range(len(dataset['wing_length']))))\n",
    "df.shape"
   ]
  },
  {
   "cell_type": "markdown",
   "metadata": {},
   "source": [
    "### 학습 데이터 구성\n",
    "- target값과 데이터 분할, 정규화 진행"
   ]
  },
  {
   "cell_type": "code",
   "execution_count": 2,
   "metadata": {},
   "outputs": [],
   "source": [
    "X = df.drop(labels = 'target', axis = 1)\n",
    "y = df[['target']]"
   ]
  },
  {
   "cell_type": "code",
   "execution_count": 3,
   "metadata": {},
   "outputs": [
    {
     "data": {
      "text/plain": [
       "array([[0.41176471, 0.74736842, 1.        , 0.75833333],\n",
       "       [0.23529412, 0.98947368, 1.        , 1.        ],\n",
       "       [0.31764706, 0.54736842, 0.4       , 0.        ],\n",
       "       [1.        , 0.98947368, 0.        , 0.25      ],\n",
       "       [0.23529412, 0.98947368, 1.        , 0.18333333],\n",
       "       [0.67647059, 1.        , 0.5       , 0.35833333],\n",
       "       [0.67647059, 1.        , 0.5       , 0.21666667],\n",
       "       [0.50588235, 0.89473684, 0.625     , 0.38333333],\n",
       "       [0.11764706, 0.        , 0.5       , 0.        ],\n",
       "       [0.05882353, 0.        , 0.5       , 0.        ],\n",
       "       [0.25882353, 0.06315789, 1.        , 0.16666667],\n",
       "       [0.17647059, 0.06315789, 1.        , 0.16666667],\n",
       "       [0.17647059, 0.06315789, 0.75      , 0.25      ],\n",
       "       [0.17647059, 0.06315789, 0.575     , 0.3       ],\n",
       "       [0.        , 0.        , 0.325     , 0.05      ]])"
      ]
     },
     "execution_count": 3,
     "metadata": {},
     "output_type": "execute_result"
    }
   ],
   "source": [
    "from sklearn.preprocessing import MinMaxScaler\n",
    "\n",
    "scaler = MinMaxScaler(feature_range = (0, 1))\n",
    "X = scaler.fit_transform(X)\n",
    "X"
   ]
  },
  {
   "cell_type": "code",
   "execution_count": 4,
   "metadata": {},
   "outputs": [
    {
     "data": {
      "text/plain": [
       "array([[0.44628099],\n",
       "       [0.        ],\n",
       "       [0.79338843],\n",
       "       [0.54545455],\n",
       "       [0.41322314],\n",
       "       [0.60330579],\n",
       "       [0.4214876 ],\n",
       "       [0.52892562],\n",
       "       [0.52892562],\n",
       "       [0.81818182],\n",
       "       [1.        ],\n",
       "       [0.76033058],\n",
       "       [0.79338843],\n",
       "       [0.85123967],\n",
       "       [0.87603306]])"
      ]
     },
     "execution_count": 4,
     "metadata": {},
     "output_type": "execute_result"
    }
   ],
   "source": [
    "y = scaler.fit_transform(y)\n",
    "y"
   ]
  },
  {
   "cell_type": "markdown",
   "metadata": {},
   "source": [
    "### 모델 빌드1 : ANN\n",
    "- input layer's shape = (4, ) ➡️ 4개의 독립변수\n",
    "- 64개의 노드를 가지는 hidden layer 4개층 구성, 활성화 함수는 relu 사용\n",
    "- output layer's shape = (1, ) ➡️ 비행시간에 해당하는 1개의 출력 변수, 항등함수로 활성화\n",
    "\n",
    "### 모델 빌드 2 : scikit learn\n",
    "다중 선형회귀 분석 모델들로 시도\n",
    "\n",
    "#### 신경망 모델링"
   ]
  },
  {
   "cell_type": "code",
   "execution_count": 5,
   "metadata": {},
   "outputs": [],
   "source": [
    "from keras.models import Model\n",
    "from keras.layers import Dense, Input\n",
    "from keras.optimizers import Adam\n",
    "\n",
    "input_layer = Input(shape = (4, ))\n",
    "x = Dense(64, activation = \"relu\")(input_layer)\n",
    "x = Dense(64, activation = 'relu')(x)\n",
    "x = Dense(64, activation = 'relu')(x)\n",
    "x = Dense(64, activation = 'relu')(x)\n",
    "output_layer = Dense(1, activation = \"sigmoid\")(x)\n",
    "\n",
    "optim = Adam(learning_rate = 0.001)\n",
    "\n",
    "model = Model(input_layer, output_layer)\n",
    "model.compile(optimizer = optim, loss = \"mean_squared_error\")"
   ]
  },
  {
   "cell_type": "code",
   "execution_count": null,
   "metadata": {},
   "outputs": [],
   "source": [
    "model.fit(X, y, epochs = 500)\n",
    "\n",
    "# clear output of training cell"
   ]
  },
  {
   "cell_type": "markdown",
   "metadata": {},
   "source": [
    "### 예측값 산출\n",
    "- 별도의 테스트 데이터가 없기에, 훈련 시에 사용한 데이터를 기반으로 예측"
   ]
  },
  {
   "cell_type": "code",
   "execution_count": 7,
   "metadata": {},
   "outputs": [
    {
     "name": "stdout",
     "output_type": "stream",
     "text": [
      "1/1 [==============================] - 0s 59ms/step\n",
      "1/1 [==============================] - 0s 15ms/step\n",
      "1/1 [==============================] - 0s 14ms/step\n",
      "1/1 [==============================] - 0s 15ms/step\n",
      "1/1 [==============================] - 0s 16ms/step\n",
      "1/1 [==============================] - 0s 15ms/step\n",
      "1/1 [==============================] - 0s 14ms/step\n",
      "1/1 [==============================] - 0s 15ms/step\n",
      "1/1 [==============================] - 0s 16ms/step\n",
      "1/1 [==============================] - 0s 14ms/step\n",
      "1/1 [==============================] - 0s 14ms/step\n",
      "1/1 [==============================] - 0s 15ms/step\n",
      "1/1 [==============================] - 0s 14ms/step\n",
      "1/1 [==============================] - 0s 13ms/step\n",
      "1/1 [==============================] - 0s 15ms/step\n"
     ]
    }
   ],
   "source": [
    "predicted_list = []\n",
    "for i in range(X.shape[0]):\n",
    "    predicted_list.append(model.predict(X)[i][0])"
   ]
  },
  {
   "cell_type": "markdown",
   "metadata": {},
   "source": [
    "### 기존 데이터 프레임과 병합\n",
    "- 기존 데이터를 복사하여 예측된 값들과 함께 하나의 데이터프레임으로 병합한다."
   ]
  },
  {
   "cell_type": "code",
   "execution_count": 8,
   "metadata": {},
   "outputs": [],
   "source": [
    "import numpy as np\n",
    "\n",
    "predicted_list = np.array(predicted_list).reshape(-1, 1)\n",
    "predicted_list = scaler.inverse_transform(predicted_list)\n",
    "\n",
    "df1 = df.copy()\n",
    "df1['predicted_target'] = predicted_list"
   ]
  },
  {
   "cell_type": "code",
   "execution_count": 9,
   "metadata": {},
   "outputs": [
    {
     "data": {
      "text/html": [
       "<div>\n",
       "<style scoped>\n",
       "    .dataframe tbody tr th:only-of-type {\n",
       "        vertical-align: middle;\n",
       "    }\n",
       "\n",
       "    .dataframe tbody tr th {\n",
       "        vertical-align: top;\n",
       "    }\n",
       "\n",
       "    .dataframe thead th {\n",
       "        text-align: right;\n",
       "    }\n",
       "</style>\n",
       "<table border=\"1\" class=\"dataframe\">\n",
       "  <thead>\n",
       "    <tr style=\"text-align: right;\">\n",
       "      <th></th>\n",
       "      <th>wing_length</th>\n",
       "      <th>wing_width</th>\n",
       "      <th>body_length</th>\n",
       "      <th>leg_length</th>\n",
       "      <th>target</th>\n",
       "      <th>predicted_target</th>\n",
       "    </tr>\n",
       "  </thead>\n",
       "  <tbody>\n",
       "    <tr>\n",
       "      <th>0</th>\n",
       "      <td>11.00</td>\n",
       "      <td>6.25</td>\n",
       "      <td>3.00</td>\n",
       "      <td>7.05</td>\n",
       "      <td>2.31</td>\n",
       "      <td>2.282312</td>\n",
       "    </tr>\n",
       "    <tr>\n",
       "      <th>1</th>\n",
       "      <td>9.50</td>\n",
       "      <td>7.40</td>\n",
       "      <td>3.00</td>\n",
       "      <td>8.50</td>\n",
       "      <td>1.77</td>\n",
       "      <td>1.773568</td>\n",
       "    </tr>\n",
       "    <tr>\n",
       "      <th>2</th>\n",
       "      <td>10.20</td>\n",
       "      <td>5.30</td>\n",
       "      <td>1.80</td>\n",
       "      <td>2.50</td>\n",
       "      <td>2.73</td>\n",
       "      <td>2.723040</td>\n",
       "    </tr>\n",
       "    <tr>\n",
       "      <th>3</th>\n",
       "      <td>16.00</td>\n",
       "      <td>7.40</td>\n",
       "      <td>1.00</td>\n",
       "      <td>4.00</td>\n",
       "      <td>2.43</td>\n",
       "      <td>2.417215</td>\n",
       "    </tr>\n",
       "    <tr>\n",
       "      <th>4</th>\n",
       "      <td>9.50</td>\n",
       "      <td>7.40</td>\n",
       "      <td>3.00</td>\n",
       "      <td>3.60</td>\n",
       "      <td>2.27</td>\n",
       "      <td>2.247437</td>\n",
       "    </tr>\n",
       "    <tr>\n",
       "      <th>5</th>\n",
       "      <td>13.25</td>\n",
       "      <td>7.45</td>\n",
       "      <td>2.00</td>\n",
       "      <td>4.65</td>\n",
       "      <td>2.50</td>\n",
       "      <td>2.484757</td>\n",
       "    </tr>\n",
       "    <tr>\n",
       "      <th>6</th>\n",
       "      <td>13.25</td>\n",
       "      <td>7.45</td>\n",
       "      <td>2.00</td>\n",
       "      <td>3.80</td>\n",
       "      <td>2.28</td>\n",
       "      <td>2.264823</td>\n",
       "    </tr>\n",
       "    <tr>\n",
       "      <th>7</th>\n",
       "      <td>11.80</td>\n",
       "      <td>6.95</td>\n",
       "      <td>2.25</td>\n",
       "      <td>4.80</td>\n",
       "      <td>2.41</td>\n",
       "      <td>2.388357</td>\n",
       "    </tr>\n",
       "    <tr>\n",
       "      <th>8</th>\n",
       "      <td>8.50</td>\n",
       "      <td>2.70</td>\n",
       "      <td>2.00</td>\n",
       "      <td>2.50</td>\n",
       "      <td>2.41</td>\n",
       "      <td>2.399604</td>\n",
       "    </tr>\n",
       "    <tr>\n",
       "      <th>9</th>\n",
       "      <td>8.00</td>\n",
       "      <td>2.70</td>\n",
       "      <td>2.00</td>\n",
       "      <td>2.50</td>\n",
       "      <td>2.76</td>\n",
       "      <td>2.750018</td>\n",
       "    </tr>\n",
       "    <tr>\n",
       "      <th>10</th>\n",
       "      <td>9.70</td>\n",
       "      <td>3.00</td>\n",
       "      <td>3.00</td>\n",
       "      <td>3.50</td>\n",
       "      <td>2.98</td>\n",
       "      <td>2.938662</td>\n",
       "    </tr>\n",
       "    <tr>\n",
       "      <th>11</th>\n",
       "      <td>9.00</td>\n",
       "      <td>3.00</td>\n",
       "      <td>3.00</td>\n",
       "      <td>3.50</td>\n",
       "      <td>2.69</td>\n",
       "      <td>2.684064</td>\n",
       "    </tr>\n",
       "    <tr>\n",
       "      <th>12</th>\n",
       "      <td>9.00</td>\n",
       "      <td>3.00</td>\n",
       "      <td>2.50</td>\n",
       "      <td>4.00</td>\n",
       "      <td>2.73</td>\n",
       "      <td>2.723296</td>\n",
       "    </tr>\n",
       "    <tr>\n",
       "      <th>13</th>\n",
       "      <td>9.00</td>\n",
       "      <td>3.00</td>\n",
       "      <td>2.15</td>\n",
       "      <td>4.30</td>\n",
       "      <td>2.80</td>\n",
       "      <td>2.791691</td>\n",
       "    </tr>\n",
       "    <tr>\n",
       "      <th>14</th>\n",
       "      <td>7.50</td>\n",
       "      <td>2.70</td>\n",
       "      <td>1.65</td>\n",
       "      <td>2.80</td>\n",
       "      <td>2.83</td>\n",
       "      <td>2.826084</td>\n",
       "    </tr>\n",
       "  </tbody>\n",
       "</table>\n",
       "</div>"
      ],
      "text/plain": [
       "    wing_length  wing_width  body_length  leg_length  target  predicted_target\n",
       "0         11.00        6.25         3.00        7.05    2.31          2.282312\n",
       "1          9.50        7.40         3.00        8.50    1.77          1.773568\n",
       "2         10.20        5.30         1.80        2.50    2.73          2.723040\n",
       "3         16.00        7.40         1.00        4.00    2.43          2.417215\n",
       "4          9.50        7.40         3.00        3.60    2.27          2.247437\n",
       "5         13.25        7.45         2.00        4.65    2.50          2.484757\n",
       "6         13.25        7.45         2.00        3.80    2.28          2.264823\n",
       "7         11.80        6.95         2.25        4.80    2.41          2.388357\n",
       "8          8.50        2.70         2.00        2.50    2.41          2.399604\n",
       "9          8.00        2.70         2.00        2.50    2.76          2.750018\n",
       "10         9.70        3.00         3.00        3.50    2.98          2.938662\n",
       "11         9.00        3.00         3.00        3.50    2.69          2.684064\n",
       "12         9.00        3.00         2.50        4.00    2.73          2.723296\n",
       "13         9.00        3.00         2.15        4.30    2.80          2.791691\n",
       "14         7.50        2.70         1.65        2.80    2.83          2.826084"
      ]
     },
     "execution_count": 9,
     "metadata": {},
     "output_type": "execute_result"
    }
   ],
   "source": [
    "df1"
   ]
  },
  {
   "cell_type": "markdown",
   "metadata": {},
   "source": [
    "### svr 모델로 회귀 모델 생성"
   ]
  },
  {
   "cell_type": "code",
   "execution_count": 10,
   "metadata": {},
   "outputs": [],
   "source": [
    "from sklearn.svm import LinearSVR\n",
    "from sklearn.model_selection import GridSearchCV\n",
    "\n",
    "lin = LinearSVR(random_state = 22)"
   ]
  },
  {
   "cell_type": "markdown",
   "metadata": {},
   "source": [
    "### GridSearchCV를 활용한 하이퍼 파라미터 튜닝"
   ]
  },
  {
   "cell_type": "code",
   "execution_count": 11,
   "metadata": {},
   "outputs": [
    {
     "data": {
      "text/html": [
       "<style>#sk-container-id-1 {color: black;background-color: white;}#sk-container-id-1 pre{padding: 0;}#sk-container-id-1 div.sk-toggleable {background-color: white;}#sk-container-id-1 label.sk-toggleable__label {cursor: pointer;display: block;width: 100%;margin-bottom: 0;padding: 0.3em;box-sizing: border-box;text-align: center;}#sk-container-id-1 label.sk-toggleable__label-arrow:before {content: \"▸\";float: left;margin-right: 0.25em;color: #696969;}#sk-container-id-1 label.sk-toggleable__label-arrow:hover:before {color: black;}#sk-container-id-1 div.sk-estimator:hover label.sk-toggleable__label-arrow:before {color: black;}#sk-container-id-1 div.sk-toggleable__content {max-height: 0;max-width: 0;overflow: hidden;text-align: left;background-color: #f0f8ff;}#sk-container-id-1 div.sk-toggleable__content pre {margin: 0.2em;color: black;border-radius: 0.25em;background-color: #f0f8ff;}#sk-container-id-1 input.sk-toggleable__control:checked~div.sk-toggleable__content {max-height: 200px;max-width: 100%;overflow: auto;}#sk-container-id-1 input.sk-toggleable__control:checked~label.sk-toggleable__label-arrow:before {content: \"▾\";}#sk-container-id-1 div.sk-estimator input.sk-toggleable__control:checked~label.sk-toggleable__label {background-color: #d4ebff;}#sk-container-id-1 div.sk-label input.sk-toggleable__control:checked~label.sk-toggleable__label {background-color: #d4ebff;}#sk-container-id-1 input.sk-hidden--visually {border: 0;clip: rect(1px 1px 1px 1px);clip: rect(1px, 1px, 1px, 1px);height: 1px;margin: -1px;overflow: hidden;padding: 0;position: absolute;width: 1px;}#sk-container-id-1 div.sk-estimator {font-family: monospace;background-color: #f0f8ff;border: 1px dotted black;border-radius: 0.25em;box-sizing: border-box;margin-bottom: 0.5em;}#sk-container-id-1 div.sk-estimator:hover {background-color: #d4ebff;}#sk-container-id-1 div.sk-parallel-item::after {content: \"\";width: 100%;border-bottom: 1px solid gray;flex-grow: 1;}#sk-container-id-1 div.sk-label:hover label.sk-toggleable__label {background-color: #d4ebff;}#sk-container-id-1 div.sk-serial::before {content: \"\";position: absolute;border-left: 1px solid gray;box-sizing: border-box;top: 0;bottom: 0;left: 50%;z-index: 0;}#sk-container-id-1 div.sk-serial {display: flex;flex-direction: column;align-items: center;background-color: white;padding-right: 0.2em;padding-left: 0.2em;position: relative;}#sk-container-id-1 div.sk-item {position: relative;z-index: 1;}#sk-container-id-1 div.sk-parallel {display: flex;align-items: stretch;justify-content: center;background-color: white;position: relative;}#sk-container-id-1 div.sk-item::before, #sk-container-id-1 div.sk-parallel-item::before {content: \"\";position: absolute;border-left: 1px solid gray;box-sizing: border-box;top: 0;bottom: 0;left: 50%;z-index: -1;}#sk-container-id-1 div.sk-parallel-item {display: flex;flex-direction: column;z-index: 1;position: relative;background-color: white;}#sk-container-id-1 div.sk-parallel-item:first-child::after {align-self: flex-end;width: 50%;}#sk-container-id-1 div.sk-parallel-item:last-child::after {align-self: flex-start;width: 50%;}#sk-container-id-1 div.sk-parallel-item:only-child::after {width: 0;}#sk-container-id-1 div.sk-dashed-wrapped {border: 1px dashed gray;margin: 0 0.4em 0.5em 0.4em;box-sizing: border-box;padding-bottom: 0.4em;background-color: white;}#sk-container-id-1 div.sk-label label {font-family: monospace;font-weight: bold;display: inline-block;line-height: 1.2em;}#sk-container-id-1 div.sk-label-container {text-align: center;}#sk-container-id-1 div.sk-container {/* jupyter's `normalize.less` sets `[hidden] { display: none; }` but bootstrap.min.css set `[hidden] { display: none !important; }` so we also need the `!important` here to be able to override the default hidden behavior on the sphinx rendered scikit-learn.org. See: https://github.com/scikit-learn/scikit-learn/issues/21755 */display: inline-block !important;position: relative;}#sk-container-id-1 div.sk-text-repr-fallback {display: none;}</style><div id=\"sk-container-id-1\" class=\"sk-top-container\"><div class=\"sk-text-repr-fallback\"><pre>GridSearchCV(cv=5, estimator=LinearSVR(random_state=22), n_jobs=-1,\n",
       "             param_grid={&#x27;C&#x27;: array([0.001, 0.01 , 0.1  , 1.   ]),\n",
       "                         &#x27;epsilon&#x27;: array([1.e-02, 1.e-01, 1.e+00, 1.e+01, 1.e+02]),\n",
       "                         &#x27;max_iter&#x27;: [1000, 1500, 2000, 2500, 3000, 3500]})</pre><b>In a Jupyter environment, please rerun this cell to show the HTML representation or trust the notebook. <br />On GitHub, the HTML representation is unable to render, please try loading this page with nbviewer.org.</b></div><div class=\"sk-container\" hidden><div class=\"sk-item sk-dashed-wrapped\"><div class=\"sk-label-container\"><div class=\"sk-label sk-toggleable\"><input class=\"sk-toggleable__control sk-hidden--visually\" id=\"sk-estimator-id-1\" type=\"checkbox\" ><label for=\"sk-estimator-id-1\" class=\"sk-toggleable__label sk-toggleable__label-arrow\">GridSearchCV</label><div class=\"sk-toggleable__content\"><pre>GridSearchCV(cv=5, estimator=LinearSVR(random_state=22), n_jobs=-1,\n",
       "             param_grid={&#x27;C&#x27;: array([0.001, 0.01 , 0.1  , 1.   ]),\n",
       "                         &#x27;epsilon&#x27;: array([1.e-02, 1.e-01, 1.e+00, 1.e+01, 1.e+02]),\n",
       "                         &#x27;max_iter&#x27;: [1000, 1500, 2000, 2500, 3000, 3500]})</pre></div></div></div><div class=\"sk-parallel\"><div class=\"sk-parallel-item\"><div class=\"sk-item\"><div class=\"sk-label-container\"><div class=\"sk-label sk-toggleable\"><input class=\"sk-toggleable__control sk-hidden--visually\" id=\"sk-estimator-id-2\" type=\"checkbox\" ><label for=\"sk-estimator-id-2\" class=\"sk-toggleable__label sk-toggleable__label-arrow\">estimator: LinearSVR</label><div class=\"sk-toggleable__content\"><pre>LinearSVR(random_state=22)</pre></div></div></div><div class=\"sk-serial\"><div class=\"sk-item\"><div class=\"sk-estimator sk-toggleable\"><input class=\"sk-toggleable__control sk-hidden--visually\" id=\"sk-estimator-id-3\" type=\"checkbox\" ><label for=\"sk-estimator-id-3\" class=\"sk-toggleable__label sk-toggleable__label-arrow\">LinearSVR</label><div class=\"sk-toggleable__content\"><pre>LinearSVR(random_state=22)</pre></div></div></div></div></div></div></div></div></div></div>"
      ],
      "text/plain": [
       "GridSearchCV(cv=5, estimator=LinearSVR(random_state=22), n_jobs=-1,\n",
       "             param_grid={'C': array([0.001, 0.01 , 0.1  , 1.   ]),\n",
       "                         'epsilon': array([1.e-02, 1.e-01, 1.e+00, 1.e+01, 1.e+02]),\n",
       "                         'max_iter': [1000, 1500, 2000, 2500, 3000, 3500]})"
      ]
     },
     "execution_count": 11,
     "metadata": {},
     "output_type": "execute_result"
    }
   ],
   "source": [
    "params = {\n",
    "    'epsilon' : np.logspace(-2, 2, 5),\n",
    "    'C' : np.logspace(-3, 0, 4),\n",
    "    'max_iter' : list(range(1000, 3501, 500))\n",
    "}\n",
    "\n",
    "lin_grid = GridSearchCV(lin, param_grid = params, n_jobs = -1, cv = 5)\n",
    "y = y.reshape(-1)\n",
    "lin_grid.fit(X, y)"
   ]
  },
  {
   "cell_type": "code",
   "execution_count": 12,
   "metadata": {},
   "outputs": [
    {
     "data": {
      "text/plain": [
       "{'C': 1.0, 'epsilon': 0.01, 'max_iter': 1000}"
      ]
     },
     "execution_count": 12,
     "metadata": {},
     "output_type": "execute_result"
    }
   ],
   "source": [
    "lin_grid.best_params_"
   ]
  },
  {
   "cell_type": "code",
   "execution_count": 13,
   "metadata": {},
   "outputs": [
    {
     "data": {
      "text/plain": [
       "0.017752870619342654"
      ]
     },
     "execution_count": 13,
     "metadata": {},
     "output_type": "execute_result"
    }
   ],
   "source": [
    "from sklearn.metrics import mean_squared_error\n",
    "\n",
    "y_pred = lin_grid.best_estimator_.predict(X)\n",
    "mean_squared_error(y, y_pred) # 0.018의 mse 지표를 확인, 타 모델들과 비교해볼 것"
   ]
  }
 ],
 "metadata": {
  "kernelspec": {
   "display_name": "base",
   "language": "python",
   "name": "python3"
  },
  "language_info": {
   "codemirror_mode": {
    "name": "ipython",
    "version": 3
   },
   "file_extension": ".py",
   "mimetype": "text/x-python",
   "name": "python",
   "nbconvert_exporter": "python",
   "pygments_lexer": "ipython3",
   "version": "3.9.12"
  },
  "orig_nbformat": 4
 },
 "nbformat": 4,
 "nbformat_minor": 2
}
