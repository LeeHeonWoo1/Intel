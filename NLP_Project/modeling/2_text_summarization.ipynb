{
 "cells": [
  {
   "cell_type": "markdown",
   "metadata": {},
   "source": [
    "### Text Summarization\n",
    "한 마디로, **주어진 텍스트 중 중요한 정보만 정제해내는 과정**을 의미한다. 다른 말로 하면, 원문을 이해하기 쉬우면서도 가치있는 정보로 변환하는 작업이다. \n",
    "\n",
    "회의록, 신문기사 헤드라인, 논문 abstract, 이력서 등 텍스트를 생성해네는 task뿐만 아니라 텍스트를 그래프나 영상으로 변환하는 작업들도 텍스트 요약에 해당된다고 말할 수 있다. "
   ]
  },
  {
   "cell_type": "code",
   "execution_count": 14,
   "metadata": {},
   "outputs": [
    {
     "data": {
      "text/html": [
       "<div>\n",
       "<style scoped>\n",
       "    .dataframe tbody tr th:only-of-type {\n",
       "        vertical-align: middle;\n",
       "    }\n",
       "\n",
       "    .dataframe tbody tr th {\n",
       "        vertical-align: top;\n",
       "    }\n",
       "\n",
       "    .dataframe thead th {\n",
       "        text-align: right;\n",
       "    }\n",
       "</style>\n",
       "<table border=\"1\" class=\"dataframe\">\n",
       "  <thead>\n",
       "    <tr style=\"text-align: right;\">\n",
       "      <th></th>\n",
       "      <th>title</th>\n",
       "      <th>content</th>\n",
       "      <th>views</th>\n",
       "    </tr>\n",
       "  </thead>\n",
       "  <tbody>\n",
       "    <tr>\n",
       "      <th>0</th>\n",
       "      <td>출첵</td>\n",
       "      <td>출첵</td>\n",
       "      <td>7</td>\n",
       "    </tr>\n",
       "    <tr>\n",
       "      <th>1</th>\n",
       "      <td>출석합니다</td>\n",
       "      <td>출석합니다좋은밤 되세요</td>\n",
       "      <td>7</td>\n",
       "    </tr>\n",
       "    <tr>\n",
       "      <th>2</th>\n",
       "      <td>투명페인트는 뭘로 지워야할까요</td>\n",
       "      <td>붓펜 작업중 엉뚱한 곳에 묻어서굳었네요</td>\n",
       "      <td>79</td>\n",
       "    </tr>\n",
       "    <tr>\n",
       "      <th>3</th>\n",
       "      <td>전동 압분 한번 사봤습니다</td>\n",
       "      <td>거의 열흘 전에 택배 온거 같은데이제 꺼내보네요ㅋㅋㅋ 크기에 한번 놀라고  헤드 부...</td>\n",
       "      <td>340</td>\n",
       "    </tr>\n",
       "    <tr>\n",
       "      <th>4</th>\n",
       "      <td>역시 차는 광이 나야</td>\n",
       "      <td>무슨 차던 제대로 번쩍이는 차에 한 번 더 눈길이 갑니다ㅎㅎ유일하게 꾸준히 재밌게 ...</td>\n",
       "      <td>461</td>\n",
       "    </tr>\n",
       "    <tr>\n",
       "      <th>...</th>\n",
       "      <td>...</td>\n",
       "      <td>...</td>\n",
       "      <td>...</td>\n",
       "    </tr>\n",
       "    <tr>\n",
       "      <th>1162</th>\n",
       "      <td>앞범퍼 하단 복원해보았습니다</td>\n",
       "      <td>처음가보는 건물앞에 대다가 앞에 계단에 돌진해버렸습니다ㅠㅠ지난 토요일에 작업했는데 ...</td>\n",
       "      <td>1196</td>\n",
       "    </tr>\n",
       "    <tr>\n",
       "      <th>1163</th>\n",
       "      <td>심각한 워터 스팟</td>\n",
       "      <td>오늘 제 명의로 되어있는 SLK 딥블루를 작업을 하다가 보류 시켜놨습니다차 관리는 ...</td>\n",
       "      <td>744</td>\n",
       "    </tr>\n",
       "    <tr>\n",
       "      <th>1164</th>\n",
       "      <td>건스프레이 용량이 궁금합니다</td>\n",
       "      <td>디테일링 초보입니다apc 희석하여 사용할건스프레이용으로 사용할 용량은 크기가 어떤것...</td>\n",
       "      <td>102</td>\n",
       "    </tr>\n",
       "    <tr>\n",
       "      <th>1165</th>\n",
       "      <td>카툰유머</td>\n",
       "      <td>NaN</td>\n",
       "      <td>323</td>\n",
       "    </tr>\n",
       "    <tr>\n",
       "      <th>1166</th>\n",
       "      <td>먼지떨이 극세사가 좋아요  닭털이 좋아요</td>\n",
       "      <td>이제 비도 잘 안오고 먼지떨이를 사용해 볼라고 합니다여지껏 안쓰고 달리면서 날렸거든...</td>\n",
       "      <td>607</td>\n",
       "    </tr>\n",
       "  </tbody>\n",
       "</table>\n",
       "<p>1167 rows × 3 columns</p>\n",
       "</div>"
      ],
      "text/plain": [
       "                       title  \\\n",
       "0                         출첵   \n",
       "1                      출석합니다   \n",
       "2           투명페인트는 뭘로 지워야할까요   \n",
       "3             전동 압분 한번 사봤습니다   \n",
       "4                역시 차는 광이 나야   \n",
       "...                      ...   \n",
       "1162         앞범퍼 하단 복원해보았습니다   \n",
       "1163               심각한 워터 스팟   \n",
       "1164         건스프레이 용량이 궁금합니다   \n",
       "1165                    카툰유머   \n",
       "1166  먼지떨이 극세사가 좋아요  닭털이 좋아요   \n",
       "\n",
       "                                                content  views  \n",
       "0                                                   출첵       7  \n",
       "1                                         출석합니다좋은밤 되세요       7  \n",
       "2                                붓펜 작업중 엉뚱한 곳에 묻어서굳었네요      79  \n",
       "3     거의 열흘 전에 택배 온거 같은데이제 꺼내보네요ㅋㅋㅋ 크기에 한번 놀라고  헤드 부...    340  \n",
       "4     무슨 차던 제대로 번쩍이는 차에 한 번 더 눈길이 갑니다ㅎㅎ유일하게 꾸준히 재밌게 ...    461  \n",
       "...                                                 ...    ...  \n",
       "1162  처음가보는 건물앞에 대다가 앞에 계단에 돌진해버렸습니다ㅠㅠ지난 토요일에 작업했는데 ...   1196  \n",
       "1163  오늘 제 명의로 되어있는 SLK 딥블루를 작업을 하다가 보류 시켜놨습니다차 관리는 ...    744  \n",
       "1164  디테일링 초보입니다apc 희석하여 사용할건스프레이용으로 사용할 용량은 크기가 어떤것...    102  \n",
       "1165                                                NaN    323  \n",
       "1166  이제 비도 잘 안오고 먼지떨이를 사용해 볼라고 합니다여지껏 안쓰고 달리면서 날렸거든...    607  \n",
       "\n",
       "[1167 rows x 3 columns]"
      ]
     },
     "execution_count": 14,
     "metadata": {},
     "output_type": "execute_result"
    }
   ],
   "source": [
    "import pandas as pd\n",
    "\n",
    "df = pd.read_csv(\"./data/renewal_dataset1.csv\")\n",
    "df_game = pd.read_csv(\"./data/renewal_dataset_game.csv\")\n",
    "\n",
    "df_game = df_game.loc[df_game['title'] != \"완료\"].reset_index(drop = True)\n",
    "df = df.loc[df['title'] != \"자유게시판\"].reset_index(drop = True)\n",
    "df = df.loc[df['title'] != \"가입인사\"].reset_index(drop = True)"
   ]
  },
  {
   "cell_type": "code",
   "execution_count": null,
   "metadata": {},
   "outputs": [],
   "source": []
  },
  {
   "cell_type": "code",
   "execution_count": 6,
   "metadata": {},
   "outputs": [
    {
     "name": "stderr",
     "output_type": "stream",
     "text": [
      "You passed along `num_labels=3` with an incompatible id to label map: {'0': 'NEGATIVE', '1': 'POSITIVE'}. The number of labels wil be overwritten to 2.\n"
     ]
    },
    {
     "name": "stdout",
     "output_type": "stream",
     "text": [
      "원본 텍스트:\n",
      " MobX가 이 유형에 속한다. 이 유형은 상태를 프록시 객체로 래핑한다. 그래서 직접 객체를 다루지 않고, 프록시를 통해 작업을 수행하게 된다.이 특성 덕분에 중첩된 객체의 상태 관리에 유용하다.일반적으로 중첩된 객체의 상태를 관리하려면 상태를 복사하고, 속성을 수정하고, 수정한 상태를 다시 덮어쓰는 과정이 필요하다.하지만 여기서는 프록시를 통해 상태를 직접 변경할 수 있기에 중첩 객체 상태 관리가 훨씬 수월하다.하지만 상태를 직접 변경하는 방식을 사용하기 때문에 오히려 불변성을 엄격하게 지키는 것이 어려워질 수도 있다.또 프록시 개념에 익숙하지 않다면 다루기 어려울 수 있고, 특히 디버깅에 어려움을 겪을 수 있다.그리고 이 유형은 객체지향 프로그래밍과 잘 맞다.물론 함수형 프로그래밍과 함께 사용할 수 있긴 하지만, 이들의 핵심 원칙과 기능은 객체 지향 프로그래밍의 원칙과 더 잘 어울린다.\n",
      "한글 요약 결과: 요약할 내용: MobX가 이 유형에 속한다. 이 유형은 상태를 프록시 객체로 래핑한다. 그래서 직접 객체를 다루지 않고, 프록시를 통해 작업을 수행하게 된다.이 특성 덕분에 중첩된 객체의 중첩된 객체의\n"
     ]
    }
   ],
   "source": [
    "from transformers import pipeline, AutoTokenizer, AutoModelForSeq2SeqLM\n",
    "def korean_text_summarization(text):\n",
    "    model_name = \"hyunwoongko/kobart\"\n",
    "    tokenizer = AutoTokenizer.from_pretrained(model_name)\n",
    "    model = AutoModelForSeq2SeqLM.from_pretrained(model_name)\n",
    "    inputs = tokenizer(\"요약할 내용: \" + text, return_tensors=\"pt\", max_length=50, truncation=True)\n",
    "    summary_ids = model.generate(inputs[\"input_ids\"], max_length=150, min_length=50, length_penalty=2.0, num_beams=4, early_stopping=True)\n",
    "    summary_text = tokenizer.decode(summary_ids[0], skip_special_tokens=True)\n",
    "    return summary_text\n",
    "# 예시 텍스트\n",
    "sample_text = \"\"\"MobX가 이 유형에 속한다. \n",
    "이 유형은 상태를 프록시 객체로 래핑한다. \n",
    "그래서 직접 객체를 다루지 않고, 프록시를 통해 작업을 수행하게 된다.\n",
    "이 특성 덕분에 중첩된 객체의 상태 관리에 유용하다.\n",
    "일반적으로 중첩된 객체의 상태를 관리하려면 상태를 복사하고, 속성을 수정하고, 수정한 상태를 다시 덮어쓰는 과정이 필요하다.\n",
    "하지만 여기서는 프록시를 통해 상태를 직접 변경할 수 있기에 중첩 객체 상태 관리가 훨씬 수월하다.\n",
    "하지만 상태를 직접 변경하는 방식을 사용하기 때문에 오히려 불변성을 엄격하게 지키는 것이 어려워질 수도 있다.\n",
    "또 프록시 개념에 익숙하지 않다면 다루기 어려울 수 있고, 특히 디버깅에 어려움을 겪을 수 있다.\n",
    "그리고 이 유형은 객체지향 프로그래밍과 잘 맞다.\n",
    "물론 함수형 프로그래밍과 함께 사용할 수 있긴 하지만, 이들의 핵심 원칙과 기능은 객체 지향 프로그래밍의 원칙과 더 잘 어울린다.\n",
    "\"\"\".replace(\"\\n\", \"\")\n",
    "# 한글 텍스트 요약 수행\n",
    "korean_summary_result = korean_text_summarization(sample_text)\n",
    "# 결과 출력\n",
    "print(\"원본 텍스트:\\n\", sample_text)\n",
    "# 결과 출력 (30글자로 제한)\n",
    "print(\"한글 요약 결과:\", korean_summary_result) "
   ]
  },
  {
   "cell_type": "code",
   "execution_count": 5,
   "metadata": {},
   "outputs": [],
   "source": [
    "a = \"\"\"순방향 LSTM의 은닉 상태와 셀상태를 forward_h, forward_c에 저장하고, 역방향 LSTM의 은닉 상태와 셀 상태를 backward_h, backward_c에 저장합니다.\n",
    "각 은닉 상태나 셀 상태의 경우에는 128차원을 가지는데, lstm의 경우에는 (500 x 128)의 크기를 가집니다. foward 방향과 backward 방향이 연결된 hidden state벡터가 모든 시점에 대해서 존재함을 의미합니다.\n",
    "양방향 LSTM을 사용할 경우에는 순방향 LSTM과 역방향 LSTM 각각 은닉 상태와 셀 상태를 가지므로, 양방향 LSTM의 은닉 상태와 셀 상태를 사용하려면 두 방향의 LSTM의 상태들을 연결(concatenate)해주면 됩니다.\"\"\""
   ]
  }
 ],
 "metadata": {
  "kernelspec": {
   "display_name": "nlp_project",
   "language": "python",
   "name": "python3"
  },
  "language_info": {
   "codemirror_mode": {
    "name": "ipython",
    "version": 3
   },
   "file_extension": ".py",
   "mimetype": "text/x-python",
   "name": "python",
   "nbconvert_exporter": "python",
   "pygments_lexer": "ipython3",
   "version": "3.9.12"
  }
 },
 "nbformat": 4,
 "nbformat_minor": 2
}
