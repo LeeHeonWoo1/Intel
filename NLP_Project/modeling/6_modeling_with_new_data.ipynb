{
 "cells": [
  {
   "cell_type": "markdown",
   "metadata": {},
   "source": [
    "### Modeling 시작"
   ]
  },
  {
   "cell_type": "code",
   "execution_count": 1,
   "metadata": {},
   "outputs": [],
   "source": [
    "import pandas as pd\n",
    "import numpy as np\n",
    "import warnings\n",
    "import matplotlib.pyplot as plt\n",
    "from collections import Counter\n",
    "from konlpy.tag import Mecab\n",
    "from sklearn.model_selection import train_test_split\n",
    "from keras.preprocessing.text import Tokenizer\n",
    "from tensorflow.keras.preprocessing.sequence import pad_sequences\n",
    "\n",
    "warnings.filterwarnings(\"ignore\")"
   ]
  },
  {
   "cell_type": "markdown",
   "metadata": {},
   "source": [
    "### Dataset 준비\n",
    "사전에 미리 전처리 해둔 데이터셋을 기반으로 학습한다."
   ]
  },
  {
   "cell_type": "code",
   "execution_count": 2,
   "metadata": {},
   "outputs": [
    {
     "data": {
      "text/html": [
       "<div>\n",
       "<style scoped>\n",
       "    .dataframe tbody tr th:only-of-type {\n",
       "        vertical-align: middle;\n",
       "    }\n",
       "\n",
       "    .dataframe tbody tr th {\n",
       "        vertical-align: top;\n",
       "    }\n",
       "\n",
       "    .dataframe thead th {\n",
       "        text-align: right;\n",
       "    }\n",
       "</style>\n",
       "<table border=\"1\" class=\"dataframe\">\n",
       "  <thead>\n",
       "    <tr style=\"text-align: right;\">\n",
       "      <th></th>\n",
       "      <th>title</th>\n",
       "      <th>content</th>\n",
       "      <th>views</th>\n",
       "      <th>label</th>\n",
       "    </tr>\n",
       "  </thead>\n",
       "  <tbody>\n",
       "    <tr>\n",
       "      <th>0</th>\n",
       "      <td>출첵</td>\n",
       "      <td>출첵</td>\n",
       "      <td>7</td>\n",
       "      <td>0</td>\n",
       "    </tr>\n",
       "    <tr>\n",
       "      <th>1</th>\n",
       "      <td>출석합니다</td>\n",
       "      <td>출석합니다좋은밤 되세요</td>\n",
       "      <td>7</td>\n",
       "      <td>0</td>\n",
       "    </tr>\n",
       "    <tr>\n",
       "      <th>2</th>\n",
       "      <td>투명페인트는 뭘로 지워야할까요</td>\n",
       "      <td>붓펜 작업중 엉뚱한 곳에 묻어서굳었네요</td>\n",
       "      <td>79</td>\n",
       "      <td>0</td>\n",
       "    </tr>\n",
       "    <tr>\n",
       "      <th>3</th>\n",
       "      <td>전동 압분 한번 사봤습니다</td>\n",
       "      <td>거의 열흘 전에 택배 온거 같은데이제 꺼내보네요ㅋㅋㅋ 크기에 한번 놀라고  헤드 부...</td>\n",
       "      <td>340</td>\n",
       "      <td>1</td>\n",
       "    </tr>\n",
       "    <tr>\n",
       "      <th>4</th>\n",
       "      <td>역시 차는 광이 나야</td>\n",
       "      <td>무슨 차던 제대로 번쩍이는 차에 한 번 더 눈길이 갑니다ㅎㅎ유일하게 꾸준히 재밌게 ...</td>\n",
       "      <td>461</td>\n",
       "      <td>1</td>\n",
       "    </tr>\n",
       "    <tr>\n",
       "      <th>...</th>\n",
       "      <td>...</td>\n",
       "      <td>...</td>\n",
       "      <td>...</td>\n",
       "      <td>...</td>\n",
       "    </tr>\n",
       "    <tr>\n",
       "      <th>3030</th>\n",
       "      <td>이와키로 내린 커피</td>\n",
       "      <td>한 없는 기다림 후의 짧은 기쁨 기쁨을 되새김질하며 또다시 긴 기다림 인생과 커피는...</td>\n",
       "      <td>166</td>\n",
       "      <td>1</td>\n",
       "    </tr>\n",
       "    <tr>\n",
       "      <th>3031</th>\n",
       "      <td>flowmeter에 위치선정</td>\n",
       "      <td>아침에 삽질한번하고 엄청나게 공부하고있네요 ㅎㅎㅎㅎㅎ 좋은 삽질인듯 플로우메터 위치...</td>\n",
       "      <td>280</td>\n",
       "      <td>1</td>\n",
       "    </tr>\n",
       "    <tr>\n",
       "      <th>3032</th>\n",
       "      <td>퇴근길</td>\n",
       "      <td>기흥에서 일산까지 퇴근길 햄버거 생각나 간만에 녹사평역 근처 썬더버거 들러 버거 하...</td>\n",
       "      <td>198</td>\n",
       "      <td>1</td>\n",
       "    </tr>\n",
       "    <tr>\n",
       "      <th>3033</th>\n",
       "      <td>서울공업사 왔다가는중 입니다</td>\n",
       "      <td>클리외님과 에소프릭님에 도움으로 알게되서 편하게 찾아갔네요사장님은 바로 알아체시더군...</td>\n",
       "      <td>245</td>\n",
       "      <td>1</td>\n",
       "    </tr>\n",
       "    <tr>\n",
       "      <th>3034</th>\n",
       "      <td>안녕하세요</td>\n",
       "      <td>CAFE ESPRESSO 는홈바리스타와 홈카페에 관심있는 유저들의 모임입니다아래의...</td>\n",
       "      <td>11</td>\n",
       "      <td>0</td>\n",
       "    </tr>\n",
       "  </tbody>\n",
       "</table>\n",
       "<p>3035 rows × 4 columns</p>\n",
       "</div>"
      ],
      "text/plain": [
       "                 title                                            content  \\\n",
       "0                   출첵                                                출첵    \n",
       "1                출석합니다                                      출석합니다좋은밤 되세요    \n",
       "2     투명페인트는 뭘로 지워야할까요                             붓펜 작업중 엉뚱한 곳에 묻어서굳었네요    \n",
       "3       전동 압분 한번 사봤습니다  거의 열흘 전에 택배 온거 같은데이제 꺼내보네요ㅋㅋㅋ 크기에 한번 놀라고  헤드 부...   \n",
       "4          역시 차는 광이 나야  무슨 차던 제대로 번쩍이는 차에 한 번 더 눈길이 갑니다ㅎㅎ유일하게 꾸준히 재밌게 ...   \n",
       "...                ...                                                ...   \n",
       "3030        이와키로 내린 커피  한 없는 기다림 후의 짧은 기쁨 기쁨을 되새김질하며 또다시 긴 기다림 인생과 커피는...   \n",
       "3031   flowmeter에 위치선정  아침에 삽질한번하고 엄청나게 공부하고있네요 ㅎㅎㅎㅎㅎ 좋은 삽질인듯 플로우메터 위치...   \n",
       "3032               퇴근길  기흥에서 일산까지 퇴근길 햄버거 생각나 간만에 녹사평역 근처 썬더버거 들러 버거 하...   \n",
       "3033   서울공업사 왔다가는중 입니다  클리외님과 에소프릭님에 도움으로 알게되서 편하게 찾아갔네요사장님은 바로 알아체시더군...   \n",
       "3034             안녕하세요   CAFE ESPRESSO 는홈바리스타와 홈카페에 관심있는 유저들의 모임입니다아래의...   \n",
       "\n",
       "      views  label  \n",
       "0         7      0  \n",
       "1         7      0  \n",
       "2        79      0  \n",
       "3       340      1  \n",
       "4       461      1  \n",
       "...     ...    ...  \n",
       "3030    166      1  \n",
       "3031    280      1  \n",
       "3032    198      1  \n",
       "3033    245      1  \n",
       "3034     11      0  \n",
       "\n",
       "[3035 rows x 4 columns]"
      ]
     },
     "execution_count": 2,
     "metadata": {},
     "output_type": "execute_result"
    }
   ],
   "source": [
    "dataset = pd.read_csv(r\"./test.csv\")\n",
    "dataset"
   ]
  },
  {
   "cell_type": "code",
   "execution_count": 3,
   "metadata": {},
   "outputs": [
    {
     "data": {
      "text/plain": [
       "label\n",
       "1    1521\n",
       "0    1514\n",
       "Name: count, dtype: int64"
      ]
     },
     "execution_count": 3,
     "metadata": {},
     "output_type": "execute_result"
    }
   ],
   "source": [
    "dataset['label'].value_counts() # 라벨값이 어느정도 균등하게 분포되어 있는 모습"
   ]
  },
  {
   "cell_type": "code",
   "execution_count": 4,
   "metadata": {},
   "outputs": [
    {
     "data": {
      "text/html": [
       "<div>\n",
       "<style scoped>\n",
       "    .dataframe tbody tr th:only-of-type {\n",
       "        vertical-align: middle;\n",
       "    }\n",
       "\n",
       "    .dataframe tbody tr th {\n",
       "        vertical-align: top;\n",
       "    }\n",
       "\n",
       "    .dataframe thead th {\n",
       "        text-align: right;\n",
       "    }\n",
       "</style>\n",
       "<table border=\"1\" class=\"dataframe\">\n",
       "  <thead>\n",
       "    <tr style=\"text-align: right;\">\n",
       "      <th></th>\n",
       "      <th>title</th>\n",
       "      <th>content</th>\n",
       "      <th>views</th>\n",
       "      <th>label</th>\n",
       "    </tr>\n",
       "  </thead>\n",
       "  <tbody>\n",
       "    <tr>\n",
       "      <th>0</th>\n",
       "      <td>출첵</td>\n",
       "      <td>출첵</td>\n",
       "      <td>7</td>\n",
       "      <td>0</td>\n",
       "    </tr>\n",
       "    <tr>\n",
       "      <th>1</th>\n",
       "      <td>출석합니다</td>\n",
       "      <td>출석합니다좋은밤 되세요</td>\n",
       "      <td>7</td>\n",
       "      <td>0</td>\n",
       "    </tr>\n",
       "    <tr>\n",
       "      <th>2</th>\n",
       "      <td>투명페인트는 뭘로 지워야할까요</td>\n",
       "      <td>붓펜 작업중 엉뚱한 곳에 묻어서굳었네요</td>\n",
       "      <td>79</td>\n",
       "      <td>0</td>\n",
       "    </tr>\n",
       "    <tr>\n",
       "      <th>3</th>\n",
       "      <td>전동 압분 한번 사봤습니다</td>\n",
       "      <td>거의 열흘 전에 택배 온거 같은데이제 꺼내보네요ㅋㅋㅋ 크기에 한번 놀라고  헤드 부...</td>\n",
       "      <td>340</td>\n",
       "      <td>1</td>\n",
       "    </tr>\n",
       "    <tr>\n",
       "      <th>4</th>\n",
       "      <td>역시 차는 광이 나야</td>\n",
       "      <td>무슨 차던 제대로 번쩍이는 차에 한 번 더 눈길이 갑니다ㅎㅎ유일하게 꾸준히 재밌게 ...</td>\n",
       "      <td>461</td>\n",
       "      <td>1</td>\n",
       "    </tr>\n",
       "  </tbody>\n",
       "</table>\n",
       "</div>"
      ],
      "text/plain": [
       "              title                                            content  views  \\\n",
       "0                출첵                                                출첵       7   \n",
       "1             출석합니다                                      출석합니다좋은밤 되세요       7   \n",
       "2  투명페인트는 뭘로 지워야할까요                             붓펜 작업중 엉뚱한 곳에 묻어서굳었네요      79   \n",
       "3    전동 압분 한번 사봤습니다  거의 열흘 전에 택배 온거 같은데이제 꺼내보네요ㅋㅋㅋ 크기에 한번 놀라고  헤드 부...    340   \n",
       "4       역시 차는 광이 나야  무슨 차던 제대로 번쩍이는 차에 한 번 더 눈길이 갑니다ㅎㅎ유일하게 꾸준히 재밌게 ...    461   \n",
       "\n",
       "   label  \n",
       "0      0  \n",
       "1      0  \n",
       "2      0  \n",
       "3      1  \n",
       "4      1  "
      ]
     },
     "execution_count": 4,
     "metadata": {},
     "output_type": "execute_result"
    }
   ],
   "source": [
    "dataset.head()"
   ]
  },
  {
   "cell_type": "markdown",
   "metadata": {},
   "source": [
    "### Feature engineering"
   ]
  },
  {
   "cell_type": "code",
   "execution_count": 5,
   "metadata": {},
   "outputs": [
    {
     "data": {
      "text/html": [
       "<div>\n",
       "<style scoped>\n",
       "    .dataframe tbody tr th:only-of-type {\n",
       "        vertical-align: middle;\n",
       "    }\n",
       "\n",
       "    .dataframe tbody tr th {\n",
       "        vertical-align: top;\n",
       "    }\n",
       "\n",
       "    .dataframe thead th {\n",
       "        text-align: right;\n",
       "    }\n",
       "</style>\n",
       "<table border=\"1\" class=\"dataframe\">\n",
       "  <thead>\n",
       "    <tr style=\"text-align: right;\">\n",
       "      <th></th>\n",
       "      <th>title</th>\n",
       "      <th>content</th>\n",
       "      <th>views</th>\n",
       "      <th>label</th>\n",
       "    </tr>\n",
       "  </thead>\n",
       "  <tbody>\n",
       "    <tr>\n",
       "      <th>0</th>\n",
       "      <td>출첵</td>\n",
       "      <td>출첵</td>\n",
       "      <td>7</td>\n",
       "      <td>0</td>\n",
       "    </tr>\n",
       "    <tr>\n",
       "      <th>1</th>\n",
       "      <td>출석합니다</td>\n",
       "      <td>출석합니다좋은밤 되세요</td>\n",
       "      <td>7</td>\n",
       "      <td>0</td>\n",
       "    </tr>\n",
       "    <tr>\n",
       "      <th>2</th>\n",
       "      <td>투명페인트는 뭘로 지워야할까요</td>\n",
       "      <td>붓펜 작업중 엉뚱한 곳에 묻어서굳었네요</td>\n",
       "      <td>79</td>\n",
       "      <td>0</td>\n",
       "    </tr>\n",
       "    <tr>\n",
       "      <th>3</th>\n",
       "      <td>전동 압분 한번 사봤습니다</td>\n",
       "      <td>거의 열흘 전에 택배 온거 같은데이제 꺼내보네요ㅋㅋㅋ 크기에 한번 놀라고  헤드 부...</td>\n",
       "      <td>340</td>\n",
       "      <td>1</td>\n",
       "    </tr>\n",
       "    <tr>\n",
       "      <th>4</th>\n",
       "      <td>역시 차는 광이 나야</td>\n",
       "      <td>무슨 차던 제대로 번쩍이는 차에 한 번 더 눈길이 갑니다ㅎㅎ유일하게 꾸준히 재밌게 ...</td>\n",
       "      <td>461</td>\n",
       "      <td>1</td>\n",
       "    </tr>\n",
       "  </tbody>\n",
       "</table>\n",
       "</div>"
      ],
      "text/plain": [
       "              title                                            content  views  \\\n",
       "0                출첵                                                출첵       7   \n",
       "1             출석합니다                                      출석합니다좋은밤 되세요       7   \n",
       "2  투명페인트는 뭘로 지워야할까요                             붓펜 작업중 엉뚱한 곳에 묻어서굳었네요      79   \n",
       "3    전동 압분 한번 사봤습니다  거의 열흘 전에 택배 온거 같은데이제 꺼내보네요ㅋㅋㅋ 크기에 한번 놀라고  헤드 부...    340   \n",
       "4       역시 차는 광이 나야  무슨 차던 제대로 번쩍이는 차에 한 번 더 눈길이 갑니다ㅎㅎ유일하게 꾸준히 재밌게 ...    461   \n",
       "\n",
       "   label  \n",
       "0      0  \n",
       "1      0  \n",
       "2      0  \n",
       "3      1  \n",
       "4      1  "
      ]
     },
     "execution_count": 5,
     "metadata": {},
     "output_type": "execute_result"
    }
   ],
   "source": [
    "dataset.head()"
   ]
  },
  {
   "cell_type": "markdown",
   "metadata": {},
   "source": [
    "### Dataset 분할"
   ]
  },
  {
   "cell_type": "code",
   "execution_count": 6,
   "metadata": {},
   "outputs": [],
   "source": [
    "train_data, test_data = train_test_split(dataset, test_size=0.25, random_state=0) # 7.5 : 2.5 비율로 분할한다."
   ]
  },
  {
   "cell_type": "code",
   "execution_count": 7,
   "metadata": {},
   "outputs": [
    {
     "name": "stdout",
     "output_type": "stream",
     "text": [
      "(2276, 4)\n"
     ]
    }
   ],
   "source": [
    "print(train_data.shape)"
   ]
  },
  {
   "cell_type": "code",
   "execution_count": 8,
   "metadata": {},
   "outputs": [
    {
     "name": "stdout",
     "output_type": "stream",
     "text": [
      "(759, 4)\n"
     ]
    }
   ],
   "source": [
    "print(test_data.shape)"
   ]
  },
  {
   "cell_type": "markdown",
   "metadata": {},
   "source": [
    "### 라벨값 분포 확인\n",
    "\n",
    "각 라벨 간에 균형은 알맞은지, 편향적 샘플링이 되지는 않는지 확인한다."
   ]
  },
  {
   "cell_type": "code",
   "execution_count": 9,
   "metadata": {},
   "outputs": [
    {
     "data": {
      "text/plain": [
       "label\n",
       "1    1138\n",
       "0    1138\n",
       "Name: count, dtype: int64"
      ]
     },
     "execution_count": 9,
     "metadata": {},
     "output_type": "execute_result"
    }
   ],
   "source": [
    "train_data['label'].value_counts()"
   ]
  },
  {
   "cell_type": "code",
   "execution_count": 10,
   "metadata": {},
   "outputs": [
    {
     "data": {
      "text/plain": [
       "label\n",
       "1    383\n",
       "0    376\n",
       "Name: count, dtype: int64"
      ]
     },
     "execution_count": 10,
     "metadata": {},
     "output_type": "execute_result"
    }
   ],
   "source": [
    "test_data['label'].value_counts()"
   ]
  },
  {
   "cell_type": "markdown",
   "metadata": {},
   "source": [
    "### Stop words 정의"
   ]
  },
  {
   "cell_type": "code",
   "execution_count": 11,
   "metadata": {},
   "outputs": [],
   "source": [
    "# 불용어 정의\n",
    "stopwords = ['의','가','이','은','들','는','좀','잘','걍','과','도','를','으로','자','에','와','한','하다']"
   ]
  },
  {
   "cell_type": "markdown",
   "metadata": {},
   "source": [
    "### 토큰분리\n",
    "\n",
    "title과 content의 토큰 분리를 별도로 실시한다."
   ]
  },
  {
   "cell_type": "code",
   "execution_count": 12,
   "metadata": {},
   "outputs": [],
   "source": [
    "mecab = Mecab(r\"C:\\mecab\\mecab-ko-dic\") \n",
    "\n",
    "train_data['tokenized_title'] = train_data['title'].apply(mecab.morphs)\n",
    "train_data['tokenized_title'] = train_data['tokenized_title'].apply(lambda x: [item for item in x if item not in stopwords])\n",
    "test_data['tokenized_title'] = test_data['title'].apply(mecab.morphs)\n",
    "test_data['tokenized_title'] = test_data['tokenized_title'].apply(lambda x: [item for item in x if item not in stopwords])"
   ]
  },
  {
   "cell_type": "code",
   "execution_count": 13,
   "metadata": {},
   "outputs": [],
   "source": [
    "train_data['tokenized_content'] = train_data['content'].apply(mecab.morphs)\n",
    "train_data['tokenized_content'] = train_data['tokenized_content'].apply(lambda x: [item for item in x if item not in stopwords])\n",
    "test_data['tokenized_content'] = test_data['content'].apply(mecab.morphs)\n",
    "test_data['tokenized_content'] = test_data['tokenized_content'].apply(lambda x: [item for item in x if item not in stopwords])"
   ]
  },
  {
   "cell_type": "code",
   "execution_count": 14,
   "metadata": {},
   "outputs": [
    {
     "data": {
      "text/html": [
       "<div>\n",
       "<style scoped>\n",
       "    .dataframe tbody tr th:only-of-type {\n",
       "        vertical-align: middle;\n",
       "    }\n",
       "\n",
       "    .dataframe tbody tr th {\n",
       "        vertical-align: top;\n",
       "    }\n",
       "\n",
       "    .dataframe thead th {\n",
       "        text-align: right;\n",
       "    }\n",
       "</style>\n",
       "<table border=\"1\" class=\"dataframe\">\n",
       "  <thead>\n",
       "    <tr style=\"text-align: right;\">\n",
       "      <th></th>\n",
       "      <th>title</th>\n",
       "      <th>content</th>\n",
       "      <th>views</th>\n",
       "      <th>label</th>\n",
       "      <th>tokenized_title</th>\n",
       "      <th>tokenized_content</th>\n",
       "    </tr>\n",
       "  </thead>\n",
       "  <tbody>\n",
       "    <tr>\n",
       "      <th>351</th>\n",
       "      <td>인천 선학역 인근 세차장 추천바래요</td>\n",
       "      <td>일하러 인천왓는데세차를 벌써 달째못하고잇네요게러지나 실내세차장이 있을까요차가커서 기...</td>\n",
       "      <td>194</td>\n",
       "      <td>1</td>\n",
       "      <td>[인천, 선학역, 인근, 세차장, 추천, 바래, 요]</td>\n",
       "      <td>[일, 하, 러, 인천, 왓, 는데, 세차, 벌써, 달째, 못, 하, 고, 잇, 네...</td>\n",
       "    </tr>\n",
       "    <tr>\n",
       "      <th>838</th>\n",
       "      <td>앗 회원님 차 발견</td>\n",
       "      <td>아까 아부지 차 세차하고 가는길에 회원님 차 발견했네요 길거리에서는 처음 마주친지라...</td>\n",
       "      <td>623</td>\n",
       "      <td>1</td>\n",
       "      <td>[앗, 회원, 님, 차, 발견]</td>\n",
       "      <td>[아까, 아부지, 차, 세차, 하, 고, 길, 회원, 님, 차, 발견, 했, 네요,...</td>\n",
       "    </tr>\n",
       "    <tr>\n",
       "      <th>2980</th>\n",
       "      <td>즐거운 하루 보내고 계신지요</td>\n",
       "      <td>벌써 금요일입니다어떻게 하루하루가 지나가는지 모를 정도로빠르게 지나감을 느끼네요즐거...</td>\n",
       "      <td>161</td>\n",
       "      <td>1</td>\n",
       "      <td>[즐거운, 하루, 보내, 고, 계신, 지요]</td>\n",
       "      <td>[벌써, 금요일, 입니다, 어떻게, 하루하루, 지나가, 는지, 모를, 정도, 로, ...</td>\n",
       "    </tr>\n",
       "    <tr>\n",
       "      <th>1385</th>\n",
       "      <td>전달</td>\n",
       "      <td>빵빵 고정틀 무리 전달 왔어요 ㅋㅋㄱㄲㅋ막자랍니당 빵빵빠또 그리면서 넘넘 재밌었답니...</td>\n",
       "      <td>174</td>\n",
       "      <td>1</td>\n",
       "      <td>[전달]</td>\n",
       "      <td>[빵빵, 고정, 틀, 무리, 전달, 왔, 어요, ㅋㅋ, ㄱ, ㄲㅋ막자랍니당, 빵빵,...</td>\n",
       "    </tr>\n",
       "    <tr>\n",
       "      <th>1665</th>\n",
       "      <td>앱 인증합니다</td>\n",
       "      <td>사진그림으로 저장이 안되네요ㅠ</td>\n",
       "      <td>8</td>\n",
       "      <td>0</td>\n",
       "      <td>[앱, 인증, 합니다]</td>\n",
       "      <td>[사진, 그림, 저장, 안, 되, 네요, ㅠ]</td>\n",
       "    </tr>\n",
       "    <tr>\n",
       "      <th>...</th>\n",
       "      <td>...</td>\n",
       "      <td>...</td>\n",
       "      <td>...</td>\n",
       "      <td>...</td>\n",
       "      <td>...</td>\n",
       "      <td>...</td>\n",
       "    </tr>\n",
       "    <tr>\n",
       "      <th>763</th>\n",
       "      <td>반갑습니다</td>\n",
       "      <td>아래 양식에 맞게 가입인사를 작성하여 주시면 감사하겠습니다      닉네임 창원II...</td>\n",
       "      <td>15</td>\n",
       "      <td>0</td>\n",
       "      <td>[반갑, 습니다]</td>\n",
       "      <td>[아래, 양식, 맞, 게, 가입, 인사, 작성, 하, 여, 주, 시, 면, 감사, ...</td>\n",
       "    </tr>\n",
       "    <tr>\n",
       "      <th>835</th>\n",
       "      <td>간만에 신상쓰기</td>\n",
       "      <td>오랜만에 평일 퇴근후 세차장 가는길 항상 그래왔던 것처럼 칼퇴 ㅋㅋ세차장 갈때는 항...</td>\n",
       "      <td>499</td>\n",
       "      <td>1</td>\n",
       "      <td>[간만에, 신상, 쓰, 기]</td>\n",
       "      <td>[오랜만, 평일, 퇴근, 후, 세, 차장, 길, 항상, 그래왔, 던, 것, 처럼, ...</td>\n",
       "    </tr>\n",
       "    <tr>\n",
       "      <th>1653</th>\n",
       "      <td>모동숲 질문</td>\n",
       "      <td>몇년전에 튀동숲하다가 이번에 스위치 구매해서 모동숲 시작하는데모동숲에도 지노 있나요...</td>\n",
       "      <td>70</td>\n",
       "      <td>0</td>\n",
       "      <td>[모동, 숲, 질문]</td>\n",
       "      <td>[몇, 년, 전, 튀, 동, 숲, 하, 다가, 이번, 스위치, 구매, 해서, 모동,...</td>\n",
       "    </tr>\n",
       "    <tr>\n",
       "      <th>2607</th>\n",
       "      <td>베르크 폼 미쳤다</td>\n",
       "      <td>코만단테하고 베르크 같이 왔습니다 ㅎㅎ</td>\n",
       "      <td>618</td>\n",
       "      <td>1</td>\n",
       "      <td>[베르크, 폼, 미쳤, 다]</td>\n",
       "      <td>[코만, 단테, 하고, 베르크, 같이, 왔, 습니다, ㅎㅎ]</td>\n",
       "    </tr>\n",
       "    <tr>\n",
       "      <th>2732</th>\n",
       "      <td>대학교에 카페가 생겨서 행복합니다</td>\n",
       "      <td>원에 이런 퀄리티의 에소프레소행복합니다</td>\n",
       "      <td>467</td>\n",
       "      <td>1</td>\n",
       "      <td>[대학교, 카페, 생겨서, 행복, 합니다]</td>\n",
       "      <td>[원, 이런, 퀄리티, 에소, 프레, 소, 행복, 합니다]</td>\n",
       "    </tr>\n",
       "  </tbody>\n",
       "</table>\n",
       "<p>2276 rows × 6 columns</p>\n",
       "</div>"
      ],
      "text/plain": [
       "                    title                                            content  \\\n",
       "351   인천 선학역 인근 세차장 추천바래요  일하러 인천왓는데세차를 벌써 달째못하고잇네요게러지나 실내세차장이 있을까요차가커서 기...   \n",
       "838            앗 회원님 차 발견  아까 아부지 차 세차하고 가는길에 회원님 차 발견했네요 길거리에서는 처음 마주친지라...   \n",
       "2980      즐거운 하루 보내고 계신지요  벌써 금요일입니다어떻게 하루하루가 지나가는지 모를 정도로빠르게 지나감을 느끼네요즐거...   \n",
       "1385                   전달  빵빵 고정틀 무리 전달 왔어요 ㅋㅋㄱㄲㅋ막자랍니당 빵빵빠또 그리면서 넘넘 재밌었답니...   \n",
       "1665              앱 인증합니다                                  사진그림으로 저장이 안되네요ㅠ    \n",
       "...                   ...                                                ...   \n",
       "763                 반갑습니다  아래 양식에 맞게 가입인사를 작성하여 주시면 감사하겠습니다      닉네임 창원II...   \n",
       "835              간만에 신상쓰기  오랜만에 평일 퇴근후 세차장 가는길 항상 그래왔던 것처럼 칼퇴 ㅋㅋ세차장 갈때는 항...   \n",
       "1653               모동숲 질문  몇년전에 튀동숲하다가 이번에 스위치 구매해서 모동숲 시작하는데모동숲에도 지노 있나요...   \n",
       "2607            베르크 폼 미쳤다                             코만단테하고 베르크 같이 왔습니다 ㅎㅎ    \n",
       "2732   대학교에 카페가 생겨서 행복합니다                             원에 이런 퀄리티의 에소프레소행복합니다    \n",
       "\n",
       "      views  label                tokenized_title  \\\n",
       "351     194      1  [인천, 선학역, 인근, 세차장, 추천, 바래, 요]   \n",
       "838     623      1              [앗, 회원, 님, 차, 발견]   \n",
       "2980    161      1       [즐거운, 하루, 보내, 고, 계신, 지요]   \n",
       "1385    174      1                           [전달]   \n",
       "1665      8      0                   [앱, 인증, 합니다]   \n",
       "...     ...    ...                            ...   \n",
       "763      15      0                      [반갑, 습니다]   \n",
       "835     499      1                [간만에, 신상, 쓰, 기]   \n",
       "1653     70      0                    [모동, 숲, 질문]   \n",
       "2607    618      1                [베르크, 폼, 미쳤, 다]   \n",
       "2732    467      1        [대학교, 카페, 생겨서, 행복, 합니다]   \n",
       "\n",
       "                                      tokenized_content  \n",
       "351   [일, 하, 러, 인천, 왓, 는데, 세차, 벌써, 달째, 못, 하, 고, 잇, 네...  \n",
       "838   [아까, 아부지, 차, 세차, 하, 고, 길, 회원, 님, 차, 발견, 했, 네요,...  \n",
       "2980  [벌써, 금요일, 입니다, 어떻게, 하루하루, 지나가, 는지, 모를, 정도, 로, ...  \n",
       "1385  [빵빵, 고정, 틀, 무리, 전달, 왔, 어요, ㅋㅋ, ㄱ, ㄲㅋ막자랍니당, 빵빵,...  \n",
       "1665                          [사진, 그림, 저장, 안, 되, 네요, ㅠ]  \n",
       "...                                                 ...  \n",
       "763   [아래, 양식, 맞, 게, 가입, 인사, 작성, 하, 여, 주, 시, 면, 감사, ...  \n",
       "835   [오랜만, 평일, 퇴근, 후, 세, 차장, 길, 항상, 그래왔, 던, 것, 처럼, ...  \n",
       "1653  [몇, 년, 전, 튀, 동, 숲, 하, 다가, 이번, 스위치, 구매, 해서, 모동,...  \n",
       "2607                  [코만, 단테, 하고, 베르크, 같이, 왔, 습니다, ㅎㅎ]  \n",
       "2732                   [원, 이런, 퀄리티, 에소, 프레, 소, 행복, 합니다]  \n",
       "\n",
       "[2276 rows x 6 columns]"
      ]
     },
     "execution_count": 14,
     "metadata": {},
     "output_type": "execute_result"
    }
   ],
   "source": [
    "train_data"
   ]
  },
  {
   "cell_type": "code",
   "execution_count": 15,
   "metadata": {},
   "outputs": [],
   "source": [
    "unPopular1 = np.hstack(train_data[train_data.label == 0]['tokenized_title'].values)\n",
    "popular1 = np.hstack(train_data[train_data.label == 1]['tokenized_title'].values)\n",
    "unPopular2 = np.hstack(train_data[train_data.label == 0]['tokenized_content'].values)\n",
    "popular2 = np.hstack(train_data[train_data.label == 1]['tokenized_content'].values)"
   ]
  },
  {
   "cell_type": "code",
   "execution_count": 16,
   "metadata": {},
   "outputs": [
    {
     "name": "stdout",
     "output_type": "stream",
     "text": [
      "[('숲', 269), ('하', 230), ('모동', 211), ('세요', 190), ('안녕', 189), ('가입', 173), ('인사', 156), ('사요', 83), ('드립니다', 79), ('질문', 76), ('습니다', 62), ('동', 56), ('합니다', 40), ('토크', 34), ('반갑', 34), ('리조트', 32), ('튀', 30), ('어요', 28), ('후기', 27), ('팔', 27)]\n",
      "[('하', 2195), ('고', 1004), ('을', 968), ('있', 879), ('필수', 824), ('숲', 604), ('시', 601), ('습니다', 591), ('가입', 583), ('홈', 572), ('주', 564), ('인', 557), ('게', 445), ('바리스타', 437), ('카페', 422), ('중', 413), ('면', 402), ('리조트', 398), ('아', 395), ('사용', 362)]\n"
     ]
    }
   ],
   "source": [
    "unpopular_word_count = Counter(unPopular1) # 시퀀스를 토큰화했을 때 가장 자주 등장하는 20개의 토큰을 확인한다.\n",
    "unpopular_word_count2 = Counter(unPopular2) \n",
    "print(unpopular_word_count.most_common(20))\n",
    "print(unpopular_word_count2.most_common(20))"
   ]
  },
  {
   "cell_type": "code",
   "execution_count": 17,
   "metadata": {},
   "outputs": [
    {
     "name": "stdout",
     "output_type": "stream",
     "text": [
      "[('하', 100), ('세차', 76), ('습니다', 74), ('질문', 73), ('있', 63), ('네요', 58), ('고', 45), ('나요', 44), ('분', 44), ('커피', 43), ('추천', 39), ('주', 36), ('해', 35), ('요', 34), ('을', 33), ('사용', 32), ('게', 32), ('했', 32), ('비', 32), ('숲', 32)]\n",
      "[('하', 3283), ('고', 2550), ('을', 1946), ('있', 1360), ('습니다', 1330), ('게', 945), ('로', 935), ('네요', 840), ('는데', 834), ('보', 818), ('주', 809), ('시', 804), ('해', 791), ('면', 722), ('어', 689), ('되', 652), ('만', 648), ('입니다', 647), ('했', 621), ('지', 603)]\n"
     ]
    }
   ],
   "source": [
    "popular_word_count = Counter(popular1)\n",
    "popular_word_count2 = Counter(popular2)\n",
    "print(popular_word_count.most_common(20))\n",
    "print(popular_word_count2.most_common(20))"
   ]
  },
  {
   "cell_type": "code",
   "execution_count": 18,
   "metadata": {},
   "outputs": [
    {
     "name": "stdout",
     "output_type": "stream",
     "text": [
      "인기 게시글 제목의 평균 길이 : 6.224077328646748\n",
      "비인기 게시글 제목의 평균 길이 : 3.68804920913884\n"
     ]
    },
    {
     "data": {
      "image/png": "[encoded data removed]",
      "text/plain": [
       "<Figure size 1000x500 with 2 Axes>"
      ]
     },
     "metadata": {},
     "output_type": "display_data"
    }
   ],
   "source": [
    "fig,(ax1,ax2) = plt.subplots(1,2,figsize=(10,5))\n",
    "text_len = train_data[train_data['label']==1]['tokenized_title'].map(lambda x: len(x))\n",
    "ax1.hist(text_len, color='blue')\n",
    "ax1.set_title('Popular titles')\n",
    "ax1.set_xlabel('length of samples')\n",
    "ax1.set_ylabel('number of samples')\n",
    "print('인기 게시글 제목의 평균 길이 :', np.mean(text_len))\n",
    "\n",
    "text_len = train_data[train_data['label']==0]['tokenized_title'].map(lambda x: len(x))\n",
    "ax2.hist(text_len, color='red')\n",
    "ax2.set_title('Unpopular titles')\n",
    "fig.suptitle('Words in texts')\n",
    "ax2.set_xlabel('length of samples')\n",
    "ax2.set_ylabel('number of samples')\n",
    "print('비인기 게시글 제목의 평균 길이 :', np.mean(text_len))\n",
    "plt.show()"
   ]
  },
  {
   "cell_type": "code",
   "execution_count": 19,
   "metadata": {},
   "outputs": [
    {
     "name": "stdout",
     "output_type": "stream",
     "text": [
      "인기 게시글 본문의 평균 길이 : 106.94288224956064\n",
      "비인기 게시글 본문의 평균 길이 : 62.26625659050966\n"
     ]
    },
    {
     "data": {
      "image/png": "[encoded data removed]",
      "text/plain": [
       "<Figure size 1000x500 with 2 Axes>"
      ]
     },
     "metadata": {},
     "output_type": "display_data"
    }
   ],
   "source": [
    "fig,(ax1,ax2) = plt.subplots(1,2,figsize=(10,5))\n",
    "text_len = train_data[train_data['label']==1]['tokenized_content'].map(lambda x: len(x))\n",
    "ax1.hist(text_len, color='blue')\n",
    "ax1.set_title('Popular titles')\n",
    "ax1.set_xlabel('length of samples')\n",
    "ax1.set_ylabel('number of samples')\n",
    "print('인기 게시글 본문의 평균 길이 :', np.mean(text_len))\n",
    "\n",
    "text_len = train_data[train_data['label']==0]['tokenized_content'].map(lambda x: len(x))\n",
    "ax2.hist(text_len, color='red')\n",
    "ax2.set_title('Unpopular titles')\n",
    "fig.suptitle('Words in texts')\n",
    "ax2.set_xlabel('length of samples')\n",
    "ax2.set_ylabel('number of samples')\n",
    "print('비인기 게시글 본문의 평균 길이 :', np.mean(text_len))\n",
    "plt.show()"
   ]
  },
  {
   "cell_type": "code",
   "execution_count": 20,
   "metadata": {},
   "outputs": [],
   "source": [
    "X_train = train_data[['tokenized_title', 'tokenized_content']]\n",
    "y_train = train_data['label']\n",
    "X_test= test_data[['tokenized_title', 'tokenized_content']]\n",
    "y_test = test_data['label']"
   ]
  },
  {
   "cell_type": "markdown",
   "metadata": {},
   "source": [
    "### 정수형 인코딩\n",
    "본문과 제목에 대한 인코더를 별도로 정의한다."
   ]
  },
  {
   "cell_type": "code",
   "execution_count": 21,
   "metadata": {},
   "outputs": [],
   "source": [
    "tokenizer_for_title = Tokenizer()\n",
    "tokenizer_for_title.fit_on_texts(X_train.iloc[:, 0].values)"
   ]
  },
  {
   "cell_type": "code",
   "execution_count": 22,
   "metadata": {},
   "outputs": [],
   "source": [
    "tokenizer_for_content = Tokenizer()\n",
    "tokenizer_for_content.fit_on_texts(X_train.iloc[:, 1].values)"
   ]
  },
  {
   "cell_type": "code",
   "execution_count": 23,
   "metadata": {},
   "outputs": [
    {
     "name": "stdout",
     "output_type": "stream",
     "text": [
      "제목 단어 집합(vocabulary)의 크기 : 2928\n",
      "등장 빈도가 1번 이하인 희귀 단어의 수: 1767\n",
      "제목 단어 집합에서 희귀 단어의 비율: 60.34836065573771\n",
      "전체 등장 빈도에서 희귀 단어 등장 빈도 비율: 15.664893617021278\n"
     ]
    }
   ],
   "source": [
    "threshold = 2\n",
    "total_cnt_of_title = len(tokenizer_for_title.word_index) # 단어의 수\n",
    "rare_cnt_of_title = 0 # 등장 빈도수가 threshold보다 작은 단어의 개수를 카운트\n",
    "total_freq_of_title = 0 # 훈련 데이터의 전체 단어 빈도수 총 합\n",
    "rare_freq_of_title = 0 # 등장 빈도수가 threshold보다 작은 단어의 등장 빈도수의 총 합\n",
    "\n",
    "# 단어와 빈도수의 쌍(pair)을 key와 value로 받는다.\n",
    "for key, value in tokenizer_for_title.word_counts.items():\n",
    "    total_freq_of_title = total_freq_of_title + value\n",
    "\n",
    "    # 단어의 등장 빈도수가 threshold보다 작으면\n",
    "    if(value < threshold):\n",
    "        rare_cnt_of_title = rare_cnt_of_title + 1\n",
    "        rare_freq_of_title = rare_freq_of_title + value\n",
    "\n",
    "print('제목 단어 집합(vocabulary)의 크기 :',total_cnt_of_title)\n",
    "print('등장 빈도가 %s번 이하인 희귀 단어의 수: %s'%(threshold - 1, rare_cnt_of_title))\n",
    "print(\"제목 단어 집합에서 희귀 단어의 비율:\", (rare_cnt_of_title / total_cnt_of_title)*100)\n",
    "print(\"전체 등장 빈도에서 희귀 단어 등장 빈도 비율:\", (rare_freq_of_title / total_freq_of_title)*100)"
   ]
  },
  {
   "cell_type": "code",
   "execution_count": 24,
   "metadata": {},
   "outputs": [
    {
     "name": "stdout",
     "output_type": "stream",
     "text": [
      "본문 단어 집합(vocabulary)의 크기 : 14571\n",
      "등장 빈도가 1번 이하인 희귀 단어의 수: 7017\n",
      "본문 단어 집합에서 희귀 단어의 비율: 48.157298744080705\n",
      "전체 등장 빈도에서 희귀 단어 등장 빈도 비율: 3.6440589945990856\n"
     ]
    }
   ],
   "source": [
    "threshold = 2\n",
    "total_cnt_of_content = len(tokenizer_for_content.word_index) # 단어의 수\n",
    "rare_cnt_of_content = 0 # 등장 빈도수가 threshold보다 작은 단어의 개수를 카운트\n",
    "total_freq_of_content = 0 # 훈련 데이터의 전체 단어 빈도수 총 합\n",
    "rare_freq_of_content = 0 # 등장 빈도수가 threshold보다 작은 단어의 등장 빈도수의 총 합\n",
    "\n",
    "# 단어와 빈도수의 쌍(pair)을 key와 value로 받는다.\n",
    "for key, value in tokenizer_for_content.word_counts.items():\n",
    "    total_freq_of_content = total_freq_of_content + value\n",
    "\n",
    "    # 단어의 등장 빈도수가 threshold보다 작으면\n",
    "    if(value < threshold):\n",
    "        rare_cnt_of_content = rare_cnt_of_content + 1\n",
    "        rare_freq_of_content = rare_freq_of_content + value\n",
    "\n",
    "print('본문 단어 집합(vocabulary)의 크기 :',total_cnt_of_content)\n",
    "print('등장 빈도가 %s번 이하인 희귀 단어의 수: %s'%(threshold - 1, rare_cnt_of_content))\n",
    "print(\"본문 단어 집합에서 희귀 단어의 비율:\", (rare_cnt_of_content / total_cnt_of_content)*100)\n",
    "print(\"전체 등장 빈도에서 희귀 단어 등장 빈도 비율:\", (rare_freq_of_content / total_freq_of_content)*100)"
   ]
  },
  {
   "cell_type": "markdown",
   "metadata": {},
   "source": [
    "단어의 등장 횟수가 1회인 단어들은 정수 인코딩 대상에서 제외시킨다. 단, zero padding 토큰과 oov 토큰을 고려하여 +2를 해준다."
   ]
  },
  {
   "cell_type": "code",
   "execution_count": 25,
   "metadata": {},
   "outputs": [
    {
     "name": "stdout",
     "output_type": "stream",
     "text": [
      "단어 집합의 크기 : 1163\n"
     ]
    }
   ],
   "source": [
    "vocab_size_of_title = total_cnt_of_title - rare_cnt_of_title + 2\n",
    "print('단어 집합의 크기 :',vocab_size_of_title)"
   ]
  },
  {
   "cell_type": "code",
   "execution_count": 26,
   "metadata": {},
   "outputs": [
    {
     "name": "stdout",
     "output_type": "stream",
     "text": [
      "단어 집합의 크기 : 7556\n"
     ]
    }
   ],
   "source": [
    "vocab_size_of_content = total_cnt_of_content - rare_cnt_of_content + 2\n",
    "print('단어 집합의 크기 :',vocab_size_of_content)"
   ]
  },
  {
   "cell_type": "code",
   "execution_count": 27,
   "metadata": {},
   "outputs": [],
   "source": [
    "# 정수 인코딩\n",
    "\n",
    "tokenizer_for_title = Tokenizer(vocab_size_of_title, oov_token = 'OOV') \n",
    "tokenizer_for_title.fit_on_texts(X_train.iloc[:, 0].values)\n",
    "X_train['tokenized_title'] = tokenizer_for_title.texts_to_sequences(X_train.iloc[:, 0].values)\n",
    "X_test['tokenized_title'] = tokenizer_for_title.texts_to_sequences(X_test.iloc[:, 0].values)"
   ]
  },
  {
   "cell_type": "code",
   "execution_count": 28,
   "metadata": {},
   "outputs": [],
   "source": [
    "# 정수 인코딩\n",
    "\n",
    "tokenizer_for_content = Tokenizer(vocab_size_of_content, oov_token = 'OOV') \n",
    "tokenizer_for_content.fit_on_texts(X_train.iloc[:, 1].values)\n",
    "X_train['tokenized_content'] = tokenizer_for_content.texts_to_sequences(X_train.iloc[:, 1].values)\n",
    "X_test['tokenized_content'] = tokenizer_for_content.texts_to_sequences(X_test.iloc[:, 1].values)"
   ]
  },
  {
   "cell_type": "code",
   "execution_count": 29,
   "metadata": {},
   "outputs": [
    {
     "name": "stdout",
     "output_type": "stream",
     "text": [
      "제목의 최대 길이 : 31\n",
      "제목의 평균 길이 : 4.956063268892795\n"
     ]
    },
    {
     "data": {
      "image/png": "[encoded data removed]",
      "text/plain": [
       "<Figure size 640x480 with 1 Axes>"
      ]
     },
     "metadata": {},
     "output_type": "display_data"
    }
   ],
   "source": [
    "print('제목의 최대 길이 :',max(len(title) for title in X_train.iloc[:, 0].values))\n",
    "print('제목의 평균 길이 :',sum(map(len, X_train.iloc[:, 0].values))/len(X_train.iloc[:, 0].values))\n",
    "plt.hist([len(title) for title in X_train.iloc[:, 0].values], bins=50)\n",
    "plt.xlabel('length of samples')\n",
    "plt.ylabel('number of samples')\n",
    "plt.show()"
   ]
  },
  {
   "cell_type": "code",
   "execution_count": 30,
   "metadata": {},
   "outputs": [
    {
     "name": "stdout",
     "output_type": "stream",
     "text": [
      "본문의 최대 길이 : 1916\n",
      "본문의 평균 길이 : 84.60456942003515\n"
     ]
    },
    {
     "data": {
      "image/png": "[encoded data removed]",
      "text/plain": [
       "<Figure size 640x480 with 1 Axes>"
      ]
     },
     "metadata": {},
     "output_type": "display_data"
    }
   ],
   "source": [
    "print('본문의 최대 길이 :',max(len(content) for content in X_train.iloc[:, 1].values))\n",
    "print('본문의 평균 길이 :',sum(map(len, X_train.iloc[:, 1].values))/len(X_train.iloc[:, 1].values))\n",
    "plt.hist([len(content) for content in X_train.iloc[:, 1].values], bins=50)\n",
    "plt.xlabel('length of samples')\n",
    "plt.ylabel('number of samples')\n",
    "plt.show()"
   ]
  },
  {
   "cell_type": "code",
   "execution_count": 31,
   "metadata": {},
   "outputs": [],
   "source": [
    "def below_threshold_len(max_len, nested_list):\n",
    "    count = 0\n",
    "    for sentence in nested_list:\n",
    "        if(len(sentence) <= max_len):\n",
    "              count = count + 1\n",
    "    print('전체 샘플 중 길이가 %s 이하인 샘플의 비율: %s'%(max_len, (count / len(nested_list))*100))"
   ]
  },
  {
   "cell_type": "markdown",
   "metadata": {},
   "source": [
    "제목의 최대길이 = 약 30글자  \n",
    "본문의 최대길이 = 약 1000자"
   ]
  },
  {
   "cell_type": "code",
   "execution_count": 32,
   "metadata": {},
   "outputs": [
    {
     "name": "stdout",
     "output_type": "stream",
     "text": [
      "전체 샘플 중 길이가 30 이하인 샘플의 비율: 99.95606326889279\n"
     ]
    }
   ],
   "source": [
    "max_len_title = 30\n",
    "below_threshold_len(max_len_title, X_train.iloc[:, 0])"
   ]
  },
  {
   "cell_type": "code",
   "execution_count": 33,
   "metadata": {},
   "outputs": [
    {
     "name": "stdout",
     "output_type": "stream",
     "text": [
      "전체 샘플 중 길이가 1000 이하인 샘플의 비율: 99.64850615114236\n"
     ]
    }
   ],
   "source": [
    "max_len_content = 1000\n",
    "below_threshold_len(max_len_content, X_train.iloc[:, 1])"
   ]
  },
  {
   "cell_type": "markdown",
   "metadata": {},
   "source": [
    "패딩 시 각 글자의 최대 길이에 맞는 패딩을 별도로 진행한 후, 열 방향으로 결합한다.\n",
    "\n",
    "> 총 데이터 건수 : 3035, 0.25의 비율로 test셋을 분할했기에 train의 총 건수는 2276<br>\n",
    "> padded_sequence_of_title's shape = (2276, 30) ➡️ 30길이로 패딩하기 때문<br>\n",
    "> padded_sequence_of_content's shape = (2276, 1000) ➡️ 1000길이로 패딩하기 때문<br>\n",
    "\n",
    "따라서 훈련 데이터의 형상은 (2276, 1030)을 가지게 된다."
   ]
  },
  {
   "cell_type": "code",
   "execution_count": 34,
   "metadata": {},
   "outputs": [],
   "source": [
    "padded_title_of_train = pad_sequences(X_train['tokenized_title'].values, maxlen=max_len_title)\n",
    "padded_content_of_train = pad_sequences(X_train['tokenized_content'].values, maxlen=max_len_content)\n",
    "X_train = np.concatenate((padded_title_of_train, padded_content_of_train), axis = 1)\n",
    "\n",
    "padded_title_of_test = pad_sequences(X_test['tokenized_title'].values, maxlen=max_len_title)\n",
    "padded_content_of_test = pad_sequences(X_test['tokenized_content'].values, maxlen=max_len_content)\n",
    "X_test = np.concatenate((padded_title_of_test, padded_content_of_test), axis = 1)\n"
   ]
  },
  {
   "cell_type": "code",
   "execution_count": 35,
   "metadata": {},
   "outputs": [
    {
     "data": {
      "text/plain": [
       "array([[   0,    0,    0, ...,   87, 1379,   14],\n",
       "       [   0,    0,    0, ..., 3275,    6,  154],\n",
       "       [   0,    0,    0, ...,   59, 1284,  164],\n",
       "       ...,\n",
       "       [   0,    0,    0, ...,    2,  120,    1],\n",
       "       [   0,    0,    0, ...,  283,    6,   69],\n",
       "       [   0,    0,    0, ...,  354,  666,   18]])"
      ]
     },
     "execution_count": 35,
     "metadata": {},
     "output_type": "execute_result"
    }
   ],
   "source": [
    "X_train.shape\n",
    "X_train"
   ]
  },
  {
   "cell_type": "code",
   "execution_count": 36,
   "metadata": {},
   "outputs": [
    {
     "data": {
      "text/plain": [
       "array([[   0,    0,    0, ...,  333,  928, 3586],\n",
       "       [   0,    0,    0, ...,    9,  333,   18],\n",
       "       [   0,    0,    0, ...,  434,    2,   27],\n",
       "       ...,\n",
       "       [   0,    0,    0, ...,  160,  220,   21],\n",
       "       [   0,    0,    0, ...,   55,   29,    1],\n",
       "       [   0,    0,    0, ..., 7113,    1, 1068]])"
      ]
     },
     "execution_count": 36,
     "metadata": {},
     "output_type": "execute_result"
    }
   ],
   "source": [
    "X_test.shape\n",
    "X_test"
   ]
  },
  {
   "cell_type": "code",
   "execution_count": 37,
   "metadata": {},
   "outputs": [
    {
     "data": {
      "text/plain": [
       "array([1, 1, 1, ..., 0, 1, 1], dtype=int64)"
      ]
     },
     "execution_count": 37,
     "metadata": {},
     "output_type": "execute_result"
    }
   ],
   "source": [
    "y_train = y_train.values\n",
    "y_train"
   ]
  },
  {
   "cell_type": "code",
   "execution_count": 38,
   "metadata": {},
   "outputs": [
    {
     "data": {
      "text/plain": [
       "array([1, 0, 1, 0, 1, 1, 1, 1, 1, 0, 0, 1, 0, 0, 1, 0, 1, 1, 0, 0, 0, 0,\n",
       "       0, 0, 0, 0, 1, 1, 0, 0, 0, 0, 1, 1, 0, 0, 1, 0, 0, 1, 1, 0, 1, 1,\n",
       "       0, 1, 0, 1, 1, 0, 1, 0, 0, 1, 1, 0, 1, 1, 0, 0, 0, 0, 0, 0, 1, 1,\n",
       "       1, 0, 0, 1, 1, 1, 1, 1, 0, 1, 0, 1, 1, 0, 1, 1, 0, 1, 0, 1, 0, 1,\n",
       "       1, 1, 0, 0, 1, 1, 1, 0, 0, 0, 0, 1, 0, 0, 0, 0, 1, 1, 0, 0, 1, 1,\n",
       "       0, 0, 0, 0, 1, 0, 1, 0, 1, 1, 0, 1, 0, 0, 0, 1, 0, 0, 1, 0, 1, 0,\n",
       "       0, 0, 0, 1, 0, 0, 1, 1, 0, 0, 1, 1, 0, 1, 0, 0, 0, 0, 0, 1, 1, 0,\n",
       "       0, 0, 1, 0, 0, 1, 0, 0, 1, 1, 1, 1, 0, 1, 0, 1, 0, 1, 1, 0, 1, 1,\n",
       "       0, 1, 0, 0, 1, 0, 0, 1, 1, 1, 0, 0, 0, 0, 0, 1, 0, 0, 0, 1, 1, 0,\n",
       "       1, 1, 1, 1, 1, 1, 0, 1, 0, 1, 0, 0, 1, 1, 0, 0, 1, 1, 0, 1, 0, 0,\n",
       "       0, 1, 1, 0, 1, 0, 1, 0, 1, 0, 0, 0, 1, 0, 0, 1, 1, 1, 1, 1, 1, 1,\n",
       "       1, 0, 1, 0, 0, 0, 1, 1, 1, 1, 0, 1, 1, 1, 1, 1, 0, 1, 1, 0, 0, 1,\n",
       "       1, 0, 1, 0, 1, 1, 0, 0, 0, 1, 1, 1, 0, 0, 0, 0, 1, 0, 1, 0, 1, 1,\n",
       "       0, 0, 0, 1, 1, 0, 1, 1, 1, 0, 1, 0, 1, 0, 0, 1, 1, 1, 0, 0, 0, 1,\n",
       "       0, 0, 0, 0, 1, 1, 0, 0, 1, 1, 0, 0, 0, 0, 0, 1, 0, 0, 1, 0, 1, 0,\n",
       "       1, 1, 1, 0, 0, 0, 1, 1, 1, 0, 1, 1, 0, 1, 0, 1, 1, 1, 0, 0, 0, 1,\n",
       "       0, 1, 1, 0, 1, 0, 0, 0, 1, 1, 1, 0, 1, 1, 1, 1, 0, 1, 0, 0, 0, 0,\n",
       "       0, 1, 1, 0, 0, 1, 0, 0, 1, 0, 0, 0, 1, 1, 0, 1, 1, 1, 1, 0, 1, 1,\n",
       "       1, 0, 0, 1, 0, 1, 1, 0, 0, 0, 1, 0, 0, 1, 1, 0, 1, 1, 0, 1, 1, 0,\n",
       "       1, 0, 1, 0, 0, 1, 1, 1, 0, 0, 0, 1, 0, 1, 0, 1, 0, 1, 0, 0, 1, 1,\n",
       "       0, 1, 0, 0, 1, 0, 0, 0, 1, 0, 0, 0, 1, 0, 0, 0, 0, 0, 1, 1, 1, 0,\n",
       "       0, 0, 0, 1, 0, 0, 0, 1, 0, 1, 1, 1, 1, 0, 0, 0, 0, 1, 1, 0, 1, 0,\n",
       "       1, 1, 0, 0, 0, 0, 0, 0, 1, 1, 0, 1, 1, 0, 1, 1, 1, 1, 0, 1, 1, 0,\n",
       "       1, 1, 1, 0, 0, 1, 0, 0, 1, 1, 0, 1, 1, 0, 0, 0, 1, 1, 1, 1, 0, 0,\n",
       "       1, 1, 0, 1, 1, 1, 0, 0, 0, 1, 0, 0, 0, 0, 0, 1, 0, 1, 1, 1, 0, 1,\n",
       "       0, 1, 1, 0, 1, 1, 0, 0, 1, 1, 1, 1, 1, 1, 1, 0, 0, 0, 0, 1, 1, 1,\n",
       "       0, 0, 0, 0, 1, 0, 0, 1, 1, 0, 1, 0, 0, 0, 0, 1, 1, 0, 1, 0, 1, 0,\n",
       "       1, 0, 1, 0, 1, 0, 1, 0, 0, 1, 0, 1, 0, 1, 0, 1, 0, 1, 0, 0, 1, 0,\n",
       "       1, 1, 1, 1, 0, 1, 1, 1, 1, 0, 1, 1, 0, 1, 0, 0, 1, 0, 1, 1, 1, 0,\n",
       "       0, 0, 1, 1, 1, 0, 1, 0, 0, 1, 1, 1, 0, 0, 1, 1, 1, 1, 0, 0, 1, 0,\n",
       "       1, 1, 0, 0, 1, 0, 0, 0, 1, 1, 1, 1, 0, 1, 0, 0, 1, 1, 1, 1, 1, 1,\n",
       "       0, 1, 1, 1, 0, 1, 1, 0, 0, 1, 1, 1, 0, 0, 1, 0, 0, 0, 0, 1, 0, 0,\n",
       "       1, 1, 1, 0, 0, 1, 1, 0, 1, 0, 0, 0, 0, 0, 1, 1, 1, 1, 1, 0, 0, 0,\n",
       "       1, 0, 1, 1, 1, 1, 0, 1, 1, 1, 1, 1, 0, 0, 1, 1, 0, 0, 1, 1, 1, 0,\n",
       "       0, 0, 1, 0, 1, 0, 1, 1, 0, 1, 1], dtype=int64)"
      ]
     },
     "execution_count": 38,
     "metadata": {},
     "output_type": "execute_result"
    }
   ],
   "source": [
    "y_test = y_test.values\n",
    "y_test"
   ]
  },
  {
   "cell_type": "markdown",
   "metadata": {},
   "source": [
    "### Bi-Directional LSTM\n",
    "일반적인 LSTM의 경우 forward 방향으로만 순환하며 Input, Forget, Output gate를 거친다. 이와 다르게 Bidirectional LSTM의 경우 forward와 backward로 순환하며 forward 방향으로만 흐를 때의 단점을 보완할 수 있다.\n",
    "\n",
    "forward 방향으로만 흐를 때의 단점이란 아래와 같은 경우가 있다.\n",
    "\n",
    "> 만약 \"나는 _ 를 보고싶다\" 라는 문장이 있다고 가정하자. _에 들어가는 단어를 예측하는 모델을 일반 LSTM과 Bidirectional LSTM모델 두 가지로 설계했다고 하고, 각 단어가 뱉을 수 있는 단어를 각각 w, g라고 하자. 그렇다면 P(w|를 보고싶다)의 확률과 P(g|를 보고싶다)의 조건부 확률을 비교하자면 후자가 월등하게 낮을 것이다. 한국어를 유창하게 하는 사람이라면 해당 문장을 보고 빈칸에 들어갈 수 있는 단어들을 간략하게 추린다. 하지만 forward 방향으로만 계산하는 알고리즘의 입장에서 w에는 무수히 많은 단어가 할당 될 것이다. 이것이 Bi-Directional LSTM이 가지는 장점이다.\n",
    "\n",
    "### 모델 구조\n",
    "모델의 구조는 아래와 같다.\n",
    "\n",
    "<div align=center><img src=\"./image_for_markdown/bi-directional LSTM.png\"></div>\n",
    "\n",
    "LSTM과 동일하게 memory cell들을 거쳐 정방향으로 나열된 word vector와 함께 forward 방향으로 순환한 후, 끝에서 다시 역방향으로 나열된 word vector롸 함께 backward 방향으로 순환한다. 총 순환이 두 번 일어나는 것이다. 그렇게 두 번 순환된 결과를 `concat`하여 output layer에 전달한다.\n",
    "\n",
    "### Data Flow\n",
    "데이터 플로우는 아래와 같다.\n",
    "\n",
    "<div align=center><img src=\"./image_for_markdown/di-directional LSTM data flow.png\"></div>\n",
    "\n",
    "### 아키텍쳐 구조에 대한 함정\n",
    "normal한 LSTM을 사용할때와 마찬가지로, Multi Layer로 구성한다고 해서 반드시 성능이 좋아지기란 불가하다."
   ]
  },
  {
   "cell_type": "code",
   "execution_count": 55,
   "metadata": {},
   "outputs": [
    {
     "name": "stdout",
     "output_type": "stream",
     "text": [
      "WARNING:tensorflow:Layer lstm will not use cuDNN kernels since it doesn't meet the criteria. It will use a generic GPU kernel as fallback when running on GPU.\n",
      "WARNING:tensorflow:Layer lstm will not use cuDNN kernels since it doesn't meet the criteria. It will use a generic GPU kernel as fallback when running on GPU.\n",
      "WARNING:tensorflow:Layer lstm will not use cuDNN kernels since it doesn't meet the criteria. It will use a generic GPU kernel as fallback when running on GPU.\n"
     ]
    },
    {
     "name": "stdout",
     "output_type": "stream",
     "text": [
      "WARNING:tensorflow:Layer lstm_1 will not use cuDNN kernels since it doesn't meet the criteria. It will use a generic GPU kernel as fallback when running on GPU.\n",
      "WARNING:tensorflow:Layer lstm_1 will not use cuDNN kernels since it doesn't meet the criteria. It will use a generic GPU kernel as fallback when running on GPU.\n",
      "WARNING:tensorflow:Layer lstm_1 will not use cuDNN kernels since it doesn't meet the criteria. It will use a generic GPU kernel as fallback when running on GPU.\n",
      "Epoch 1/100\n",
      "72/72 [==============================] - 1072s 15s/step - loss: 0.6475 - acc: 0.6151 - val_loss: 0.6869 - val_acc: 0.5046\n",
      "Epoch 2/100\n",
      "72/72 [==============================] - 964s 13s/step - loss: 0.5255 - acc: 0.7619 - val_loss: 0.5029 - val_acc: 0.7787\n",
      "Epoch 3/100\n",
      "72/72 [==============================] - 917s 13s/step - loss: 0.4035 - acc: 0.8348 - val_loss: 0.4181 - val_acc: 0.8261\n",
      "Epoch 4/100\n",
      "72/72 [==============================] - 979s 14s/step - loss: 0.3316 - acc: 0.8673 - val_loss: 0.4104 - val_acc: 0.8235\n",
      "Epoch 5/100\n",
      "72/72 [==============================] - 1058s 15s/step - loss: 0.3001 - acc: 0.8801 - val_loss: 0.4187 - val_acc: 0.8208\n",
      "Epoch 6/100\n",
      " 3/72 [>.............................] - ETA: 14:54 - loss: 0.3100 - acc: 0.8646"
     ]
    },
    {
     "ename": "KeyboardInterrupt",
     "evalue": "",
     "output_type": "error",
     "traceback": [
      "\u001b[1;31m---------------------------------------------------------------------------\u001b[0m",
      "\u001b[1;31mKeyboardInterrupt\u001b[0m                         Traceback (most recent call last)",
      "\u001b[1;32md:\\Intel\\NLP_Project\\modeling\\6_modeling_with_new_data.ipynb Cell 51\u001b[0m line \u001b[0;36m2\n\u001b[0;32m     <a href='vscode-notebook-cell:/d%3A/Intel/NLP_Project/modeling/6_modeling_with_new_data.ipynb#Y101sZmlsZQ%3D%3D?line=17'>18</a>\u001b[0m cl \u001b[39m=\u001b[39m CSVLogger(\u001b[39m\"\u001b[39m\u001b[39m./new_model/history/1st_train_history.csv\u001b[39m\u001b[39m\"\u001b[39m)\n\u001b[0;32m     <a href='vscode-notebook-cell:/d%3A/Intel/NLP_Project/modeling/6_modeling_with_new_data.ipynb#Y101sZmlsZQ%3D%3D?line=19'>20</a>\u001b[0m model\u001b[39m.\u001b[39mcompile(optimizer\u001b[39m=\u001b[39m\u001b[39m'\u001b[39m\u001b[39mrmsprop\u001b[39m\u001b[39m'\u001b[39m, loss\u001b[39m=\u001b[39m\u001b[39m'\u001b[39m\u001b[39mbinary_crossentropy\u001b[39m\u001b[39m'\u001b[39m, metrics\u001b[39m=\u001b[39m[\u001b[39m'\u001b[39m\u001b[39macc\u001b[39m\u001b[39m'\u001b[39m])\n\u001b[1;32m---> <a href='vscode-notebook-cell:/d%3A/Intel/NLP_Project/modeling/6_modeling_with_new_data.ipynb#Y101sZmlsZQ%3D%3D?line=20'>21</a>\u001b[0m history \u001b[39m=\u001b[39m model\u001b[39m.\u001b[39;49mfit(\n\u001b[0;32m     <a href='vscode-notebook-cell:/d%3A/Intel/NLP_Project/modeling/6_modeling_with_new_data.ipynb#Y101sZmlsZQ%3D%3D?line=21'>22</a>\u001b[0m     X_train,\n\u001b[0;32m     <a href='vscode-notebook-cell:/d%3A/Intel/NLP_Project/modeling/6_modeling_with_new_data.ipynb#Y101sZmlsZQ%3D%3D?line=22'>23</a>\u001b[0m     y_train,\n\u001b[0;32m     <a href='vscode-notebook-cell:/d%3A/Intel/NLP_Project/modeling/6_modeling_with_new_data.ipynb#Y101sZmlsZQ%3D%3D?line=23'>24</a>\u001b[0m     epochs\u001b[39m=\u001b[39;49m\u001b[39m100\u001b[39;49m,\n\u001b[0;32m     <a href='vscode-notebook-cell:/d%3A/Intel/NLP_Project/modeling/6_modeling_with_new_data.ipynb#Y101sZmlsZQ%3D%3D?line=24'>25</a>\u001b[0m     callbacks\u001b[39m=\u001b[39;49m[es, mc, cl],\n\u001b[0;32m     <a href='vscode-notebook-cell:/d%3A/Intel/NLP_Project/modeling/6_modeling_with_new_data.ipynb#Y101sZmlsZQ%3D%3D?line=25'>26</a>\u001b[0m     validation_data \u001b[39m=\u001b[39;49m (X_test, y_test),\n\u001b[0;32m     <a href='vscode-notebook-cell:/d%3A/Intel/NLP_Project/modeling/6_modeling_with_new_data.ipynb#Y101sZmlsZQ%3D%3D?line=26'>27</a>\u001b[0m     batch_size \u001b[39m=\u001b[39;49m \u001b[39m32\u001b[39;49m\n\u001b[0;32m     <a href='vscode-notebook-cell:/d%3A/Intel/NLP_Project/modeling/6_modeling_with_new_data.ipynb#Y101sZmlsZQ%3D%3D?line=27'>28</a>\u001b[0m )\n",
      "File \u001b[1;32md:\\Intel\\NLP_Project\\nlp_project\\lib\\site-packages\\keras\\utils\\traceback_utils.py:65\u001b[0m, in \u001b[0;36mfilter_traceback.<locals>.error_handler\u001b[1;34m(*args, **kwargs)\u001b[0m\n\u001b[0;32m     63\u001b[0m filtered_tb \u001b[39m=\u001b[39m \u001b[39mNone\u001b[39;00m\n\u001b[0;32m     64\u001b[0m \u001b[39mtry\u001b[39;00m:\n\u001b[1;32m---> 65\u001b[0m     \u001b[39mreturn\u001b[39;00m fn(\u001b[39m*\u001b[39margs, \u001b[39m*\u001b[39m\u001b[39m*\u001b[39mkwargs)\n\u001b[0;32m     66\u001b[0m \u001b[39mexcept\u001b[39;00m \u001b[39mException\u001b[39;00m \u001b[39mas\u001b[39;00m e:\n\u001b[0;32m     67\u001b[0m     filtered_tb \u001b[39m=\u001b[39m _process_traceback_frames(e\u001b[39m.\u001b[39m__traceback__)\n",
      "File \u001b[1;32md:\\Intel\\NLP_Project\\nlp_project\\lib\\site-packages\\keras\\engine\\training.py:1564\u001b[0m, in \u001b[0;36mModel.fit\u001b[1;34m(self, x, y, batch_size, epochs, verbose, callbacks, validation_split, validation_data, shuffle, class_weight, sample_weight, initial_epoch, steps_per_epoch, validation_steps, validation_batch_size, validation_freq, max_queue_size, workers, use_multiprocessing)\u001b[0m\n\u001b[0;32m   1556\u001b[0m \u001b[39mwith\u001b[39;00m tf\u001b[39m.\u001b[39mprofiler\u001b[39m.\u001b[39mexperimental\u001b[39m.\u001b[39mTrace(\n\u001b[0;32m   1557\u001b[0m     \u001b[39m\"\u001b[39m\u001b[39mtrain\u001b[39m\u001b[39m\"\u001b[39m,\n\u001b[0;32m   1558\u001b[0m     epoch_num\u001b[39m=\u001b[39mepoch,\n\u001b[1;32m   (...)\u001b[0m\n\u001b[0;32m   1561\u001b[0m     _r\u001b[39m=\u001b[39m\u001b[39m1\u001b[39m,\n\u001b[0;32m   1562\u001b[0m ):\n\u001b[0;32m   1563\u001b[0m     callbacks\u001b[39m.\u001b[39mon_train_batch_begin(step)\n\u001b[1;32m-> 1564\u001b[0m     tmp_logs \u001b[39m=\u001b[39m \u001b[39mself\u001b[39;49m\u001b[39m.\u001b[39;49mtrain_function(iterator)\n\u001b[0;32m   1565\u001b[0m     \u001b[39mif\u001b[39;00m data_handler\u001b[39m.\u001b[39mshould_sync:\n\u001b[0;32m   1566\u001b[0m         context\u001b[39m.\u001b[39masync_wait()\n",
      "File \u001b[1;32md:\\Intel\\NLP_Project\\nlp_project\\lib\\site-packages\\tensorflow\\python\\util\\traceback_utils.py:150\u001b[0m, in \u001b[0;36mfilter_traceback.<locals>.error_handler\u001b[1;34m(*args, **kwargs)\u001b[0m\n\u001b[0;32m    148\u001b[0m filtered_tb \u001b[39m=\u001b[39m \u001b[39mNone\u001b[39;00m\n\u001b[0;32m    149\u001b[0m \u001b[39mtry\u001b[39;00m:\n\u001b[1;32m--> 150\u001b[0m   \u001b[39mreturn\u001b[39;00m fn(\u001b[39m*\u001b[39margs, \u001b[39m*\u001b[39m\u001b[39m*\u001b[39mkwargs)\n\u001b[0;32m    151\u001b[0m \u001b[39mexcept\u001b[39;00m \u001b[39mException\u001b[39;00m \u001b[39mas\u001b[39;00m e:\n\u001b[0;32m    152\u001b[0m   filtered_tb \u001b[39m=\u001b[39m _process_traceback_frames(e\u001b[39m.\u001b[39m__traceback__)\n",
      "File \u001b[1;32md:\\Intel\\NLP_Project\\nlp_project\\lib\\site-packages\\tensorflow\\python\\eager\\def_function.py:915\u001b[0m, in \u001b[0;36mFunction.__call__\u001b[1;34m(self, *args, **kwds)\u001b[0m\n\u001b[0;32m    912\u001b[0m compiler \u001b[39m=\u001b[39m \u001b[39m\"\u001b[39m\u001b[39mxla\u001b[39m\u001b[39m\"\u001b[39m \u001b[39mif\u001b[39;00m \u001b[39mself\u001b[39m\u001b[39m.\u001b[39m_jit_compile \u001b[39melse\u001b[39;00m \u001b[39m\"\u001b[39m\u001b[39mnonXla\u001b[39m\u001b[39m\"\u001b[39m\n\u001b[0;32m    914\u001b[0m \u001b[39mwith\u001b[39;00m OptionalXlaContext(\u001b[39mself\u001b[39m\u001b[39m.\u001b[39m_jit_compile):\n\u001b[1;32m--> 915\u001b[0m   result \u001b[39m=\u001b[39m \u001b[39mself\u001b[39m\u001b[39m.\u001b[39m_call(\u001b[39m*\u001b[39margs, \u001b[39m*\u001b[39m\u001b[39m*\u001b[39mkwds)\n\u001b[0;32m    917\u001b[0m new_tracing_count \u001b[39m=\u001b[39m \u001b[39mself\u001b[39m\u001b[39m.\u001b[39mexperimental_get_tracing_count()\n\u001b[0;32m    918\u001b[0m without_tracing \u001b[39m=\u001b[39m (tracing_count \u001b[39m==\u001b[39m new_tracing_count)\n",
      "File \u001b[1;32md:\\Intel\\NLP_Project\\nlp_project\\lib\\site-packages\\tensorflow\\python\\eager\\def_function.py:947\u001b[0m, in \u001b[0;36mFunction._call\u001b[1;34m(self, *args, **kwds)\u001b[0m\n\u001b[0;32m    944\u001b[0m   \u001b[39mself\u001b[39m\u001b[39m.\u001b[39m_lock\u001b[39m.\u001b[39mrelease()\n\u001b[0;32m    945\u001b[0m   \u001b[39m# In this case we have created variables on the first call, so we run the\u001b[39;00m\n\u001b[0;32m    946\u001b[0m   \u001b[39m# defunned version which is guaranteed to never create variables.\u001b[39;00m\n\u001b[1;32m--> 947\u001b[0m   \u001b[39mreturn\u001b[39;00m \u001b[39mself\u001b[39m\u001b[39m.\u001b[39m_stateless_fn(\u001b[39m*\u001b[39margs, \u001b[39m*\u001b[39m\u001b[39m*\u001b[39mkwds)  \u001b[39m# pylint: disable=not-callable\u001b[39;00m\n\u001b[0;32m    948\u001b[0m \u001b[39melif\u001b[39;00m \u001b[39mself\u001b[39m\u001b[39m.\u001b[39m_stateful_fn \u001b[39mis\u001b[39;00m \u001b[39mnot\u001b[39;00m \u001b[39mNone\u001b[39;00m:\n\u001b[0;32m    949\u001b[0m   \u001b[39m# Release the lock early so that multiple threads can perform the call\u001b[39;00m\n\u001b[0;32m    950\u001b[0m   \u001b[39m# in parallel.\u001b[39;00m\n\u001b[0;32m    951\u001b[0m   \u001b[39mself\u001b[39m\u001b[39m.\u001b[39m_lock\u001b[39m.\u001b[39mrelease()\n",
      "File \u001b[1;32md:\\Intel\\NLP_Project\\nlp_project\\lib\\site-packages\\tensorflow\\python\\eager\\function.py:2496\u001b[0m, in \u001b[0;36mFunction.__call__\u001b[1;34m(self, *args, **kwargs)\u001b[0m\n\u001b[0;32m   2493\u001b[0m \u001b[39mwith\u001b[39;00m \u001b[39mself\u001b[39m\u001b[39m.\u001b[39m_lock:\n\u001b[0;32m   2494\u001b[0m   (graph_function,\n\u001b[0;32m   2495\u001b[0m    filtered_flat_args) \u001b[39m=\u001b[39m \u001b[39mself\u001b[39m\u001b[39m.\u001b[39m_maybe_define_function(args, kwargs)\n\u001b[1;32m-> 2496\u001b[0m \u001b[39mreturn\u001b[39;00m graph_function\u001b[39m.\u001b[39;49m_call_flat(\n\u001b[0;32m   2497\u001b[0m     filtered_flat_args, captured_inputs\u001b[39m=\u001b[39;49mgraph_function\u001b[39m.\u001b[39;49mcaptured_inputs)\n",
      "File \u001b[1;32md:\\Intel\\NLP_Project\\nlp_project\\lib\\site-packages\\tensorflow\\python\\eager\\function.py:1862\u001b[0m, in \u001b[0;36mConcreteFunction._call_flat\u001b[1;34m(self, args, captured_inputs, cancellation_manager)\u001b[0m\n\u001b[0;32m   1858\u001b[0m possible_gradient_type \u001b[39m=\u001b[39m gradients_util\u001b[39m.\u001b[39mPossibleTapeGradientTypes(args)\n\u001b[0;32m   1859\u001b[0m \u001b[39mif\u001b[39;00m (possible_gradient_type \u001b[39m==\u001b[39m gradients_util\u001b[39m.\u001b[39mPOSSIBLE_GRADIENT_TYPES_NONE\n\u001b[0;32m   1860\u001b[0m     \u001b[39mand\u001b[39;00m executing_eagerly):\n\u001b[0;32m   1861\u001b[0m   \u001b[39m# No tape is watching; skip to running the function.\u001b[39;00m\n\u001b[1;32m-> 1862\u001b[0m   \u001b[39mreturn\u001b[39;00m \u001b[39mself\u001b[39m\u001b[39m.\u001b[39m_build_call_outputs(\u001b[39mself\u001b[39;49m\u001b[39m.\u001b[39;49m_inference_function\u001b[39m.\u001b[39;49mcall(\n\u001b[0;32m   1863\u001b[0m       ctx, args, cancellation_manager\u001b[39m=\u001b[39;49mcancellation_manager))\n\u001b[0;32m   1864\u001b[0m forward_backward \u001b[39m=\u001b[39m \u001b[39mself\u001b[39m\u001b[39m.\u001b[39m_select_forward_and_backward_functions(\n\u001b[0;32m   1865\u001b[0m     args,\n\u001b[0;32m   1866\u001b[0m     possible_gradient_type,\n\u001b[0;32m   1867\u001b[0m     executing_eagerly)\n\u001b[0;32m   1868\u001b[0m forward_function, args_with_tangents \u001b[39m=\u001b[39m forward_backward\u001b[39m.\u001b[39mforward()\n",
      "File \u001b[1;32md:\\Intel\\NLP_Project\\nlp_project\\lib\\site-packages\\tensorflow\\python\\eager\\function.py:499\u001b[0m, in \u001b[0;36m_EagerDefinedFunction.call\u001b[1;34m(self, ctx, args, cancellation_manager)\u001b[0m\n\u001b[0;32m    497\u001b[0m \u001b[39mwith\u001b[39;00m _InterpolateFunctionError(\u001b[39mself\u001b[39m):\n\u001b[0;32m    498\u001b[0m   \u001b[39mif\u001b[39;00m cancellation_manager \u001b[39mis\u001b[39;00m \u001b[39mNone\u001b[39;00m:\n\u001b[1;32m--> 499\u001b[0m     outputs \u001b[39m=\u001b[39m execute\u001b[39m.\u001b[39;49mexecute(\n\u001b[0;32m    500\u001b[0m         \u001b[39mstr\u001b[39;49m(\u001b[39mself\u001b[39;49m\u001b[39m.\u001b[39;49msignature\u001b[39m.\u001b[39;49mname),\n\u001b[0;32m    501\u001b[0m         num_outputs\u001b[39m=\u001b[39;49m\u001b[39mself\u001b[39;49m\u001b[39m.\u001b[39;49m_num_outputs,\n\u001b[0;32m    502\u001b[0m         inputs\u001b[39m=\u001b[39;49margs,\n\u001b[0;32m    503\u001b[0m         attrs\u001b[39m=\u001b[39;49mattrs,\n\u001b[0;32m    504\u001b[0m         ctx\u001b[39m=\u001b[39;49mctx)\n\u001b[0;32m    505\u001b[0m   \u001b[39melse\u001b[39;00m:\n\u001b[0;32m    506\u001b[0m     outputs \u001b[39m=\u001b[39m execute\u001b[39m.\u001b[39mexecute_with_cancellation(\n\u001b[0;32m    507\u001b[0m         \u001b[39mstr\u001b[39m(\u001b[39mself\u001b[39m\u001b[39m.\u001b[39msignature\u001b[39m.\u001b[39mname),\n\u001b[0;32m    508\u001b[0m         num_outputs\u001b[39m=\u001b[39m\u001b[39mself\u001b[39m\u001b[39m.\u001b[39m_num_outputs,\n\u001b[1;32m   (...)\u001b[0m\n\u001b[0;32m    511\u001b[0m         ctx\u001b[39m=\u001b[39mctx,\n\u001b[0;32m    512\u001b[0m         cancellation_manager\u001b[39m=\u001b[39mcancellation_manager)\n",
      "File \u001b[1;32md:\\Intel\\NLP_Project\\nlp_project\\lib\\site-packages\\tensorflow\\python\\eager\\execute.py:54\u001b[0m, in \u001b[0;36mquick_execute\u001b[1;34m(op_name, num_outputs, inputs, attrs, ctx, name)\u001b[0m\n\u001b[0;32m     52\u001b[0m \u001b[39mtry\u001b[39;00m:\n\u001b[0;32m     53\u001b[0m   ctx\u001b[39m.\u001b[39mensure_initialized()\n\u001b[1;32m---> 54\u001b[0m   tensors \u001b[39m=\u001b[39m pywrap_tfe\u001b[39m.\u001b[39;49mTFE_Py_Execute(ctx\u001b[39m.\u001b[39;49m_handle, device_name, op_name,\n\u001b[0;32m     55\u001b[0m                                       inputs, attrs, num_outputs)\n\u001b[0;32m     56\u001b[0m \u001b[39mexcept\u001b[39;00m core\u001b[39m.\u001b[39m_NotOkStatusException \u001b[39mas\u001b[39;00m e:\n\u001b[0;32m     57\u001b[0m   \u001b[39mif\u001b[39;00m name \u001b[39mis\u001b[39;00m \u001b[39mnot\u001b[39;00m \u001b[39mNone\u001b[39;00m:\n",
      "\u001b[1;31mKeyboardInterrupt\u001b[0m: "
     ]
    }
   ],
   "source": [
    "import re\n",
    "from tensorflow.keras.layers import Embedding, Dense, LSTM, Bidirectional\n",
    "from tensorflow.keras.models import Sequential\n",
    "from tensorflow.keras.models import load_model\n",
    "from tensorflow.keras.callbacks import EarlyStopping, ModelCheckpoint, CSVLogger\n",
    "\n",
    "embedding_dim = 100\n",
    "hidden_units = 128\n",
    "\n",
    "model = Sequential()\n",
    "model.add(Embedding(1030, 100))\n",
    "model.add(Bidirectional(LSTM(128, recurrent_dropout=0.2, return_sequences=True)))\n",
    "model.add(Bidirectional(LSTM(64, recurrent_dropout=0.2)))\n",
    "model.add(Dense(1, activation='sigmoid'))\n",
    "\n",
    "es = EarlyStopping(monitor='val_loss', mode='min', verbose=0, patience=4)\n",
    "mc = ModelCheckpoint('./new_model/model/multi_layer_128_64_64.h5', monitor='val_acc', mode='max', verbose=0, save_best_only=True)\n",
    "cl = CSVLogger(\"./new_model/history/1st_train_history.csv\")\n",
    "\n",
    "model.compile(optimizer='rmsprop', loss='binary_crossentropy', metrics=['acc'])\n",
    "history = model.fit(\n",
    "    X_train,\n",
    "    y_train,\n",
    "    epochs=100,\n",
    "    callbacks=[es, mc, cl],\n",
    "    validation_data = (X_test, y_test),\n",
    "    batch_size = 32\n",
    ")"
   ]
  },
  {
   "cell_type": "markdown",
   "metadata": {},
   "source": [
    "### Int Encoder 저장\n",
    "\n",
    "차후에 모델을 저장해서 사용할 때 함께 필요한 요소이기에, pickle을 이용해서 저장한다."
   ]
  },
  {
   "cell_type": "code",
   "execution_count": null,
   "metadata": {},
   "outputs": [],
   "source": [
    "import pickle\n",
    "\n",
    "with open('./new_model/tokenizer/1st_tokenizer_title.pickle', 'wb') as file:\n",
    "     pickle.dump(tokenizer_for_title, file)\n",
    "     \n",
    "with open('./new_model/tokenizer/1st_tokenizer_content.pickle', 'wb') as file:\n",
    "     pickle.dump(tokenizer_for_content, file)"
   ]
  },
  {
   "cell_type": "code",
   "execution_count": 40,
   "metadata": {},
   "outputs": [
    {
     "name": "stdout",
     "output_type": "stream",
     "text": [
      "24/24 [==============================] - 5s 66ms/step - loss: 0.3830 - acc: 0.8498\n",
      "테스트 정확도: 0.8498023748397827\n"
     ]
    }
   ],
   "source": [
    "loaded_model = load_model('./new_model/model/128_hidden_64batch_adam.h5')\n",
    "print(\"테스트 정확도:\", loaded_model.evaluate(X_test, y_test)[1])"
   ]
  },
  {
   "cell_type": "code",
   "execution_count": 41,
   "metadata": {},
   "outputs": [],
   "source": [
    "def sentiment_predict(new_title, new_content):\n",
    "    # 전처리\n",
    "    new_title = re.sub(r'[^ㄱ-ㅎㅏ-ㅣ가-힣a-zA-z ]', '', new_title)\n",
    "    new_content = re.sub(r'[^ㄱ-ㅎㅏ-ㅣ가-힣a-zA-z ]', '', new_content)\n",
    "    \n",
    "    # 토큰화\n",
    "    new_title = mecab.morphs(new_title)\n",
    "    new_content = mecab.morphs(new_content)\n",
    "    \n",
    "    # 불용어 제거\n",
    "    new_title = [word for word in new_title if not word in stopwords]\n",
    "    new_content = [word for word in new_content if not word in stopwords]\n",
    "    \n",
    "    # 정수형 인코딩\n",
    "    encoded_title = tokenizer_for_title.texts_to_sequences([new_title])\n",
    "    encoded_content = tokenizer_for_content.texts_to_sequences([new_content])\n",
    "    \n",
    "    # 패딩\n",
    "    padded_title = pad_sequences(encoded_title, maxlen = max_len_title)\n",
    "    padded_content = pad_sequences(encoded_content, maxlen = max_len_content)\n",
    "    \n",
    "    # 결합\n",
    "    new_data = np.concatenate((padded_title, padded_content), axis = 1)\n",
    "    print(new_data.shape)\n",
    "    \n",
    "    score = float(loaded_model.predict(new_data, verbose=0)) # 예측\n",
    "    \n",
    "    if(score > 0.5):\n",
    "        print(\"{:.2f}% 확률로 세상을 놀래킬 수 있겠군요 !\".format(score * 100))\n",
    "    else:\n",
    "        print(\"{:.2f}% 확률로 인기를 얻기 어려울 것 같습니다. :(\".format((1 - score) * 100))"
   ]
  },
  {
   "cell_type": "code",
   "execution_count": 42,
   "metadata": {},
   "outputs": [
    {
     "name": "stdout",
     "output_type": "stream",
     "text": [
      "(1, 1030)\n",
      "73.17% 확률로 세상을 놀래킬 수 있겠군요 !\n"
     ]
    }
   ],
   "source": [
    "sentiment_predict('엔화를 너무 성급하게 환전했나봐요 ㅠㅠ', '여행 계획 없을때 900원대로 떨어지길래 언젠가 가겠지 하고 환전하고 여행일정 잡히고는 890원에 신난다고 환전해놨는데 더 떨어지고 있네요 ㅠㅠ 900원대로 해놓은 엔화는 아까워서 못쓸거같아요 ㅋㅋㅋ 아무래도 집에 모셔놓고 1000원대로 올라가면 가져가서 써야겠어요 ㅋㅋㅋ')"
   ]
  },
  {
   "cell_type": "code",
   "execution_count": 43,
   "metadata": {},
   "outputs": [
    {
     "data": {
      "text/plain": [
       "(759,)"
      ]
     },
     "execution_count": 43,
     "metadata": {},
     "output_type": "execute_result"
    }
   ],
   "source": [
    "y_test.shape"
   ]
  },
  {
   "cell_type": "code",
   "execution_count": 44,
   "metadata": {},
   "outputs": [
    {
     "data": {
      "text/plain": [
       "(numpy.ndarray, (1030,))"
      ]
     },
     "execution_count": 44,
     "metadata": {},
     "output_type": "execute_result"
    }
   ],
   "source": [
    "type(X_test[0]), X_test[0].shape"
   ]
  },
  {
   "cell_type": "code",
   "execution_count": 45,
   "metadata": {},
   "outputs": [],
   "source": [
    "y_pred = []\n",
    "for val in X_test:\n",
    "    y_pred_val = loaded_model.predict(val.reshape(1, -1), verbose = 0)\n",
    "    if y_pred_val > 0.5:\n",
    "        y_pred.append(1)\n",
    "    else:\n",
    "        y_pred.append(0)"
   ]
  },
  {
   "cell_type": "markdown",
   "metadata": {},
   "source": []
  },
  {
   "cell_type": "code",
   "execution_count": 54,
   "metadata": {},
   "outputs": [
    {
     "name": "stdout",
     "output_type": "stream",
     "text": [
      "              precision    recall  f1-score   support\n",
      "\n",
      "           0       0.86      0.83      0.85       376\n",
      "           1       0.84      0.87      0.85       383\n",
      "\n",
      "    accuracy                           0.85       759\n",
      "   macro avg       0.85      0.85      0.85       759\n",
      "weighted avg       0.85      0.85      0.85       759\n",
      "\n"
     ]
    }
   ],
   "source": [
    "y_pred\n",
    "X_test.shape\n",
    "len(y_pred)\n",
    "\n",
    "from sklearn.metrics import classification_report\n",
    "print(classification_report(y_test, y_pred))"
   ]
  },
  {
   "cell_type": "code",
   "execution_count": null,
   "metadata": {},
   "outputs": [],
   "source": []
  }
 ],
 "metadata": {
  "kernelspec": {
   "display_name": "nlp_project",
   "language": "python",
   "name": "python3"
  },
  "language_info": {
   "codemirror_mode": {
    "name": "ipython",
    "version": 3
   },
   "file_extension": ".py",
   "mimetype": "text/x-python",
   "name": "python",
   "nbconvert_exporter": "python",
   "pygments_lexer": "ipython3",
   "version": "3.9.12"
  }
 },
 "nbformat": 4,
 "nbformat_minor": 2
}
